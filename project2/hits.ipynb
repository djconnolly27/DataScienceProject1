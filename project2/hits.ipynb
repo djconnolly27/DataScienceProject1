{
 "cells": [
  {
   "cell_type": "code",
   "execution_count": 1,
   "metadata": {},
   "outputs": [],
   "source": [
    "%matplotlib inline\n",
    "\n",
    "import pandas as pd\n",
    "import numpy as np\n",
    "\n",
    "import matplotlib.pyplot as plt\n",
    "import seaborn as sns\n",
    "sns.set(style='white')\n",
    "\n",
    "# from utils import decorate\n",
    "from thinkstats2 import Pmf, Cdf\n",
    "\n",
    "import thinkstats2\n",
    "import thinkplot\n",
    "from datetime import datetime\n",
    "import time"
   ]
  },
  {
   "cell_type": "code",
   "execution_count": 2,
   "metadata": {},
   "outputs": [],
   "source": [
    "games = pd.read_csv('games.csv')\n",
    "gps = pd.read_csv('gps.csv')\n",
    "rpe = pd.read_csv('rpe.csv')\n",
    "wellness = pd.read_csv('wellness.csv')"
   ]
  },
  {
   "cell_type": "code",
   "execution_count": 3,
   "metadata": {},
   "outputs": [],
   "source": [
    "games.replace('W',1,inplace=True)\n",
    "games.replace('L',0,inplace=True)"
   ]
  },
  {
   "cell_type": "code",
   "execution_count": 4,
   "metadata": {},
   "outputs": [],
   "source": [
    "for i, row in rpe.iterrows():\n",
    "    t = datetime.strptime(row['Date'], '%Y-%m-%d')\n",
    "    a1 = int(t.strftime('%Y%m%d'))\n",
    "    rpe.at[i,'Date'] = a1\n",
    "\n",
    "for i, row in games.iterrows():\n",
    "    t = datetime.strptime(row['Date'], '%Y-%m-%d')\n",
    "    a1 = int(t.strftime('%Y%m%d'))\n",
    "    games.at[i,'Date'] = a1\n",
    "\n",
    "for i, row in wellness.iterrows():\n",
    "    t = datetime.strptime(row['Date'], '%Y-%m-%d')\n",
    "    a1 = int(t.strftime('%Y%m%d'))\n",
    "    wellness.at[i,'Date'] = a1\n",
    "    \n",
    "    #replacing percent strings with float percents\n",
    "    wellness.at[i,'TrainingReadiness'] = float(row['TrainingReadiness'].strip('%'))"
   ]
  },
  {
   "cell_type": "code",
   "execution_count": 5,
   "metadata": {},
   "outputs": [],
   "source": [
    "def standardize_col(df, col):\n",
    "    \n",
    "    player_grouped = df.groupby('PlayerID')\n",
    "    \n",
    "    for p_id in list(range(1,18)):\n",
    "        mean = player_grouped.get_group(p_id)[col].mean()\n",
    "        std = player_grouped.get_group(p_id)[col].std()\n",
    "        for i, row in df.iterrows():\n",
    "            if row['PlayerID'] == p_id:\n",
    "                df.at[i, col+'_Z'] = (row[col]-mean)/std\n",
    "            else:\n",
    "                pass\n",
    "\n",
    "wellness_cols = ['Fatigue', 'Soreness', 'Irritability', 'Desire', 'SleepQuality', 'TrainingReadiness']\n",
    "\n",
    "for col in wellness_cols:\n",
    "    standardize_col(wellness, col)\n",
    "\n",
    "standardize_col(rpe,'RPE')"
   ]
  },
  {
   "cell_type": "code",
   "execution_count": 6,
   "metadata": {},
   "outputs": [
    {
     "data": {
      "text/html": [
       "<div>\n",
       "<style scoped>\n",
       "    .dataframe tbody tr th:only-of-type {\n",
       "        vertical-align: middle;\n",
       "    }\n",
       "\n",
       "    .dataframe tbody tr th {\n",
       "        vertical-align: top;\n",
       "    }\n",
       "\n",
       "    .dataframe thead th {\n",
       "        text-align: right;\n",
       "    }\n",
       "</style>\n",
       "<table border=\"1\" class=\"dataframe\">\n",
       "  <thead>\n",
       "    <tr style=\"text-align: right;\">\n",
       "      <th></th>\n",
       "      <th>GameID</th>\n",
       "      <th>Date</th>\n",
       "      <th>Tournament</th>\n",
       "      <th>TournamentGame</th>\n",
       "      <th>Team</th>\n",
       "      <th>Opponent</th>\n",
       "      <th>Outcome</th>\n",
       "      <th>TeamPoints</th>\n",
       "      <th>TeamPointsAllowed</th>\n",
       "      <th>Fat</th>\n",
       "      <th>Sore</th>\n",
       "      <th>Des</th>\n",
       "      <th>Irr</th>\n",
       "      <th>SleepQ</th>\n",
       "      <th>SleepT</th>\n",
       "      <th>Readiness</th>\n",
       "    </tr>\n",
       "  </thead>\n",
       "  <tbody>\n",
       "    <tr>\n",
       "      <th>0</th>\n",
       "      <td>1</td>\n",
       "      <td>20171130</td>\n",
       "      <td>Dubai</td>\n",
       "      <td>1</td>\n",
       "      <td>Canada</td>\n",
       "      <td>Spain</td>\n",
       "      <td>1</td>\n",
       "      <td>19</td>\n",
       "      <td>0</td>\n",
       "      <td>0.494438</td>\n",
       "      <td>0.974050</td>\n",
       "      <td>1.672751</td>\n",
       "      <td>0.383781</td>\n",
       "      <td>0.079810</td>\n",
       "      <td>8.203125</td>\n",
       "      <td>0.619255</td>\n",
       "    </tr>\n",
       "    <tr>\n",
       "      <th>1</th>\n",
       "      <td>2</td>\n",
       "      <td>20171130</td>\n",
       "      <td>Dubai</td>\n",
       "      <td>2</td>\n",
       "      <td>Canada</td>\n",
       "      <td>Ireland</td>\n",
       "      <td>1</td>\n",
       "      <td>31</td>\n",
       "      <td>0</td>\n",
       "      <td>0.494438</td>\n",
       "      <td>0.974050</td>\n",
       "      <td>1.672751</td>\n",
       "      <td>0.383781</td>\n",
       "      <td>0.079810</td>\n",
       "      <td>8.203125</td>\n",
       "      <td>0.619255</td>\n",
       "    </tr>\n",
       "    <tr>\n",
       "      <th>2</th>\n",
       "      <td>3</td>\n",
       "      <td>20171130</td>\n",
       "      <td>Dubai</td>\n",
       "      <td>3</td>\n",
       "      <td>Canada</td>\n",
       "      <td>Fiji</td>\n",
       "      <td>1</td>\n",
       "      <td>31</td>\n",
       "      <td>14</td>\n",
       "      <td>0.494438</td>\n",
       "      <td>0.974050</td>\n",
       "      <td>1.672751</td>\n",
       "      <td>0.383781</td>\n",
       "      <td>0.079810</td>\n",
       "      <td>8.203125</td>\n",
       "      <td>0.619255</td>\n",
       "    </tr>\n",
       "    <tr>\n",
       "      <th>3</th>\n",
       "      <td>4</td>\n",
       "      <td>20171201</td>\n",
       "      <td>Dubai</td>\n",
       "      <td>4</td>\n",
       "      <td>Canada</td>\n",
       "      <td>France</td>\n",
       "      <td>1</td>\n",
       "      <td>24</td>\n",
       "      <td>19</td>\n",
       "      <td>-0.352514</td>\n",
       "      <td>-1.085568</td>\n",
       "      <td>1.077209</td>\n",
       "      <td>0.132107</td>\n",
       "      <td>-0.475545</td>\n",
       "      <td>7.171875</td>\n",
       "      <td>0.524882</td>\n",
       "    </tr>\n",
       "    <tr>\n",
       "      <th>4</th>\n",
       "      <td>5</td>\n",
       "      <td>20171201</td>\n",
       "      <td>Dubai</td>\n",
       "      <td>5</td>\n",
       "      <td>Canada</td>\n",
       "      <td>Australia</td>\n",
       "      <td>0</td>\n",
       "      <td>7</td>\n",
       "      <td>25</td>\n",
       "      <td>-0.352514</td>\n",
       "      <td>-1.085568</td>\n",
       "      <td>1.077209</td>\n",
       "      <td>0.132107</td>\n",
       "      <td>-0.475545</td>\n",
       "      <td>7.171875</td>\n",
       "      <td>0.524882</td>\n",
       "    </tr>\n",
       "  </tbody>\n",
       "</table>\n",
       "</div>"
      ],
      "text/plain": [
       "   GameID      Date Tournament  TournamentGame    Team   Opponent  Outcome  \\\n",
       "0       1  20171130      Dubai               1  Canada      Spain        1   \n",
       "1       2  20171130      Dubai               2  Canada    Ireland        1   \n",
       "2       3  20171130      Dubai               3  Canada       Fiji        1   \n",
       "3       4  20171201      Dubai               4  Canada     France        1   \n",
       "4       5  20171201      Dubai               5  Canada  Australia        0   \n",
       "\n",
       "   TeamPoints  TeamPointsAllowed       Fat      Sore       Des       Irr  \\\n",
       "0          19                  0  0.494438  0.974050  1.672751  0.383781   \n",
       "1          31                  0  0.494438  0.974050  1.672751  0.383781   \n",
       "2          31                 14  0.494438  0.974050  1.672751  0.383781   \n",
       "3          24                 19 -0.352514 -1.085568  1.077209  0.132107   \n",
       "4           7                 25 -0.352514 -1.085568  1.077209  0.132107   \n",
       "\n",
       "     SleepQ    SleepT  Readiness  \n",
       "0  0.079810  8.203125   0.619255  \n",
       "1  0.079810  8.203125   0.619255  \n",
       "2  0.079810  8.203125   0.619255  \n",
       "3 -0.475545  7.171875   0.524882  \n",
       "4 -0.475545  7.171875   0.524882  "
      ]
     },
     "execution_count": 6,
     "metadata": {},
     "output_type": "execute_result"
    }
   ],
   "source": [
    "date_grouped = wellness.groupby('Date')\n",
    "mean_fat = date_grouped['Fatigue_Z'].mean()\n",
    "mean_sore = date_grouped['Soreness_Z'].mean()\n",
    "mean_des = date_grouped['Desire_Z'].mean()\n",
    "mean_irr = date_grouped['Irritability_Z'].mean()\n",
    "mean_sleepq = date_grouped['SleepQuality_Z'].mean()\n",
    "mean_sleept = date_grouped['SleepHours'].mean()\n",
    "mean_readiness = date_grouped['TrainingReadiness_Z'].mean()\n",
    "\n",
    "for i, row in games.iterrows():\n",
    "    games.at[i, 'Fat'] = mean_fat[row['Date']]\n",
    "    games.at[i, 'Sore'] = mean_sore[row['Date']]\n",
    "    games.at[i, 'Des'] = mean_des[row['Date']]\n",
    "    games.at[i, 'Irr'] = mean_irr[row['Date']]\n",
    "    games.at[i, 'SleepQ'] = mean_sleepq[row['Date']]\n",
    "    games.at[i, 'SleepT'] = mean_sleept[row['Date']]\n",
    "    games.at[i, 'Readiness'] = mean_readiness[row['Date']]\n",
    "    \n",
    "games.head()"
   ]
  },
  {
   "cell_type": "code",
   "execution_count": 7,
   "metadata": {},
   "outputs": [],
   "source": [
    "well2 = wellness.copy()"
   ]
  },
  {
   "cell_type": "code",
   "execution_count": 9,
   "metadata": {},
   "outputs": [],
   "source": [
    "import math"
   ]
  },
  {
   "cell_type": "code",
   "execution_count": 10,
   "metadata": {},
   "outputs": [],
   "source": [
    "well_dates = well2.groupby('Date')\n",
    "columns = ['Fatigue_Z', 'Soreness_Z', 'Desire_Z', 'Irritability_Z',\n",
    "           'SleepQuality_Z', 'USG']\n",
    "\n",
    "for i, row in well2.iterrows():\n",
    "    if row['Date'] < well2['Date'].max():\n",
    "        date = row['Date']\n",
    "        next_date = well2[well2['Date'] > date]['Date'].min()\n",
    "        two_days = well2[well2['Date'] > next_date]['Date'].min()\n",
    "        three_days = well2[well2['Date'] > two_days]['Date'].min()\n",
    "        well_rows_next = well_dates.get_group(next_date)\n",
    "        for i2, row2 in well_rows_next.iterrows():\n",
    "            pid = row2['PlayerID']\n",
    "            if row['PlayerID'] == pid:\n",
    "                for col in columns:\n",
    "                    well2.at[i, col + '_next'] = row2[col]\n",
    "        if (not math.isnan(two_days)):\n",
    "            well_rows_two = well_dates.get_group(two_days)\n",
    "            for i3, row3 in well_rows_two.iterrows():\n",
    "                pid = row3['PlayerID']\n",
    "                if row['PlayerID'] == pid:\n",
    "                    for col in columns:\n",
    "                        well2.at[i, col + '_twodays'] = row3[col]\n",
    "        if (not math.isnan(three_days)):\n",
    "            well_rows_three = well_dates.get_group(three_days)\n",
    "            for i4, row4 in well_rows_three.iterrows():\n",
    "                pid = row4['PlayerID']\n",
    "                if row['PlayerID'] == pid:\n",
    "                    for col in columns:\n",
    "                        well2.at[i, col + '_threedays'] = row4[col]"
   ]
  },
  {
   "cell_type": "code",
   "execution_count": 13,
   "metadata": {},
   "outputs": [],
   "source": [
    "game2 = games[['GameID', 'Date']].copy()\n",
    "gps = pd.merge(game2,gps, on=['GameID'])"
   ]
  },
  {
   "cell_type": "code",
   "execution_count": 14,
   "metadata": {},
   "outputs": [],
   "source": [
    "hits = pd.DataFrame()\n",
    "# df['GameID'] = gps['GameID']    \n",
    "hits['PlayerID'] = gps['PlayerID']\n",
    "hits['Date'] = gps['Date']\n",
    "\n",
    "# df = df.drop_duplicates(subset=['GameID', 'PlayerID', 'Date'], keep='first')\n",
    "hits = hits.drop_duplicates(subset=['PlayerID', 'Date'], keep='first')\n",
    "\n",
    "hits['hits'] = 0\n",
    "\n",
    "for i, row in hits.iterrows():\n",
    "    p1 = gps[gps.PlayerID == row.PlayerID]\n",
    "    p1 = p1[p1.Date == row.Date]\n",
    "    hit = len(p1[p1.AccelImpulse > 5.8])\n",
    "    hits.at[i, 'hits'] = hit"
   ]
  },
  {
   "cell_type": "code",
   "execution_count": 17,
   "metadata": {},
   "outputs": [],
   "source": [
    "x = pd.merge(hits, well2, on=['PlayerID', 'Date'])"
   ]
  },
  {
   "cell_type": "code",
   "execution_count": 18,
   "metadata": {},
   "outputs": [
    {
     "data": {
      "text/html": [
       "<div>\n",
       "<style scoped>\n",
       "    .dataframe tbody tr th:only-of-type {\n",
       "        vertical-align: middle;\n",
       "    }\n",
       "\n",
       "    .dataframe tbody tr th {\n",
       "        vertical-align: top;\n",
       "    }\n",
       "\n",
       "    .dataframe thead th {\n",
       "        text-align: right;\n",
       "    }\n",
       "</style>\n",
       "<table border=\"1\" class=\"dataframe\">\n",
       "  <thead>\n",
       "    <tr style=\"text-align: right;\">\n",
       "      <th></th>\n",
       "      <th>PlayerID</th>\n",
       "      <th>Date</th>\n",
       "      <th>hits</th>\n",
       "      <th>Fatigue</th>\n",
       "      <th>Soreness</th>\n",
       "      <th>Desire</th>\n",
       "      <th>Irritability</th>\n",
       "      <th>BedTime</th>\n",
       "      <th>WakeTime</th>\n",
       "      <th>SleepHours</th>\n",
       "      <th>...</th>\n",
       "      <th>Desire_Z_twodays</th>\n",
       "      <th>Irritability_Z_twodays</th>\n",
       "      <th>SleepQuality_Z_twodays</th>\n",
       "      <th>USG_twodays</th>\n",
       "      <th>Fatigue_Z_threedays</th>\n",
       "      <th>Soreness_Z_threedays</th>\n",
       "      <th>Desire_Z_threedays</th>\n",
       "      <th>Irritability_Z_threedays</th>\n",
       "      <th>SleepQuality_Z_threedays</th>\n",
       "      <th>USG_threedays</th>\n",
       "    </tr>\n",
       "  </thead>\n",
       "  <tbody>\n",
       "    <tr>\n",
       "      <th>0</th>\n",
       "      <td>2</td>\n",
       "      <td>20171130</td>\n",
       "      <td>87</td>\n",
       "      <td>4</td>\n",
       "      <td>4</td>\n",
       "      <td>5</td>\n",
       "      <td>4</td>\n",
       "      <td>21:15:00</td>\n",
       "      <td>06:00:00</td>\n",
       "      <td>8.75</td>\n",
       "      <td>...</td>\n",
       "      <td>NaN</td>\n",
       "      <td>NaN</td>\n",
       "      <td>NaN</td>\n",
       "      <td>NaN</td>\n",
       "      <td>0.207884</td>\n",
       "      <td>-1.060907</td>\n",
       "      <td>-1.234229</td>\n",
       "      <td>-0.186841</td>\n",
       "      <td>-0.100390</td>\n",
       "      <td>NaN</td>\n",
       "    </tr>\n",
       "    <tr>\n",
       "      <th>1</th>\n",
       "      <td>3</td>\n",
       "      <td>20171130</td>\n",
       "      <td>50</td>\n",
       "      <td>5</td>\n",
       "      <td>4</td>\n",
       "      <td>6</td>\n",
       "      <td>4</td>\n",
       "      <td>21:30:00</td>\n",
       "      <td>05:30:00</td>\n",
       "      <td>8.00</td>\n",
       "      <td>...</td>\n",
       "      <td>0.757503</td>\n",
       "      <td>0.143069</td>\n",
       "      <td>-2.711368</td>\n",
       "      <td>NaN</td>\n",
       "      <td>-0.578512</td>\n",
       "      <td>-0.279482</td>\n",
       "      <td>-0.629923</td>\n",
       "      <td>0.143069</td>\n",
       "      <td>-2.711368</td>\n",
       "      <td>NaN</td>\n",
       "    </tr>\n",
       "    <tr>\n",
       "      <th>2</th>\n",
       "      <td>4</td>\n",
       "      <td>20171130</td>\n",
       "      <td>77</td>\n",
       "      <td>3</td>\n",
       "      <td>6</td>\n",
       "      <td>6</td>\n",
       "      <td>5</td>\n",
       "      <td>01:00:00</td>\n",
       "      <td>07:15:00</td>\n",
       "      <td>6.25</td>\n",
       "      <td>...</td>\n",
       "      <td>-2.863271</td>\n",
       "      <td>-0.940299</td>\n",
       "      <td>-0.707157</td>\n",
       "      <td>NaN</td>\n",
       "      <td>-0.374305</td>\n",
       "      <td>0.507847</td>\n",
       "      <td>0.095762</td>\n",
       "      <td>0.463336</td>\n",
       "      <td>0.774277</td>\n",
       "      <td>NaN</td>\n",
       "    </tr>\n",
       "    <tr>\n",
       "      <th>3</th>\n",
       "      <td>6</td>\n",
       "      <td>20171130</td>\n",
       "      <td>48</td>\n",
       "      <td>4</td>\n",
       "      <td>4</td>\n",
       "      <td>4</td>\n",
       "      <td>4</td>\n",
       "      <td>22:00:00</td>\n",
       "      <td>07:15:00</td>\n",
       "      <td>9.25</td>\n",
       "      <td>...</td>\n",
       "      <td>0.126636</td>\n",
       "      <td>0.145116</td>\n",
       "      <td>0.022630</td>\n",
       "      <td>NaN</td>\n",
       "      <td>-1.012796</td>\n",
       "      <td>-0.609797</td>\n",
       "      <td>0.126636</td>\n",
       "      <td>0.145116</td>\n",
       "      <td>1.212985</td>\n",
       "      <td>NaN</td>\n",
       "    </tr>\n",
       "    <tr>\n",
       "      <th>4</th>\n",
       "      <td>7</td>\n",
       "      <td>20171130</td>\n",
       "      <td>50</td>\n",
       "      <td>5</td>\n",
       "      <td>4</td>\n",
       "      <td>6</td>\n",
       "      <td>4</td>\n",
       "      <td>21:00:00</td>\n",
       "      <td>06:00:00</td>\n",
       "      <td>9.00</td>\n",
       "      <td>...</td>\n",
       "      <td>-1.365070</td>\n",
       "      <td>-1.334150</td>\n",
       "      <td>-1.150014</td>\n",
       "      <td>NaN</td>\n",
       "      <td>-1.544021</td>\n",
       "      <td>-1.613439</td>\n",
       "      <td>-3.073898</td>\n",
       "      <td>-1.334150</td>\n",
       "      <td>0.187121</td>\n",
       "      <td>NaN</td>\n",
       "    </tr>\n",
       "  </tbody>\n",
       "</table>\n",
       "<p>5 rows × 44 columns</p>\n",
       "</div>"
      ],
      "text/plain": [
       "   PlayerID      Date  hits  Fatigue  Soreness  Desire  Irritability  \\\n",
       "0         2  20171130    87        4         4       5             4   \n",
       "1         3  20171130    50        5         4       6             4   \n",
       "2         4  20171130    77        3         6       6             5   \n",
       "3         6  20171130    48        4         4       4             4   \n",
       "4         7  20171130    50        5         4       6             4   \n",
       "\n",
       "    BedTime  WakeTime  SleepHours  ...  Desire_Z_twodays  \\\n",
       "0  21:15:00  06:00:00        8.75  ...               NaN   \n",
       "1  21:30:00  05:30:00        8.00  ...          0.757503   \n",
       "2  01:00:00  07:15:00        6.25  ...         -2.863271   \n",
       "3  22:00:00  07:15:00        9.25  ...          0.126636   \n",
       "4  21:00:00  06:00:00        9.00  ...         -1.365070   \n",
       "\n",
       "   Irritability_Z_twodays SleepQuality_Z_twodays USG_twodays  \\\n",
       "0                     NaN                    NaN         NaN   \n",
       "1                0.143069              -2.711368         NaN   \n",
       "2               -0.940299              -0.707157         NaN   \n",
       "3                0.145116               0.022630         NaN   \n",
       "4               -1.334150              -1.150014         NaN   \n",
       "\n",
       "  Fatigue_Z_threedays Soreness_Z_threedays Desire_Z_threedays  \\\n",
       "0            0.207884            -1.060907          -1.234229   \n",
       "1           -0.578512            -0.279482          -0.629923   \n",
       "2           -0.374305             0.507847           0.095762   \n",
       "3           -1.012796            -0.609797           0.126636   \n",
       "4           -1.544021            -1.613439          -3.073898   \n",
       "\n",
       "  Irritability_Z_threedays  SleepQuality_Z_threedays USG_threedays  \n",
       "0                -0.186841                 -0.100390           NaN  \n",
       "1                 0.143069                 -2.711368           NaN  \n",
       "2                 0.463336                  0.774277           NaN  \n",
       "3                 0.145116                  1.212985           NaN  \n",
       "4                -1.334150                  0.187121           NaN  \n",
       "\n",
       "[5 rows x 44 columns]"
      ]
     },
     "execution_count": 18,
     "metadata": {},
     "output_type": "execute_result"
    }
   ],
   "source": [
    "x.head()"
   ]
  },
  {
   "cell_type": "code",
   "execution_count": 20,
   "metadata": {},
   "outputs": [],
   "source": [
    "import statsmodels.formula.api as smf"
   ]
  },
  {
   "cell_type": "code",
   "execution_count": 31,
   "metadata": {},
   "outputs": [
    {
     "data": {
      "text/html": [
       "<table class=\"simpletable\">\n",
       "<caption>OLS Regression Results</caption>\n",
       "<tr>\n",
       "  <th>Dep. Variable:</th>     <td>Soreness_Z_next</td> <th>  R-squared:         </th> <td>   0.031</td>\n",
       "</tr>\n",
       "<tr>\n",
       "  <th>Model:</th>                   <td>OLS</td>       <th>  Adj. R-squared:    </th> <td>   0.026</td>\n",
       "</tr>\n",
       "<tr>\n",
       "  <th>Method:</th>             <td>Least Squares</td>  <th>  F-statistic:       </th> <td>   5.348</td>\n",
       "</tr>\n",
       "<tr>\n",
       "  <th>Date:</th>             <td>Thu, 11 Apr 2019</td> <th>  Prob (F-statistic):</th>  <td>0.0220</td> \n",
       "</tr>\n",
       "<tr>\n",
       "  <th>Time:</th>                 <td>22:46:43</td>     <th>  Log-Likelihood:    </th> <td> -244.21</td>\n",
       "</tr>\n",
       "<tr>\n",
       "  <th>No. Observations:</th>      <td>   167</td>      <th>  AIC:               </th> <td>   492.4</td>\n",
       "</tr>\n",
       "<tr>\n",
       "  <th>Df Residuals:</th>          <td>   165</td>      <th>  BIC:               </th> <td>   498.6</td>\n",
       "</tr>\n",
       "<tr>\n",
       "  <th>Df Model:</th>              <td>     1</td>      <th>                     </th>     <td> </td>   \n",
       "</tr>\n",
       "<tr>\n",
       "  <th>Covariance Type:</th>      <td>nonrobust</td>    <th>                     </th>     <td> </td>   \n",
       "</tr>\n",
       "</table>\n",
       "<table class=\"simpletable\">\n",
       "<tr>\n",
       "      <td></td>         <th>coef</th>     <th>std err</th>      <th>t</th>      <th>P>|t|</th>  <th>[0.025</th>    <th>0.975]</th>  \n",
       "</tr>\n",
       "<tr>\n",
       "  <th>Intercept</th> <td>   -0.4659</td> <td>    0.171</td> <td>   -2.728</td> <td> 0.007</td> <td>   -0.803</td> <td>   -0.129</td>\n",
       "</tr>\n",
       "<tr>\n",
       "  <th>hits</th>      <td>   -0.0080</td> <td>    0.003</td> <td>   -2.313</td> <td> 0.022</td> <td>   -0.015</td> <td>   -0.001</td>\n",
       "</tr>\n",
       "</table>\n",
       "<table class=\"simpletable\">\n",
       "<tr>\n",
       "  <th>Omnibus:</th>       <td> 3.121</td> <th>  Durbin-Watson:     </th> <td>   1.861</td>\n",
       "</tr>\n",
       "<tr>\n",
       "  <th>Prob(Omnibus):</th> <td> 0.210</td> <th>  Jarque-Bera (JB):  </th> <td>   2.659</td>\n",
       "</tr>\n",
       "<tr>\n",
       "  <th>Skew:</th>          <td> 0.279</td> <th>  Prob(JB):          </th> <td>   0.265</td>\n",
       "</tr>\n",
       "<tr>\n",
       "  <th>Kurtosis:</th>      <td> 3.265</td> <th>  Cond. No.          </th> <td>    104.</td>\n",
       "</tr>\n",
       "</table><br/><br/>Warnings:<br/>[1] Standard Errors assume that the covariance matrix of the errors is correctly specified."
      ],
      "text/plain": [
       "<class 'statsmodels.iolib.summary.Summary'>\n",
       "\"\"\"\n",
       "                            OLS Regression Results                            \n",
       "==============================================================================\n",
       "Dep. Variable:        Soreness_Z_next   R-squared:                       0.031\n",
       "Model:                            OLS   Adj. R-squared:                  0.026\n",
       "Method:                 Least Squares   F-statistic:                     5.348\n",
       "Date:                Thu, 11 Apr 2019   Prob (F-statistic):             0.0220\n",
       "Time:                        22:46:43   Log-Likelihood:                -244.21\n",
       "No. Observations:                 167   AIC:                             492.4\n",
       "Df Residuals:                     165   BIC:                             498.6\n",
       "Df Model:                           1                                         \n",
       "Covariance Type:            nonrobust                                         \n",
       "==============================================================================\n",
       "                 coef    std err          t      P>|t|      [0.025      0.975]\n",
       "------------------------------------------------------------------------------\n",
       "Intercept     -0.4659      0.171     -2.728      0.007      -0.803      -0.129\n",
       "hits          -0.0080      0.003     -2.313      0.022      -0.015      -0.001\n",
       "==============================================================================\n",
       "Omnibus:                        3.121   Durbin-Watson:                   1.861\n",
       "Prob(Omnibus):                  0.210   Jarque-Bera (JB):                2.659\n",
       "Skew:                           0.279   Prob(JB):                        0.265\n",
       "Kurtosis:                       3.265   Cond. No.                         104.\n",
       "==============================================================================\n",
       "\n",
       "Warnings:\n",
       "[1] Standard Errors assume that the covariance matrix of the errors is correctly specified.\n",
       "\"\"\""
      ]
     },
     "execution_count": 31,
     "metadata": {},
     "output_type": "execute_result"
    }
   ],
   "source": [
    "model = smf.ols('Soreness_Z_next ~ hits', data=x)\n",
    "res = model.fit()\n",
    "res.summary()"
   ]
  },
  {
   "cell_type": "code",
   "execution_count": 33,
   "metadata": {},
   "outputs": [
    {
     "data": {
      "text/plain": [
       "[<matplotlib.lines.Line2D at 0x7fb2a8f37550>]"
      ]
     },
     "execution_count": 33,
     "metadata": {},
     "output_type": "execute_result"
    },
    {
     "data": {
      "image/png": "[encoded data removed]",
      "text/plain": [
       "<Figure size 432x288 with 1 Axes>"
      ]
     },
     "metadata": {
      "needs_background": "light"
     },
     "output_type": "display_data"
    }
   ],
   "source": [
    "plt.plot(x.hits, x.Soreness_Z_next, 'o',alpha=0.3)"
   ]
  },
  {
   "cell_type": "code",
   "execution_count": 34,
   "metadata": {},
   "outputs": [
    {
     "data": {
      "text/plain": [
       "[<matplotlib.lines.Line2D at 0x7fb2a8ec5470>]"
      ]
     },
     "execution_count": 34,
     "metadata": {},
     "output_type": "execute_result"
    },
    {
     "data": {
      "image/png": "[encoded data removed]",
      "text/plain": [
       "<Figure size 432x288 with 1 Axes>"
      ]
     },
     "metadata": {
      "needs_background": "light"
     },
     "output_type": "display_data"
    }
   ],
   "source": [
    "grouped = x.groupby('hits')\n",
    "series = grouped['Soreness_Z'].mean()\n",
    "plt.plot(series,'o')"
   ]
  },
  {
   "cell_type": "code",
   "execution_count": 36,
   "metadata": {},
   "outputs": [
    {
     "data": {
      "text/plain": [
       "Text(0.5, 1.0, 'Potential Hits vs. Fatigue Rating')"
      ]
     },
     "execution_count": 36,
     "metadata": {},
     "output_type": "execute_result"
    },
    {
     "data": {
      "image/png": "[encoded data removed]",
      "text/plain": [
       "<Figure size 432x288 with 1 Axes>"
      ]
     },
     "metadata": {},
     "output_type": "display_data"
    }
   ],
   "source": [
    "df = pd.DataFrame()\n",
    "df['hits'] = np.linspace(0,120)\n",
    "# df['fat2'] = df['Fatigue']**2\n",
    "# plt.plot(hits_by_fatz, 'o', alpha=0.5)\n",
    "plt.plot(x.hits, x.Soreness_Z_next,'o')\n",
    "pred = res.predict(df)\n",
    "plt.plot(df['hits'], pred)\n",
    "sns.set(style=\"darkgrid\", palette='bright',color_codes=True)\n",
    "plt.xlabel('Potential Hits')\n",
    "plt.ylabel('Fatigue Rating')\n",
    "plt.title('Potential Hits vs. Fatigue Rating')"
   ]
  },
  {
   "cell_type": "code",
   "execution_count": 26,
   "metadata": {},
   "outputs": [
    {
     "data": {
      "text/plain": [
       "<matplotlib.axes._subplots.AxesSubplot at 0x7fb2aa9c20b8>"
      ]
     },
     "execution_count": 26,
     "metadata": {},
     "output_type": "execute_result"
    },
    {
     "data": {
      "image/png": "[encoded data removed]",
      "text/plain": [
       "<Figure size 432x288 with 2 Axes>"
      ]
     },
     "metadata": {
      "needs_background": "light"
     },
     "output_type": "display_data"
    }
   ],
   "source": [
    "corr = x.corr()\n",
    "sns.heatmap(corr, xticklabels=corr.columns, yticklabels=corr.columns)"
   ]
  },
  {
   "cell_type": "code",
   "execution_count": 28,
   "metadata": {},
   "outputs": [
    {
     "data": {
      "text/plain": [
       "Text(0, 0.5, 'Standardized Fatigue Rating')"
      ]
     },
     "execution_count": 28,
     "metadata": {},
     "output_type": "execute_result"
    },
    {
     "data": {
      "image/png": "[encoded data removed]",
      "text/plain": [
       "<Figure size 432x288 with 1 Axes>"
      ]
     },
     "metadata": {
      "needs_background": "light"
     },
     "output_type": "display_data"
    }
   ],
   "source": [
    "grouped = x.groupby('hits')\n",
    "hits_by_fatz = grouped['Fatigue_Z'].mean()\n",
    "plt.plot(hits_by_fatz, 'o')\n",
    "plt.xlabel('Potential Hits')\n",
    "plt.ylabel('Standardized Fatigue Rating')"
   ]
  },
  {
   "cell_type": "code",
   "execution_count": 39,
   "metadata": {},
   "outputs": [
    {
     "data": {
      "text/plain": [
       "Index(['PlayerID', 'Date', 'hits', 'Fatigue', 'Soreness', 'Desire',\n",
       "       'Irritability', 'BedTime', 'WakeTime', 'SleepHours', 'SleepQuality',\n",
       "       'MonitoringScore', 'Pain', 'Illness', 'Menstruation', 'Nutrition',\n",
       "       'NutritionAdjustment', 'USGMeasurement', 'USG', 'TrainingReadiness',\n",
       "       'Fatigue_Z', 'Soreness_Z', 'Irritability_Z', 'Desire_Z',\n",
       "       'SleepQuality_Z', 'TrainingReadiness_Z', 'Fatigue_Z_next',\n",
       "       'Soreness_Z_next', 'Desire_Z_next', 'Irritability_Z_next',\n",
       "       'SleepQuality_Z_next', 'USG_next', 'Fatigue_Z_twodays',\n",
       "       'Soreness_Z_twodays', 'Desire_Z_twodays', 'Irritability_Z_twodays',\n",
       "       'SleepQuality_Z_twodays', 'USG_twodays', 'Fatigue_Z_threedays',\n",
       "       'Soreness_Z_threedays', 'Desire_Z_threedays',\n",
       "       'Irritability_Z_threedays', 'SleepQuality_Z_threedays',\n",
       "       'USG_threedays'],\n",
       "      dtype='object')"
      ]
     },
     "execution_count": 39,
     "metadata": {},
     "output_type": "execute_result"
    }
   ],
   "source": [
    "x.columns"
   ]
  },
  {
   "cell_type": "code",
   "execution_count": 42,
   "metadata": {},
   "outputs": [],
   "source": [
    "columns = ['Fatigue_Z', 'Soreness_Z', 'Irritability_Z', 'Desire_Z',\n",
    "       'SleepQuality_Z', 'TrainingReadiness_Z', 'Fatigue_Z_next',\n",
    "       'Soreness_Z_next', 'Desire_Z_next', 'Irritability_Z_next',\n",
    "       'SleepQuality_Z_next', 'USG_next', 'Fatigue_Z_twodays',\n",
    "       'Soreness_Z_twodays', 'Desire_Z_twodays', 'Irritability_Z_twodays',\n",
    "       'SleepQuality_Z_twodays', 'USG_twodays', 'Fatigue_Z_threedays',\n",
    "       'Soreness_Z_threedays', 'Desire_Z_threedays',\n",
    "       'Irritability_Z_threedays', 'SleepQuality_Z_threedays',\n",
    "       'USG_threedays']"
   ]
  },
  {
   "cell_type": "code",
   "execution_count": 43,
   "metadata": {},
   "outputs": [
    {
     "data": {
      "text/html": [
       "<table class=\"simpletable\">\n",
       "<caption>OLS Regression Results</caption>\n",
       "<tr>\n",
       "  <th>Dep. Variable:</th>     <td>Fatigue_Z_next</td>  <th>  R-squared:         </th> <td>   0.003</td>\n",
       "</tr>\n",
       "<tr>\n",
       "  <th>Model:</th>                   <td>OLS</td>       <th>  Adj. R-squared:    </th> <td>  -0.004</td>\n",
       "</tr>\n",
       "<tr>\n",
       "  <th>Method:</th>             <td>Least Squares</td>  <th>  F-statistic:       </th> <td>  0.4163</td>\n",
       "</tr>\n",
       "<tr>\n",
       "  <th>Date:</th>             <td>Thu, 11 Apr 2019</td> <th>  Prob (F-statistic):</th>  <td> 0.520</td> \n",
       "</tr>\n",
       "<tr>\n",
       "  <th>Time:</th>                 <td>22:51:58</td>     <th>  Log-Likelihood:    </th> <td> -266.64</td>\n",
       "</tr>\n",
       "<tr>\n",
       "  <th>No. Observations:</th>      <td>   167</td>      <th>  AIC:               </th> <td>   537.3</td>\n",
       "</tr>\n",
       "<tr>\n",
       "  <th>Df Residuals:</th>          <td>   165</td>      <th>  BIC:               </th> <td>   543.5</td>\n",
       "</tr>\n",
       "<tr>\n",
       "  <th>Df Model:</th>              <td>     1</td>      <th>                     </th>     <td> </td>   \n",
       "</tr>\n",
       "<tr>\n",
       "  <th>Covariance Type:</th>      <td>nonrobust</td>    <th>                     </th>     <td> </td>   \n",
       "</tr>\n",
       "</table>\n",
       "<table class=\"simpletable\">\n",
       "<tr>\n",
       "      <td></td>         <th>coef</th>     <th>std err</th>      <th>t</th>      <th>P>|t|</th>  <th>[0.025</th>    <th>0.975]</th>  \n",
       "</tr>\n",
       "<tr>\n",
       "  <th>Intercept</th> <td>   -0.6092</td> <td>    0.195</td> <td>   -3.119</td> <td> 0.002</td> <td>   -0.995</td> <td>   -0.223</td>\n",
       "</tr>\n",
       "<tr>\n",
       "  <th>hits</th>      <td>    0.0025</td> <td>    0.004</td> <td>    0.645</td> <td> 0.520</td> <td>   -0.005</td> <td>    0.010</td>\n",
       "</tr>\n",
       "</table>\n",
       "<table class=\"simpletable\">\n",
       "<tr>\n",
       "  <th>Omnibus:</th>       <td> 2.055</td> <th>  Durbin-Watson:     </th> <td>   1.811</td>\n",
       "</tr>\n",
       "<tr>\n",
       "  <th>Prob(Omnibus):</th> <td> 0.358</td> <th>  Jarque-Bera (JB):  </th> <td>   1.969</td>\n",
       "</tr>\n",
       "<tr>\n",
       "  <th>Skew:</th>          <td>-0.264</td> <th>  Prob(JB):          </th> <td>   0.374</td>\n",
       "</tr>\n",
       "<tr>\n",
       "  <th>Kurtosis:</th>      <td> 2.942</td> <th>  Cond. No.          </th> <td>    104.</td>\n",
       "</tr>\n",
       "</table><br/><br/>Warnings:<br/>[1] Standard Errors assume that the covariance matrix of the errors is correctly specified."
      ],
      "text/plain": [
       "<class 'statsmodels.iolib.summary.Summary'>\n",
       "\"\"\"\n",
       "                            OLS Regression Results                            \n",
       "==============================================================================\n",
       "Dep. Variable:         Fatigue_Z_next   R-squared:                       0.003\n",
       "Model:                            OLS   Adj. R-squared:                 -0.004\n",
       "Method:                 Least Squares   F-statistic:                    0.4163\n",
       "Date:                Thu, 11 Apr 2019   Prob (F-statistic):              0.520\n",
       "Time:                        22:51:58   Log-Likelihood:                -266.64\n",
       "No. Observations:                 167   AIC:                             537.3\n",
       "Df Residuals:                     165   BIC:                             543.5\n",
       "Df Model:                           1                                         \n",
       "Covariance Type:            nonrobust                                         \n",
       "==============================================================================\n",
       "                 coef    std err          t      P>|t|      [0.025      0.975]\n",
       "------------------------------------------------------------------------------\n",
       "Intercept     -0.6092      0.195     -3.119      0.002      -0.995      -0.223\n",
       "hits           0.0025      0.004      0.645      0.520      -0.005       0.010\n",
       "==============================================================================\n",
       "Omnibus:                        2.055   Durbin-Watson:                   1.811\n",
       "Prob(Omnibus):                  0.358   Jarque-Bera (JB):                1.969\n",
       "Skew:                          -0.264   Prob(JB):                        0.374\n",
       "Kurtosis:                       2.942   Cond. No.                         104.\n",
       "==============================================================================\n",
       "\n",
       "Warnings:\n",
       "[1] Standard Errors assume that the covariance matrix of the errors is correctly specified.\n",
       "\"\"\""
      ]
     },
     "execution_count": 43,
     "metadata": {},
     "output_type": "execute_result"
    }
   ],
   "source": [
    "model = smf.ols('Fatigue_Z_next ~ hits', data=x)\n",
    "res = model.fit()\n",
    "res.summary()"
   ]
  },
  {
   "cell_type": "code",
   "execution_count": 45,
   "metadata": {},
   "outputs": [
    {
     "name": "stdout",
     "output_type": "stream",
     "text": [
      "Fatigue_Z\n",
      "PVal:  Intercept    0.071620\n",
      "hits         0.000956\n",
      "dtype: float64\n",
      "Rsquared:  0.054016286496747834\n",
      "Soreness_Z\n",
      "PVal:  Intercept    0.002402\n",
      "hits         0.000061\n",
      "dtype: float64\n",
      "Rsquared:  0.07847158765587348\n",
      "Irritability_Z\n",
      "PVal:  Intercept    0.502677\n",
      "hits         0.233126\n",
      "dtype: float64\n",
      "Rsquared:  0.007208888585039985\n",
      "Desire_Z\n",
      "PVal:  Intercept    0.000426\n",
      "hits         0.022540\n",
      "dtype: float64\n",
      "Rsquared:  0.02613379065083421\n",
      "SleepQuality_Z\n",
      "PVal:  Intercept    0.127361\n",
      "hits         0.734562\n",
      "dtype: float64\n",
      "Rsquared:  0.0005848848087948166\n",
      "TrainingReadiness_Z\n",
      "PVal:  Intercept    0.019528\n",
      "hits         0.415617\n",
      "dtype: float64\n",
      "Rsquared:  0.0033666988221909833\n",
      "Fatigue_Z_next\n",
      "PVal:  Intercept    0.002145\n",
      "hits         0.519700\n",
      "dtype: float64\n",
      "Rsquared:  0.0025164974344664692\n",
      "Soreness_Z_next\n",
      "PVal:  Intercept    0.007055\n",
      "hits         0.021977\n",
      "dtype: float64\n",
      "Rsquared:  0.03139633032542\n",
      "Desire_Z_next\n",
      "PVal:  Intercept    0.816242\n",
      "hits         0.102702\n",
      "dtype: float64\n",
      "Rsquared:  0.016058425190611403\n",
      "Irritability_Z_next\n",
      "PVal:  Intercept    0.106372\n",
      "hits         0.197331\n",
      "dtype: float64\n",
      "Rsquared:  0.010052527582768311\n",
      "SleepQuality_Z_next\n",
      "PVal:  Intercept    0.11177\n",
      "hits         0.05015\n",
      "dtype: float64\n",
      "Rsquared:  0.02305163547826472\n",
      "USG_next\n",
      "PVal:  Intercept    1.948585e-119\n",
      "hits          4.678211e-01\n",
      "dtype: float64\n",
      "Rsquared:  0.005337076840886801\n",
      "Fatigue_Z_twodays\n",
      "PVal:  Intercept    0.006881\n",
      "hits         0.167177\n",
      "dtype: float64\n",
      "Rsquared:  0.013682121970306826\n",
      "Soreness_Z_twodays\n",
      "PVal:  Intercept    0.527694\n",
      "hits         0.000038\n",
      "dtype: float64\n",
      "Rsquared:  0.11518808401224245\n",
      "Desire_Z_twodays\n",
      "PVal:  Intercept    0.503790\n",
      "hits         0.184125\n",
      "dtype: float64\n",
      "Rsquared:  0.012655616831966587\n",
      "Irritability_Z_twodays\n",
      "PVal:  Intercept    0.282284\n",
      "hits         0.615955\n",
      "dtype: float64\n",
      "Rsquared:  0.0018148957343123717\n",
      "SleepQuality_Z_twodays\n",
      "PVal:  Intercept    0.609104\n",
      "hits         0.034988\n",
      "dtype: float64\n",
      "Rsquared:  0.03158902690358778\n",
      "USG_twodays\n",
      "PVal:  Intercept    8.029552e-44\n",
      "hits         6.686173e-01\n",
      "dtype: float64\n",
      "Rsquared:  0.005453793584959343\n",
      "Fatigue_Z_threedays\n",
      "PVal:  Intercept    0.001543\n",
      "hits         0.157599\n",
      "dtype: float64\n",
      "Rsquared:  0.013916976136192805\n",
      "Soreness_Z_threedays\n",
      "PVal:  Intercept    0.453035\n",
      "hits         0.000076\n",
      "dtype: float64\n",
      "Rsquared:  0.10405459563188224\n",
      "Desire_Z_threedays\n",
      "PVal:  Intercept    0.027672\n",
      "hits         0.040891\n",
      "dtype: float64\n",
      "Rsquared:  0.028910526744307496\n",
      "Irritability_Z_threedays\n",
      "PVal:  Intercept    0.610835\n",
      "hits         0.092942\n",
      "dtype: float64\n",
      "Rsquared:  0.019613026325058458\n",
      "SleepQuality_Z_threedays\n",
      "PVal:  Intercept    0.016872\n",
      "hits         0.471001\n",
      "dtype: float64\n",
      "Rsquared:  0.003639835057206997\n",
      "USG_threedays\n",
      "PVal:  Intercept    2.954915e-34\n",
      "hits         8.235417e-02\n",
      "dtype: float64\n",
      "Rsquared:  0.13681223997590652\n"
     ]
    }
   ],
   "source": [
    "for col in columns:\n",
    "    model = smf.ols(col + ' ~ hits', data=x)\n",
    "    res = model.fit()\n",
    "    print(col)\n",
    "    print(\"PVal: \", res.pvalues)\n",
    "    print(\"Rsquared: \", res.rsquared)"
   ]
  },
  {
   "cell_type": "code",
   "execution_count": 46,
   "metadata": {},
   "outputs": [
    {
     "data": {
      "text/html": [
       "<table class=\"simpletable\">\n",
       "<caption>OLS Regression Results</caption>\n",
       "<tr>\n",
       "  <th>Dep. Variable:</th>    <td>Soreness_Z_twodays</td> <th>  R-squared:         </th> <td>   0.115</td>\n",
       "</tr>\n",
       "<tr>\n",
       "  <th>Model:</th>                    <td>OLS</td>        <th>  Adj. R-squared:    </th> <td>   0.109</td>\n",
       "</tr>\n",
       "<tr>\n",
       "  <th>Method:</th>              <td>Least Squares</td>   <th>  F-statistic:       </th> <td>   18.10</td>\n",
       "</tr>\n",
       "<tr>\n",
       "  <th>Date:</th>              <td>Thu, 11 Apr 2019</td>  <th>  Prob (F-statistic):</th> <td>3.84e-05</td>\n",
       "</tr>\n",
       "<tr>\n",
       "  <th>Time:</th>                  <td>22:54:43</td>      <th>  Log-Likelihood:    </th> <td> -204.84</td>\n",
       "</tr>\n",
       "<tr>\n",
       "  <th>No. Observations:</th>       <td>   141</td>       <th>  AIC:               </th> <td>   413.7</td>\n",
       "</tr>\n",
       "<tr>\n",
       "  <th>Df Residuals:</th>           <td>   139</td>       <th>  BIC:               </th> <td>   419.6</td>\n",
       "</tr>\n",
       "<tr>\n",
       "  <th>Df Model:</th>               <td>     1</td>       <th>                     </th>     <td> </td>   \n",
       "</tr>\n",
       "<tr>\n",
       "  <th>Covariance Type:</th>       <td>nonrobust</td>     <th>                     </th>     <td> </td>   \n",
       "</tr>\n",
       "</table>\n",
       "<table class=\"simpletable\">\n",
       "<tr>\n",
       "      <td></td>         <th>coef</th>     <th>std err</th>      <th>t</th>      <th>P>|t|</th>  <th>[0.025</th>    <th>0.975]</th>  \n",
       "</tr>\n",
       "<tr>\n",
       "  <th>Intercept</th> <td>   -0.1214</td> <td>    0.192</td> <td>   -0.633</td> <td> 0.528</td> <td>   -0.500</td> <td>    0.258</td>\n",
       "</tr>\n",
       "<tr>\n",
       "  <th>hits</th>      <td>   -0.0170</td> <td>    0.004</td> <td>   -4.254</td> <td> 0.000</td> <td>   -0.025</td> <td>   -0.009</td>\n",
       "</tr>\n",
       "</table>\n",
       "<table class=\"simpletable\">\n",
       "<tr>\n",
       "  <th>Omnibus:</th>       <td>16.987</td> <th>  Durbin-Watson:     </th> <td>   1.758</td>\n",
       "</tr>\n",
       "<tr>\n",
       "  <th>Prob(Omnibus):</th> <td> 0.000</td> <th>  Jarque-Bera (JB):  </th> <td>  23.708</td>\n",
       "</tr>\n",
       "<tr>\n",
       "  <th>Skew:</th>          <td> 0.665</td> <th>  Prob(JB):          </th> <td>7.11e-06</td>\n",
       "</tr>\n",
       "<tr>\n",
       "  <th>Kurtosis:</th>      <td> 4.506</td> <th>  Cond. No.          </th> <td>    105.</td>\n",
       "</tr>\n",
       "</table><br/><br/>Warnings:<br/>[1] Standard Errors assume that the covariance matrix of the errors is correctly specified."
      ],
      "text/plain": [
       "<class 'statsmodels.iolib.summary.Summary'>\n",
       "\"\"\"\n",
       "                            OLS Regression Results                            \n",
       "==============================================================================\n",
       "Dep. Variable:     Soreness_Z_twodays   R-squared:                       0.115\n",
       "Model:                            OLS   Adj. R-squared:                  0.109\n",
       "Method:                 Least Squares   F-statistic:                     18.10\n",
       "Date:                Thu, 11 Apr 2019   Prob (F-statistic):           3.84e-05\n",
       "Time:                        22:54:43   Log-Likelihood:                -204.84\n",
       "No. Observations:                 141   AIC:                             413.7\n",
       "Df Residuals:                     139   BIC:                             419.6\n",
       "Df Model:                           1                                         \n",
       "Covariance Type:            nonrobust                                         \n",
       "==============================================================================\n",
       "                 coef    std err          t      P>|t|      [0.025      0.975]\n",
       "------------------------------------------------------------------------------\n",
       "Intercept     -0.1214      0.192     -0.633      0.528      -0.500       0.258\n",
       "hits          -0.0170      0.004     -4.254      0.000      -0.025      -0.009\n",
       "==============================================================================\n",
       "Omnibus:                       16.987   Durbin-Watson:                   1.758\n",
       "Prob(Omnibus):                  0.000   Jarque-Bera (JB):               23.708\n",
       "Skew:                           0.665   Prob(JB):                     7.11e-06\n",
       "Kurtosis:                       4.506   Cond. No.                         105.\n",
       "==============================================================================\n",
       "\n",
       "Warnings:\n",
       "[1] Standard Errors assume that the covariance matrix of the errors is correctly specified.\n",
       "\"\"\""
      ]
     },
     "execution_count": 46,
     "metadata": {},
     "output_type": "execute_result"
    }
   ],
   "source": [
    "model = smf.ols('Soreness_Z_twodays ~ hits', data=x)\n",
    "res = model.fit()\n",
    "res.summary()"
   ]
  },
  {
   "cell_type": "code",
   "execution_count": 47,
   "metadata": {},
   "outputs": [
    {
     "data": {
      "text/plain": [
       "[<matplotlib.lines.Line2D at 0x7fb2a8db70b8>]"
      ]
     },
     "execution_count": 47,
     "metadata": {},
     "output_type": "execute_result"
    },
    {
     "data": {
      "image/png": "[encoded data removed]",
      "text/plain": [
       "<Figure size 432x288 with 1 Axes>"
      ]
     },
     "metadata": {},
     "output_type": "display_data"
    }
   ],
   "source": [
    "plt.plot(x.hits, x.Soreness_Z_twodays, 'o')"
   ]
  },
  {
   "cell_type": "code",
   "execution_count": 49,
   "metadata": {},
   "outputs": [
    {
     "data": {
      "text/plain": [
       "Text(0, 0.5, 'Standardized Soreness Rating')"
      ]
     },
     "execution_count": 49,
     "metadata": {},
     "output_type": "execute_result"
    },
    {
     "data": {
      "image/png": "[encoded data removed]",
      "text/plain": [
       "<Figure size 432x288 with 1 Axes>"
      ]
     },
     "metadata": {},
     "output_type": "display_data"
    }
   ],
   "source": [
    "grouped = x.groupby('hits')\n",
    "hits_by_fatz = grouped['Soreness_Z_twodays'].mean()\n",
    "plt.plot(hits_by_fatz, 'o')\n",
    "plt.xlabel('Potential Hits')\n",
    "plt.ylabel('Standardized Soreness Rating')"
   ]
  },
  {
   "cell_type": "code",
   "execution_count": 53,
   "metadata": {},
   "outputs": [
    {
     "data": {
      "text/plain": [
       "Text(0.5, 1.0, 'Potential Hits vs. Soreness Rating Two Days LAter')"
      ]
     },
     "execution_count": 53,
     "metadata": {},
     "output_type": "execute_result"
    },
    {
     "data": {
      "image/png": "[encoded data removed]",
      "text/plain": [
       "<Figure size 432x288 with 1 Axes>"
      ]
     },
     "metadata": {},
     "output_type": "display_data"
    }
   ],
   "source": [
    "df = pd.DataFrame()\n",
    "df['hits'] = np.linspace(0,120)\n",
    "# plt.plot(x.hits, x.Soreness_Z_next,'o')\n",
    "plt.plot(hits_by_fatz, 'o')\n",
    "pred = res.predict(df)\n",
    "plt.plot(df['hits'], pred)\n",
    "sns.set(style=\"darkgrid\", palette='bright',color_codes=True)\n",
    "plt.xlabel('Potential Hits')\n",
    "plt.ylabel('Soreness Rating Two Days Later')\n",
    "plt.title('Potential Hits vs. Soreness Rating Two Days LAter')"
   ]
  },
  {
   "cell_type": "code",
   "execution_count": null,
   "metadata": {},
   "outputs": [],
   "source": []
  }
 ],
 "metadata": {
  "kernelspec": {
   "display_name": "Python 3",
   "language": "python",
   "name": "python3"
  },
  "language_info": {
   "codemirror_mode": {
    "name": "ipython",
    "version": 3
   },
   "file_extension": ".py",
   "mimetype": "text/x-python",
   "name": "python",
   "nbconvert_exporter": "python",
   "pygments_lexer": "ipython3",
   "version": "3.7.1"
  }
 },
 "nbformat": 4,
 "nbformat_minor": 2
}
