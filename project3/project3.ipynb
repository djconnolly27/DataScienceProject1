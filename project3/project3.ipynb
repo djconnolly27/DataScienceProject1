{
 "cells": [
  {
   "cell_type": "markdown",
   "metadata": {},
   "source": [
    "# Predicting Heart Disease"
   ]
  },
  {
   "cell_type": "markdown",
   "metadata": {},
   "source": [
    "### Daniel Connolly"
   ]
  },
  {
   "cell_type": "markdown",
   "metadata": {},
   "source": [
    "Data Science Spring 2019\n",
    "\n",
    "[MIT License](https://en.wikipedia.org/wiki/MIT_License)"
   ]
  },
  {
   "cell_type": "markdown",
   "metadata": {},
   "source": [
    "After starting work on several different datasets, ranging from data regarding superconductors to machine bias, I eventually decided to prioritize getting experience with machine learning. As a result, I found a challenge on DrivenData that afforded me the opportunity to try to predict heart disease using machine learning and chose to give it a go. This notebook begins with simple regression models and progresses into more advanced machine learning and neural networks."
   ]
  },
  {
   "cell_type": "code",
   "execution_count": 1,
   "metadata": {},
   "outputs": [
    {
     "name": "stderr",
     "output_type": "stream",
     "text": [
      "Using TensorFlow backend.\n"
     ]
    }
   ],
   "source": [
    "import pandas as pd\n",
    "import numpy as np\n",
    "from sklearn.model_selection import train_test_split, GridSearchCV\n",
    "from sklearn.linear_model import Lasso, LogisticRegression\n",
    "import matplotlib.pyplot as plt\n",
    "from sklearn.metrics import classification_report, confusion_matrix\n",
    "from keras.layers import Dense\n",
    "from keras.models import Sequential\n",
    "from sklearn.ensemble import RandomForestRegressor\n",
    "import seaborn as sns\n",
    "import statsmodels.formula.api as smf"
   ]
  },
  {
   "cell_type": "markdown",
   "metadata": {},
   "source": [
    "Retrieve the data from the csv files provided by the Driven Data competition."
   ]
  },
  {
   "cell_type": "code",
   "execution_count": 2,
   "metadata": {},
   "outputs": [],
   "source": [
    "trainVal = pd.read_csv('train_values.csv')\n",
    "trainLab = pd.read_csv('train_labels.csv')\n",
    "testVal = pd.read_csv('test_values.csv')"
   ]
  },
  {
   "cell_type": "code",
   "execution_count": 3,
   "metadata": {},
   "outputs": [
    {
     "data": {
      "text/html": [
       "<div>\n",
       "<style scoped>\n",
       "    .dataframe tbody tr th:only-of-type {\n",
       "        vertical-align: middle;\n",
       "    }\n",
       "\n",
       "    .dataframe tbody tr th {\n",
       "        vertical-align: top;\n",
       "    }\n",
       "\n",
       "    .dataframe thead th {\n",
       "        text-align: right;\n",
       "    }\n",
       "</style>\n",
       "<table border=\"1\" class=\"dataframe\">\n",
       "  <thead>\n",
       "    <tr style=\"text-align: right;\">\n",
       "      <th></th>\n",
       "      <th>patient_id</th>\n",
       "      <th>slope_of_peak_exercise_st_segment</th>\n",
       "      <th>thal</th>\n",
       "      <th>resting_blood_pressure</th>\n",
       "      <th>chest_pain_type</th>\n",
       "      <th>num_major_vessels</th>\n",
       "      <th>fasting_blood_sugar_gt_120_mg_per_dl</th>\n",
       "      <th>resting_ekg_results</th>\n",
       "      <th>serum_cholesterol_mg_per_dl</th>\n",
       "      <th>oldpeak_eq_st_depression</th>\n",
       "      <th>sex</th>\n",
       "      <th>age</th>\n",
       "      <th>max_heart_rate_achieved</th>\n",
       "      <th>exercise_induced_angina</th>\n",
       "    </tr>\n",
       "  </thead>\n",
       "  <tbody>\n",
       "    <tr>\n",
       "      <th>0</th>\n",
       "      <td>0z64un</td>\n",
       "      <td>1</td>\n",
       "      <td>normal</td>\n",
       "      <td>128</td>\n",
       "      <td>2</td>\n",
       "      <td>0</td>\n",
       "      <td>0</td>\n",
       "      <td>2</td>\n",
       "      <td>308</td>\n",
       "      <td>0.0</td>\n",
       "      <td>1</td>\n",
       "      <td>45</td>\n",
       "      <td>170</td>\n",
       "      <td>0</td>\n",
       "    </tr>\n",
       "    <tr>\n",
       "      <th>1</th>\n",
       "      <td>ryoo3j</td>\n",
       "      <td>2</td>\n",
       "      <td>normal</td>\n",
       "      <td>110</td>\n",
       "      <td>3</td>\n",
       "      <td>0</td>\n",
       "      <td>0</td>\n",
       "      <td>0</td>\n",
       "      <td>214</td>\n",
       "      <td>1.6</td>\n",
       "      <td>0</td>\n",
       "      <td>54</td>\n",
       "      <td>158</td>\n",
       "      <td>0</td>\n",
       "    </tr>\n",
       "    <tr>\n",
       "      <th>2</th>\n",
       "      <td>yt1s1x</td>\n",
       "      <td>1</td>\n",
       "      <td>normal</td>\n",
       "      <td>125</td>\n",
       "      <td>4</td>\n",
       "      <td>3</td>\n",
       "      <td>0</td>\n",
       "      <td>2</td>\n",
       "      <td>304</td>\n",
       "      <td>0.0</td>\n",
       "      <td>1</td>\n",
       "      <td>77</td>\n",
       "      <td>162</td>\n",
       "      <td>1</td>\n",
       "    </tr>\n",
       "    <tr>\n",
       "      <th>3</th>\n",
       "      <td>l2xjde</td>\n",
       "      <td>1</td>\n",
       "      <td>reversible_defect</td>\n",
       "      <td>152</td>\n",
       "      <td>4</td>\n",
       "      <td>0</td>\n",
       "      <td>0</td>\n",
       "      <td>0</td>\n",
       "      <td>223</td>\n",
       "      <td>0.0</td>\n",
       "      <td>1</td>\n",
       "      <td>40</td>\n",
       "      <td>181</td>\n",
       "      <td>0</td>\n",
       "    </tr>\n",
       "    <tr>\n",
       "      <th>4</th>\n",
       "      <td>oyt4ek</td>\n",
       "      <td>3</td>\n",
       "      <td>reversible_defect</td>\n",
       "      <td>178</td>\n",
       "      <td>1</td>\n",
       "      <td>0</td>\n",
       "      <td>0</td>\n",
       "      <td>2</td>\n",
       "      <td>270</td>\n",
       "      <td>4.2</td>\n",
       "      <td>1</td>\n",
       "      <td>59</td>\n",
       "      <td>145</td>\n",
       "      <td>0</td>\n",
       "    </tr>\n",
       "  </tbody>\n",
       "</table>\n",
       "</div>"
      ],
      "text/plain": [
       "  patient_id  slope_of_peak_exercise_st_segment               thal  \\\n",
       "0     0z64un                                  1             normal   \n",
       "1     ryoo3j                                  2             normal   \n",
       "2     yt1s1x                                  1             normal   \n",
       "3     l2xjde                                  1  reversible_defect   \n",
       "4     oyt4ek                                  3  reversible_defect   \n",
       "\n",
       "   resting_blood_pressure  chest_pain_type  num_major_vessels  \\\n",
       "0                     128                2                  0   \n",
       "1                     110                3                  0   \n",
       "2                     125                4                  3   \n",
       "3                     152                4                  0   \n",
       "4                     178                1                  0   \n",
       "\n",
       "   fasting_blood_sugar_gt_120_mg_per_dl  resting_ekg_results  \\\n",
       "0                                     0                    2   \n",
       "1                                     0                    0   \n",
       "2                                     0                    2   \n",
       "3                                     0                    0   \n",
       "4                                     0                    2   \n",
       "\n",
       "   serum_cholesterol_mg_per_dl  oldpeak_eq_st_depression  sex  age  \\\n",
       "0                          308                       0.0    1   45   \n",
       "1                          214                       1.6    0   54   \n",
       "2                          304                       0.0    1   77   \n",
       "3                          223                       0.0    1   40   \n",
       "4                          270                       4.2    1   59   \n",
       "\n",
       "   max_heart_rate_achieved  exercise_induced_angina  \n",
       "0                      170                        0  \n",
       "1                      158                        0  \n",
       "2                      162                        1  \n",
       "3                      181                        0  \n",
       "4                      145                        0  "
      ]
     },
     "execution_count": 3,
     "metadata": {},
     "output_type": "execute_result"
    }
   ],
   "source": [
    "trainVal.head()"
   ]
  },
  {
   "cell_type": "code",
   "execution_count": 4,
   "metadata": {},
   "outputs": [],
   "source": [
    "cols = ['slope_of_peak_exercise_st_segment',\n",
    "       'resting_blood_pressure', 'chest_pain_type', 'num_major_vessels',\n",
    "           'serum_cholesterol_mg_per_dl', 'oldpeak_eq_st_depression', 'age',\n",
    "       'max_heart_rate_achieved', 'resting_ekg_results', 'resting_ekg_results']"
   ]
  },
  {
   "cell_type": "markdown",
   "metadata": {},
   "source": [
    "Standardize the columns in order to ensure variables are not weighted unfairly heavily over one another."
   ]
  },
  {
   "cell_type": "code",
   "execution_count": 5,
   "metadata": {},
   "outputs": [],
   "source": [
    "def std_cols(df, cols):\n",
    "    for col in cols:\n",
    "        df[col + '_std'] = (df[col] - df[col].mean())/df[col].std()\n",
    "    return df\n",
    "trainVal_std = std_cols(trainVal, cols)"
   ]
  },
  {
   "cell_type": "markdown",
   "metadata": {},
   "source": [
    "Standardize the columns by gender as well. This will help in case there are significant differences between men and women."
   ]
  },
  {
   "cell_type": "code",
   "execution_count": 6,
   "metadata": {},
   "outputs": [],
   "source": [
    "def std_by_gender(df, cols):\n",
    "    for col in cols:\n",
    "        women = (df[df.sex == 0][col].mean(), df[df.sex == 0][col].std())\n",
    "        men = (df[df.sex == 1][col].mean(), df[df.sex == 1][col].std())\n",
    "        for i, row in df.iterrows():\n",
    "            if row['sex'] == 0:\n",
    "                df.at[i, col + '_std_sex'] = (row[col] - women[0])/women[1]\n",
    "            else:\n",
    "                df.at[i, col + '_std_sex'] = (row[col] - men[0])/men[1]\n",
    "    return df\n",
    "trainVal_std = std_by_gender(trainVal_std, cols)"
   ]
  },
  {
   "cell_type": "code",
   "execution_count": 7,
   "metadata": {},
   "outputs": [
    {
     "data": {
      "text/html": [
       "<div>\n",
       "<style scoped>\n",
       "    .dataframe tbody tr th:only-of-type {\n",
       "        vertical-align: middle;\n",
       "    }\n",
       "\n",
       "    .dataframe tbody tr th {\n",
       "        vertical-align: top;\n",
       "    }\n",
       "\n",
       "    .dataframe thead th {\n",
       "        text-align: right;\n",
       "    }\n",
       "</style>\n",
       "<table border=\"1\" class=\"dataframe\">\n",
       "  <thead>\n",
       "    <tr style=\"text-align: right;\">\n",
       "      <th></th>\n",
       "      <th>patient_id</th>\n",
       "      <th>heart_disease_present</th>\n",
       "    </tr>\n",
       "  </thead>\n",
       "  <tbody>\n",
       "    <tr>\n",
       "      <th>0</th>\n",
       "      <td>0z64un</td>\n",
       "      <td>0</td>\n",
       "    </tr>\n",
       "    <tr>\n",
       "      <th>1</th>\n",
       "      <td>ryoo3j</td>\n",
       "      <td>0</td>\n",
       "    </tr>\n",
       "    <tr>\n",
       "      <th>2</th>\n",
       "      <td>yt1s1x</td>\n",
       "      <td>1</td>\n",
       "    </tr>\n",
       "    <tr>\n",
       "      <th>3</th>\n",
       "      <td>l2xjde</td>\n",
       "      <td>1</td>\n",
       "    </tr>\n",
       "    <tr>\n",
       "      <th>4</th>\n",
       "      <td>oyt4ek</td>\n",
       "      <td>0</td>\n",
       "    </tr>\n",
       "  </tbody>\n",
       "</table>\n",
       "</div>"
      ],
      "text/plain": [
       "  patient_id  heart_disease_present\n",
       "0     0z64un                      0\n",
       "1     ryoo3j                      0\n",
       "2     yt1s1x                      1\n",
       "3     l2xjde                      1\n",
       "4     oyt4ek                      0"
      ]
     },
     "execution_count": 7,
     "metadata": {},
     "output_type": "execute_result"
    }
   ],
   "source": [
    "trainLab.head()"
   ]
  },
  {
   "cell_type": "code",
   "execution_count": 8,
   "metadata": {},
   "outputs": [],
   "source": [
    "combo = pd.merge(trainLab, trainVal_std, on='patient_id')"
   ]
  },
  {
   "cell_type": "markdown",
   "metadata": {},
   "source": [
    "Upon initially looking through the data available to me, I figured that the max heart rate achieved variable likely had some positive predictive value for heart disease. As a result, I ran a logistic regression to investigate this."
   ]
  },
  {
   "cell_type": "code",
   "execution_count": 9,
   "metadata": {},
   "outputs": [
    {
     "name": "stdout",
     "output_type": "stream",
     "text": [
      "Optimization terminated successfully.\n",
      "         Current function value: 0.612784\n",
      "         Iterations 5\n"
     ]
    },
    {
     "data": {
      "text/html": [
       "<table class=\"simpletable\">\n",
       "<caption>Logit Regression Results</caption>\n",
       "<tr>\n",
       "  <th>Dep. Variable:</th> <td>heart_disease_present</td> <th>  No. Observations:  </th>  <td>   180</td>  \n",
       "</tr>\n",
       "<tr>\n",
       "  <th>Model:</th>                 <td>Logit</td>         <th>  Df Residuals:      </th>  <td>   178</td>  \n",
       "</tr>\n",
       "<tr>\n",
       "  <th>Method:</th>                 <td>MLE</td>          <th>  Df Model:          </th>  <td>     1</td>  \n",
       "</tr>\n",
       "<tr>\n",
       "  <th>Date:</th>            <td>Mon, 29 Apr 2019</td>    <th>  Pseudo R-squ.:     </th>  <td>0.1080</td>  \n",
       "</tr>\n",
       "<tr>\n",
       "  <th>Time:</th>                <td>23:58:30</td>        <th>  Log-Likelihood:    </th> <td> -110.30</td> \n",
       "</tr>\n",
       "<tr>\n",
       "  <th>converged:</th>             <td>True</td>          <th>  LL-Null:           </th> <td> -123.65</td> \n",
       "</tr>\n",
       "<tr>\n",
       "  <th> </th>                        <td> </td>           <th>  LLR p-value:       </th> <td>2.371e-07</td>\n",
       "</tr>\n",
       "</table>\n",
       "<table class=\"simpletable\">\n",
       "<tr>\n",
       "               <td></td>                  <th>coef</th>     <th>std err</th>      <th>z</th>      <th>P>|z|</th>  <th>[0.025</th>    <th>0.975]</th>  \n",
       "</tr>\n",
       "<tr>\n",
       "  <th>Intercept</th>                   <td>   -0.2431</td> <td>    0.162</td> <td>   -1.501</td> <td> 0.133</td> <td>   -0.561</td> <td>    0.074</td>\n",
       "</tr>\n",
       "<tr>\n",
       "  <th>max_heart_rate_achieved_std</th> <td>   -0.8470</td> <td>    0.179</td> <td>   -4.731</td> <td> 0.000</td> <td>   -1.198</td> <td>   -0.496</td>\n",
       "</tr>\n",
       "</table>"
      ],
      "text/plain": [
       "<class 'statsmodels.iolib.summary.Summary'>\n",
       "\"\"\"\n",
       "                             Logit Regression Results                            \n",
       "=================================================================================\n",
       "Dep. Variable:     heart_disease_present   No. Observations:                  180\n",
       "Model:                             Logit   Df Residuals:                      178\n",
       "Method:                              MLE   Df Model:                            1\n",
       "Date:                   Mon, 29 Apr 2019   Pseudo R-squ.:                  0.1080\n",
       "Time:                           23:58:30   Log-Likelihood:                -110.30\n",
       "converged:                          True   LL-Null:                       -123.65\n",
       "                                           LLR p-value:                 2.371e-07\n",
       "===============================================================================================\n",
       "                                  coef    std err          z      P>|z|      [0.025      0.975]\n",
       "-----------------------------------------------------------------------------------------------\n",
       "Intercept                      -0.2431      0.162     -1.501      0.133      -0.561       0.074\n",
       "max_heart_rate_achieved_std    -0.8470      0.179     -4.731      0.000      -1.198      -0.496\n",
       "===============================================================================================\n",
       "\"\"\""
      ]
     },
     "execution_count": 9,
     "metadata": {},
     "output_type": "execute_result"
    }
   ],
   "source": [
    "model = smf.logit('heart_disease_present ~ max_heart_rate_achieved_std', data=combo)\n",
    "fit = model.fit()\n",
    "fit.summary()"
   ]
  },
  {
   "cell_type": "markdown",
   "metadata": {},
   "source": [
    "With a pseudo R-squared of 0.108 and a negligible p value, it seems that there is a relationship between max heart rate and heart disease. Next, I break up the data into training and test sets and perform a similar logistic regression using sklearn."
   ]
  },
  {
   "cell_type": "code",
   "execution_count": 10,
   "metadata": {},
   "outputs": [],
   "source": [
    "y = combo[['patient_id','heart_disease_present']]\n",
    "X = combo.drop('heart_disease_present', axis=1)\n",
    "X_train, X_test, y_train, y_test = train_test_split(X, y, \n",
    "                                                    test_size=0.5, random_state=42)"
   ]
  },
  {
   "cell_type": "code",
   "execution_count": 11,
   "metadata": {},
   "outputs": [],
   "source": [
    "X= X_train['max_heart_rate_achieved_std']\n",
    "y= y_train['heart_disease_present']\n",
    "xarr = np.array(X)\n",
    "yarr = np.array(y)\n",
    "xarr = xarr.reshape((xarr.shape[0], 1))"
   ]
  },
  {
   "cell_type": "code",
   "execution_count": 12,
   "metadata": {},
   "outputs": [
    {
     "data": {
      "text/plain": [
       "0.6333333333333333"
      ]
     },
     "execution_count": 12,
     "metadata": {},
     "output_type": "execute_result"
    }
   ],
   "source": [
    "lr = LogisticRegression(random_state=0, solver='lbfgs',multi_class='multinomial').fit(xarr, yarr)\n",
    "t1 = np.array(X_test['max_heart_rate_achieved_std'])\n",
    "t1 = t1.reshape((t1.shape[0], 1))\n",
    "y1 = np.array(y_test['heart_disease_present'])\n",
    "lr.score(t1,y1)"
   ]
  },
  {
   "cell_type": "code",
   "execution_count": 13,
   "metadata": {},
   "outputs": [
    {
     "data": {
      "text/plain": [
       "<matplotlib.collections.PathCollection at 0x7fa5c4789e80>"
      ]
     },
     "execution_count": 13,
     "metadata": {},
     "output_type": "execute_result"
    },
    {
     "data": {
      "image/png": "[encoded data removed]",
      "text/plain": [
       "<Figure size 432x288 with 1 Axes>"
      ]
     },
     "metadata": {
      "needs_background": "light"
     },
     "output_type": "display_data"
    }
   ],
   "source": [
    "plt.scatter(t1, lr.predict_proba(t1)[:,1])\n",
    "plt.scatter(t1, y1)"
   ]
  },
  {
   "cell_type": "markdown",
   "metadata": {},
   "source": [
    "59% is a good score for a first trail run. Now let's run it with the standardized age of the study participants and see how the result changes."
   ]
  },
  {
   "cell_type": "code",
   "execution_count": 14,
   "metadata": {},
   "outputs": [],
   "source": [
    "X= X_train[['max_heart_rate_achieved_std', 'age_std']]\n",
    "y= y_train['heart_disease_present']\n",
    "xarr = np.array(X)\n",
    "yarr = np.array(y)\n",
    "xarr = xarr.reshape((xarr.shape[0], 2))"
   ]
  },
  {
   "cell_type": "code",
   "execution_count": 15,
   "metadata": {},
   "outputs": [
    {
     "data": {
      "text/plain": [
       "0.6"
      ]
     },
     "execution_count": 15,
     "metadata": {},
     "output_type": "execute_result"
    }
   ],
   "source": [
    "lr = LogisticRegression(random_state=0, solver='lbfgs',multi_class='multinomial').fit(xarr, yarr)\n",
    "t1 = np.array(X_test[['max_heart_rate_achieved_std','age_std']])\n",
    "t1 = t1.reshape((t1.shape[0], 2))\n",
    "y1 = np.array(y_test['heart_disease_present'])\n",
    "lr.score(t1,y1)"
   ]
  },
  {
   "cell_type": "markdown",
   "metadata": {},
   "source": [
    "The score dropped, which likely means the standardized age is not a particularly strong predictor of heart disease."
   ]
  },
  {
   "cell_type": "markdown",
   "metadata": {},
   "source": [
    "Rather than run this type of test with every variable, let's perform Lasso regression to see if any of the variables are particularly good indicators of heart disease."
   ]
  },
  {
   "cell_type": "code",
   "execution_count": 16,
   "metadata": {},
   "outputs": [
    {
     "data": {
      "text/html": [
       "<div>\n",
       "<style scoped>\n",
       "    .dataframe tbody tr th:only-of-type {\n",
       "        vertical-align: middle;\n",
       "    }\n",
       "\n",
       "    .dataframe tbody tr th {\n",
       "        vertical-align: top;\n",
       "    }\n",
       "\n",
       "    .dataframe thead th {\n",
       "        text-align: right;\n",
       "    }\n",
       "</style>\n",
       "<table border=\"1\" class=\"dataframe\">\n",
       "  <thead>\n",
       "    <tr style=\"text-align: right;\">\n",
       "      <th></th>\n",
       "      <th>slope_of_peak_exercise_st_segment_std</th>\n",
       "      <th>resting_blood_pressure_std</th>\n",
       "      <th>chest_pain_type_std</th>\n",
       "      <th>num_major_vessels_std</th>\n",
       "      <th>serum_cholesterol_mg_per_dl_std</th>\n",
       "      <th>oldpeak_eq_st_depression_std</th>\n",
       "      <th>age_std</th>\n",
       "      <th>max_heart_rate_achieved_std</th>\n",
       "      <th>resting_ekg_results_std</th>\n",
       "      <th>resting_ekg_results_std</th>\n",
       "      <th>heart_disease_present</th>\n",
       "      <th>patient_id</th>\n",
       "    </tr>\n",
       "  </thead>\n",
       "  <tbody>\n",
       "    <tr>\n",
       "      <th>0</th>\n",
       "      <td>-0.888762</td>\n",
       "      <td>-0.194652</td>\n",
       "      <td>-1.231340</td>\n",
       "      <td>-0.716404</td>\n",
       "      <td>1.115158</td>\n",
       "      <td>-0.900694</td>\n",
       "      <td>-1.051032</td>\n",
       "      <td>0.929891</td>\n",
       "      <td>0.951196</td>\n",
       "      <td>0.951196</td>\n",
       "      <td>0</td>\n",
       "      <td>0z64un</td>\n",
       "    </tr>\n",
       "    <tr>\n",
       "      <th>1</th>\n",
       "      <td>0.727169</td>\n",
       "      <td>-1.252825</td>\n",
       "      <td>-0.165757</td>\n",
       "      <td>-0.716404</td>\n",
       "      <td>-0.667915</td>\n",
       "      <td>0.526148</td>\n",
       "      <td>-0.086892</td>\n",
       "      <td>0.386007</td>\n",
       "      <td>-1.051322</td>\n",
       "      <td>-1.051322</td>\n",
       "      <td>0</td>\n",
       "      <td>ryoo3j</td>\n",
       "    </tr>\n",
       "    <tr>\n",
       "      <th>2</th>\n",
       "      <td>-0.888762</td>\n",
       "      <td>-0.371014</td>\n",
       "      <td>0.899825</td>\n",
       "      <td>2.378462</td>\n",
       "      <td>1.039283</td>\n",
       "      <td>-0.900694</td>\n",
       "      <td>2.377024</td>\n",
       "      <td>0.567302</td>\n",
       "      <td>0.951196</td>\n",
       "      <td>0.951196</td>\n",
       "      <td>1</td>\n",
       "      <td>yt1s1x</td>\n",
       "    </tr>\n",
       "    <tr>\n",
       "      <th>3</th>\n",
       "      <td>-0.888762</td>\n",
       "      <td>1.216246</td>\n",
       "      <td>0.899825</td>\n",
       "      <td>-0.716404</td>\n",
       "      <td>-0.497195</td>\n",
       "      <td>-0.900694</td>\n",
       "      <td>-1.586666</td>\n",
       "      <td>1.428452</td>\n",
       "      <td>-1.051322</td>\n",
       "      <td>-1.051322</td>\n",
       "      <td>1</td>\n",
       "      <td>l2xjde</td>\n",
       "    </tr>\n",
       "    <tr>\n",
       "      <th>4</th>\n",
       "      <td>2.343100</td>\n",
       "      <td>2.744719</td>\n",
       "      <td>-2.296923</td>\n",
       "      <td>-0.716404</td>\n",
       "      <td>0.394342</td>\n",
       "      <td>2.844768</td>\n",
       "      <td>0.448742</td>\n",
       "      <td>-0.203201</td>\n",
       "      <td>0.951196</td>\n",
       "      <td>0.951196</td>\n",
       "      <td>0</td>\n",
       "      <td>oyt4ek</td>\n",
       "    </tr>\n",
       "  </tbody>\n",
       "</table>\n",
       "</div>"
      ],
      "text/plain": [
       "   slope_of_peak_exercise_st_segment_std  resting_blood_pressure_std  \\\n",
       "0                              -0.888762                   -0.194652   \n",
       "1                               0.727169                   -1.252825   \n",
       "2                              -0.888762                   -0.371014   \n",
       "3                              -0.888762                    1.216246   \n",
       "4                               2.343100                    2.744719   \n",
       "\n",
       "   chest_pain_type_std  num_major_vessels_std  \\\n",
       "0            -1.231340              -0.716404   \n",
       "1            -0.165757              -0.716404   \n",
       "2             0.899825               2.378462   \n",
       "3             0.899825              -0.716404   \n",
       "4            -2.296923              -0.716404   \n",
       "\n",
       "   serum_cholesterol_mg_per_dl_std  oldpeak_eq_st_depression_std   age_std  \\\n",
       "0                         1.115158                     -0.900694 -1.051032   \n",
       "1                        -0.667915                      0.526148 -0.086892   \n",
       "2                         1.039283                     -0.900694  2.377024   \n",
       "3                        -0.497195                     -0.900694 -1.586666   \n",
       "4                         0.394342                      2.844768  0.448742   \n",
       "\n",
       "   max_heart_rate_achieved_std  resting_ekg_results_std  \\\n",
       "0                     0.929891                 0.951196   \n",
       "1                     0.386007                -1.051322   \n",
       "2                     0.567302                 0.951196   \n",
       "3                     1.428452                -1.051322   \n",
       "4                    -0.203201                 0.951196   \n",
       "\n",
       "   resting_ekg_results_std  heart_disease_present patient_id  \n",
       "0                 0.951196                      0     0z64un  \n",
       "1                -1.051322                      0     ryoo3j  \n",
       "2                 0.951196                      1     yt1s1x  \n",
       "3                -1.051322                      1     l2xjde  \n",
       "4                 0.951196                      0     oyt4ek  "
      ]
     },
     "execution_count": 16,
     "metadata": {},
     "output_type": "execute_result"
    }
   ],
   "source": [
    "std_cols = ['slope_of_peak_exercise_st_segment_std',\n",
    "       'resting_blood_pressure_std', 'chest_pain_type_std', 'num_major_vessels_std',\n",
    "           'serum_cholesterol_mg_per_dl_std', 'oldpeak_eq_st_depression_std', 'age_std',\n",
    "       'max_heart_rate_achieved_std', 'resting_ekg_results_std', 'resting_ekg_results_std', 'heart_disease_present', 'patient_id']\n",
    "df_std = combo[std_cols]\n",
    "df_std.head()"
   ]
  },
  {
   "cell_type": "code",
   "execution_count": 17,
   "metadata": {},
   "outputs": [],
   "source": [
    "y = df_std[['patient_id','heart_disease_present']]\n",
    "X = df_std.drop('heart_disease_present', axis=1)\n",
    "X_train, X_test, y_train, y_test = train_test_split(X, y, \n",
    "                                                    test_size=0.3, random_state=42)"
   ]
  },
  {
   "cell_type": "code",
   "execution_count": 18,
   "metadata": {},
   "outputs": [
    {
     "data": {
      "text/plain": [
       "Lasso(alpha=0.1, copy_X=True, fit_intercept=True, max_iter=1000,\n",
       "   normalize=True, positive=False, precompute=False, random_state=None,\n",
       "   selection='cyclic', tol=0.0001, warm_start=False)"
      ]
     },
     "execution_count": 18,
     "metadata": {},
     "output_type": "execute_result"
    }
   ],
   "source": [
    "y_train= y_train['heart_disease_present']\n",
    "X_train= X_train.drop('patient_id', axis=1)\n",
    "\n",
    "lasso = Lasso(alpha=0.1, normalize=True)\n",
    "lasso.fit(X_train, y_train)"
   ]
  },
  {
   "cell_type": "code",
   "execution_count": 19,
   "metadata": {},
   "outputs": [
    {
     "data": {
      "text/plain": [
       "-0.07037297677691745"
      ]
     },
     "execution_count": 19,
     "metadata": {},
     "output_type": "execute_result"
    }
   ],
   "source": [
    "lasso_pred = lasso.predict(X_test.drop('patient_id', axis=1))\n",
    "lasso.score(X_test.drop('patient_id', axis=1), y_test['heart_disease_present'])"
   ]
  },
  {
   "cell_type": "code",
   "execution_count": 20,
   "metadata": {},
   "outputs": [
    {
     "name": "stdout",
     "output_type": "stream",
     "text": [
      "[ 0.  0.  0.  0.  0.  0.  0. -0.  0.  0.]\n"
     ]
    }
   ],
   "source": [
    "coef = lasso.coef_\n",
    "names = X_train.columns\n",
    "print(coef)"
   ]
  },
  {
   "cell_type": "markdown",
   "metadata": {},
   "source": [
    "Lasso regression doesn't appear to have worked. We can try Random Forest Regression instead."
   ]
  },
  {
   "cell_type": "code",
   "execution_count": 21,
   "metadata": {},
   "outputs": [],
   "source": [
    "y = df_std[['patient_id','heart_disease_present']]\n",
    "X = df_std.drop('heart_disease_present', axis=1)\n",
    "X_train, X_test, y_train, y_test = train_test_split(X, y, \n",
    "                                                    test_size=0.3, random_state=42)\n",
    "y_train= y_train['heart_disease_present']\n",
    "X_train= X_train.drop('patient_id', axis=1)"
   ]
  },
  {
   "cell_type": "code",
   "execution_count": 22,
   "metadata": {},
   "outputs": [
    {
     "data": {
      "text/plain": [
       "RandomForestRegressor(bootstrap=True, criterion='mse', max_depth=2,\n",
       "           max_features='auto', max_leaf_nodes=None,\n",
       "           min_impurity_decrease=0.0, min_impurity_split=None,\n",
       "           min_samples_leaf=1, min_samples_split=2,\n",
       "           min_weight_fraction_leaf=0.0, n_estimators=100, n_jobs=None,\n",
       "           oob_score=False, random_state=0, verbose=0, warm_start=False)"
      ]
     },
     "execution_count": 22,
     "metadata": {},
     "output_type": "execute_result"
    }
   ],
   "source": [
    "regr = RandomForestRegressor(max_depth=2,random_state=0,n_estimators=100)\n",
    "regr.fit(X_train,y_train)"
   ]
  },
  {
   "cell_type": "code",
   "execution_count": 23,
   "metadata": {},
   "outputs": [
    {
     "data": {
      "text/plain": [
       "0.26801260182616793"
      ]
     },
     "execution_count": 23,
     "metadata": {},
     "output_type": "execute_result"
    }
   ],
   "source": [
    "y_test = y_test['heart_disease_present']\n",
    "X_test = X_test.drop('patient_id', axis=1)\n",
    "regr.score(X_test, y_test)"
   ]
  },
  {
   "cell_type": "markdown",
   "metadata": {},
   "source": [
    "Perhaps the out of the box random forest regression is not particularly accurate, but we can still use it to extract the relative importance of variables in the dataset."
   ]
  },
  {
   "cell_type": "code",
   "execution_count": 24,
   "metadata": {},
   "outputs": [],
   "source": [
    "imp = regr.feature_importances_"
   ]
  },
  {
   "cell_type": "markdown",
   "metadata": {},
   "source": [
    "Below, a simple function for extracting the important features from the dataset based on the regression results."
   ]
  },
  {
   "cell_type": "code",
   "execution_count": 25,
   "metadata": {},
   "outputs": [],
   "source": [
    "def get_feats(df, importance):\n",
    "    ll = dict()\n",
    "    for i in range(len(df.columns[:10])):\n",
    "        if (importance[i] > 0):\n",
    "            ll[df.columns[i]] = importance[i]\n",
    "    return ll"
   ]
  },
  {
   "cell_type": "code",
   "execution_count": 26,
   "metadata": {
    "scrolled": true
   },
   "outputs": [
    {
     "data": {
      "text/plain": [
       "{'slope_of_peak_exercise_st_segment_std': 0.11214545673963995,\n",
       " 'resting_blood_pressure_std': 0.016422137096473603,\n",
       " 'chest_pain_type_std': 0.19729248585168416,\n",
       " 'num_major_vessels_std': 0.21579927808583946,\n",
       " 'serum_cholesterol_mg_per_dl_std': 0.047439136964833845,\n",
       " 'oldpeak_eq_st_depression_std': 0.27992066021349726,\n",
       " 'age_std': 0.03940803487926289,\n",
       " 'max_heart_rate_achieved_std': 0.08619181717642264,\n",
       " 'resting_ekg_results_std': 0.003434675393637947}"
      ]
     },
     "execution_count": 26,
     "metadata": {},
     "output_type": "execute_result"
    }
   ],
   "source": [
    "get_feats(df_std, imp)"
   ]
  },
  {
   "cell_type": "markdown",
   "metadata": {},
   "source": [
    "It appears the most important two features are the STdepression induced by exercise relative to rest (oldpeak_eq_st_depression_std) and the the number of major vessels colored by fluorosopy (like a continuous X-ray image on a monitor) (num_major_vessels_std), followed by the chest pain type."
   ]
  },
  {
   "cell_type": "markdown",
   "metadata": {},
   "source": [
    "We'll try a logistic regression with the two most important of those variables."
   ]
  },
  {
   "cell_type": "code",
   "execution_count": 27,
   "metadata": {},
   "outputs": [],
   "source": [
    "y = df_std[['patient_id','heart_disease_present']]\n",
    "X = df_std.drop('heart_disease_present', axis=1)\n",
    "X_train, X_test, y_train, y_test = train_test_split(X, y, \n",
    "                                                    test_size=0.3, random_state=42)"
   ]
  },
  {
   "cell_type": "code",
   "execution_count": 28,
   "metadata": {},
   "outputs": [],
   "source": [
    "X= X_train[['oldpeak_eq_st_depression_std', 'num_major_vessels_std']]\n",
    "y= y_train['heart_disease_present']\n",
    "xarr = np.array(X)\n",
    "yarr = np.array(y)\n",
    "xarr = xarr.reshape((xarr.shape[0], 2))"
   ]
  },
  {
   "cell_type": "code",
   "execution_count": 29,
   "metadata": {},
   "outputs": [
    {
     "data": {
      "text/plain": [
       "0.7037037037037037"
      ]
     },
     "execution_count": 29,
     "metadata": {},
     "output_type": "execute_result"
    }
   ],
   "source": [
    "lr = LogisticRegression(random_state=0, solver='lbfgs',multi_class='multinomial').fit(xarr, yarr)\n",
    "t1 = np.array(X_test[['oldpeak_eq_st_depression_std', 'num_major_vessels_std']])\n",
    "t1 = t1.reshape((t1.shape[0], 2))\n",
    "y1 = np.array(y_test['heart_disease_present'])\n",
    "lr.score(t1,y1)"
   ]
  },
  {
   "cell_type": "markdown",
   "metadata": {},
   "source": [
    "A score of 70% is better than before. Below, I visualize the decision boundary of this logistic regression."
   ]
  },
  {
   "cell_type": "code",
   "execution_count": 30,
   "metadata": {},
   "outputs": [],
   "source": [
    "xx, yy = np.mgrid[-3:3:.01, -3:3:.01]\n",
    "grid = np.c_[xx.ravel(), yy.ravel()]\n",
    "probs = lr.predict_proba(grid)[:, 1].reshape(xx.shape)"
   ]
  },
  {
   "cell_type": "code",
   "execution_count": 31,
   "metadata": {},
   "outputs": [
    {
     "data": {
      "text/plain": [
       "[(-3, 3),\n",
       " Text(0, 0.5, '$Standardized Number of Major Vessles on Fluorosopy$'),\n",
       " (-3, 3),\n",
       " Text(0.5, 0, '$Standardized ST Depression$'),\n",
       " None]"
      ]
     },
     "execution_count": 31,
     "metadata": {},
     "output_type": "execute_result"
    },
    {
     "data": {
      "image/png": "[encoded data removed]",
      "text/plain": [
       "<Figure size 576x432 with 2 Axes>"
      ]
     },
     "metadata": {
      "needs_background": "light"
     },
     "output_type": "display_data"
    }
   ],
   "source": [
    "f, ax = plt.subplots(figsize=(8, 6))\n",
    "contour = ax.contourf(xx, yy, probs, 25, cmap=\"RdBu\",\n",
    "                      vmin=0, vmax=1)\n",
    "ax_c = f.colorbar(contour)\n",
    "ax_c.set_label(\"$P(Heart Disease Present = 1)$\")\n",
    "ax_c.set_ticks([0, .25, .5, .75, 1])\n",
    "\n",
    "ax.scatter(t1[:,0], t1[:, 1], c=y1[:], s=50,\n",
    "           cmap=\"RdBu\", vmin=-.2, vmax=1.2,\n",
    "           edgecolor=\"white\", linewidth=1)\n",
    "\n",
    "ax.set(aspect=\"equal\",\n",
    "       xlim=(-3, 3), ylim=(-3, 3),\n",
    "       xlabel=\"$Standardized ST Depression$\", ylabel=\"$Standardized Number of Major Vessles on Fluorosopy$\")"
   ]
  },
  {
   "cell_type": "markdown",
   "metadata": {},
   "source": [
    "The regression is not working perfectly, but the decision barrier makes it visually clear that the majority of the model's predictions are accurate. The difference would likely be more obvious if there were more data points."
   ]
  },
  {
   "cell_type": "markdown",
   "metadata": {},
   "source": [
    "Next, we'll add one variable and plot the ROC curve."
   ]
  },
  {
   "cell_type": "code",
   "execution_count": 32,
   "metadata": {},
   "outputs": [],
   "source": [
    "y = df_std[['patient_id','heart_disease_present']]\n",
    "X = df_std.drop('heart_disease_present', axis=1)\n",
    "X_train, X_test, y_train, y_test = train_test_split(X, y, \n",
    "                                                    test_size=0.3, random_state=42)"
   ]
  },
  {
   "cell_type": "code",
   "execution_count": 33,
   "metadata": {},
   "outputs": [],
   "source": [
    "X= X_train[['oldpeak_eq_st_depression_std', 'num_major_vessels_std','chest_pain_type_std']]\n",
    "y= y_train['heart_disease_present']\n",
    "xarr = np.array(X)\n",
    "yarr = np.array(y)\n",
    "xarr = xarr.reshape((xarr.shape[0], 3))"
   ]
  },
  {
   "cell_type": "code",
   "execution_count": 34,
   "metadata": {},
   "outputs": [
    {
     "data": {
      "text/plain": [
       "0.7407407407407407"
      ]
     },
     "execution_count": 34,
     "metadata": {},
     "output_type": "execute_result"
    }
   ],
   "source": [
    "lr = LogisticRegression(random_state=0, solver='lbfgs',multi_class='multinomial').fit(xarr, yarr)\n",
    "t1 = np.array(X_test[['oldpeak_eq_st_depression_std', 'num_major_vessels_std', 'chest_pain_type_std']])\n",
    "t1 = t1.reshape((t1.shape[0], 3))\n",
    "y1 = np.array(y_test['heart_disease_present'])\n",
    "lr.score(t1,y1)"
   ]
  },
  {
   "cell_type": "markdown",
   "metadata": {},
   "source": [
    "At 74%, this is a decent model, which may be worth submitting to DrivenData. Below, I use the model to make predictions on the test data provided by the competition."
   ]
  },
  {
   "cell_type": "code",
   "execution_count": 35,
   "metadata": {},
   "outputs": [],
   "source": [
    "cols = ['slope_of_peak_exercise_st_segment',\n",
    "       'resting_blood_pressure', 'chest_pain_type', 'num_major_vessels',\n",
    "           'serum_cholesterol_mg_per_dl', 'oldpeak_eq_st_depression', 'age',\n",
    "       'max_heart_rate_achieved', 'resting_ekg_results', 'resting_ekg_results']"
   ]
  },
  {
   "cell_type": "code",
   "execution_count": 36,
   "metadata": {},
   "outputs": [],
   "source": [
    "#Redefining this here to avoid error\n",
    "def std_cols(df, cols):\n",
    "    for col in cols:\n",
    "        df[col + '_std'] = (df[col] - df[col].mean())/df[col].std()\n",
    "    return df"
   ]
  },
  {
   "cell_type": "code",
   "execution_count": 37,
   "metadata": {},
   "outputs": [
    {
     "data": {
      "text/html": [
       "<div>\n",
       "<style scoped>\n",
       "    .dataframe tbody tr th:only-of-type {\n",
       "        vertical-align: middle;\n",
       "    }\n",
       "\n",
       "    .dataframe tbody tr th {\n",
       "        vertical-align: top;\n",
       "    }\n",
       "\n",
       "    .dataframe thead th {\n",
       "        text-align: right;\n",
       "    }\n",
       "</style>\n",
       "<table border=\"1\" class=\"dataframe\">\n",
       "  <thead>\n",
       "    <tr style=\"text-align: right;\">\n",
       "      <th></th>\n",
       "      <th>patient_id</th>\n",
       "      <th>heart_disease_present</th>\n",
       "    </tr>\n",
       "  </thead>\n",
       "  <tbody>\n",
       "    <tr>\n",
       "      <th>0</th>\n",
       "      <td>olalu7</td>\n",
       "      <td>0.015318</td>\n",
       "    </tr>\n",
       "    <tr>\n",
       "      <th>1</th>\n",
       "      <td>z9n6mx</td>\n",
       "      <td>0.489257</td>\n",
       "    </tr>\n",
       "    <tr>\n",
       "      <th>2</th>\n",
       "      <td>5k4413</td>\n",
       "      <td>0.756969</td>\n",
       "    </tr>\n",
       "    <tr>\n",
       "      <th>3</th>\n",
       "      <td>mrg7q5</td>\n",
       "      <td>0.187507</td>\n",
       "    </tr>\n",
       "    <tr>\n",
       "      <th>4</th>\n",
       "      <td>uki4do</td>\n",
       "      <td>0.965686</td>\n",
       "    </tr>\n",
       "  </tbody>\n",
       "</table>\n",
       "</div>"
      ],
      "text/plain": [
       "  patient_id  heart_disease_present\n",
       "0     olalu7               0.015318\n",
       "1     z9n6mx               0.489257\n",
       "2     5k4413               0.756969\n",
       "3     mrg7q5               0.187507\n",
       "4     uki4do               0.965686"
      ]
     },
     "execution_count": 37,
     "metadata": {},
     "output_type": "execute_result"
    }
   ],
   "source": [
    "testval_std = std_cols(testVal, cols)\n",
    "tests = np.array(testval_std[['oldpeak_eq_st_depression_std', 'num_major_vessels_std', 'chest_pain_type_std']])\n",
    "tests = tests.reshape((tests.shape[0],3))\n",
    "pred_prob = lr.predict_proba(tests)[:,1]\n",
    "df = pd.DataFrame()\n",
    "df['patient_id'] = testVal['patient_id']\n",
    "df['heart_disease_present'] = pred_prob\n",
    "df.head()"
   ]
  },
  {
   "cell_type": "code",
   "execution_count": 38,
   "metadata": {},
   "outputs": [],
   "source": [
    "df.to_csv('submission1.csv', index=False)"
   ]
  },
  {
   "cell_type": "markdown",
   "metadata": {},
   "source": [
    "The above model scored in the top 25% percent of the competition, which has nearly 2000 participants."
   ]
  },
  {
   "cell_type": "code",
   "execution_count": 39,
   "metadata": {},
   "outputs": [],
   "source": [
    "from sklearn.metrics import roc_curve\n",
    "y_pred_prob = lr.predict_proba(t1)[:,1]\n",
    "fpr, tpr, thresholds = roc_curve(y1, y_pred_prob)"
   ]
  },
  {
   "cell_type": "code",
   "execution_count": 40,
   "metadata": {},
   "outputs": [
    {
     "data": {
      "image/png": "[encoded data removed]",
      "text/plain": [
       "<Figure size 432x288 with 1 Axes>"
      ]
     },
     "metadata": {
      "needs_background": "light"
     },
     "output_type": "display_data"
    }
   ],
   "source": [
    "plt.plot([0,1],[0,1], 'k--')\n",
    "plt.plot(fpr, tpr, label='Logistic Regression')\n",
    "plt.xlabel('False Positive Rate')\n",
    "plt.ylabel('True Positive Rate')\n",
    "plt.title('Logistic Regression ROC Curve')\n",
    "plt.show()"
   ]
  },
  {
   "cell_type": "markdown",
   "metadata": {},
   "source": [
    "The ROC curve above indicates the test is working well, but not perfectly."
   ]
  },
  {
   "cell_type": "code",
   "execution_count": 41,
   "metadata": {},
   "outputs": [
    {
     "data": {
      "text/plain": [
       "0.8400000000000001"
      ]
     },
     "execution_count": 41,
     "metadata": {},
     "output_type": "execute_result"
    }
   ],
   "source": [
    "from sklearn.metrics import roc_auc_score\n",
    "roc_auc_score(y1, y_pred_prob)"
   ]
  },
  {
   "cell_type": "markdown",
   "metadata": {},
   "source": [
    "Again, 0.84 indicates good, but not excellent, classification."
   ]
  },
  {
   "cell_type": "code",
   "execution_count": 42,
   "metadata": {},
   "outputs": [
    {
     "data": {
      "text/plain": [
       "array([0.80606061, 0.90666667, 0.86666667, 0.87666667, 0.89333333])"
      ]
     },
     "execution_count": 42,
     "metadata": {},
     "output_type": "execute_result"
    }
   ],
   "source": [
    "from sklearn.model_selection import cross_val_score\n",
    "cross_val_score(lr, X, y, cv=5, scoring='roc_auc')"
   ]
  },
  {
   "cell_type": "markdown",
   "metadata": {},
   "source": [
    "Above, five-fold cross validation on the ROC-AUC score found before. On average, these scores indicate the model performs even better than previously indicated."
   ]
  },
  {
   "cell_type": "markdown",
   "metadata": {},
   "source": [
    "Before moving on to more advance models, it may help to further visualize some of the relationships between variables in the dataset."
   ]
  },
  {
   "cell_type": "code",
   "execution_count": 43,
   "metadata": {},
   "outputs": [
    {
     "data": {
      "text/plain": [
       "<matplotlib.axes._subplots.AxesSubplot at 0x7fa5bf41d518>"
      ]
     },
     "execution_count": 43,
     "metadata": {},
     "output_type": "execute_result"
    },
    {
     "data": {
      "image/png": "[encoded data removed]",
      "text/plain": [
       "<Figure size 432x288 with 2 Axes>"
      ]
     },
     "metadata": {
      "needs_background": "light"
     },
     "output_type": "display_data"
    }
   ],
   "source": [
    "corr = trainVal.corr()\n",
    "sns.heatmap(corr, xticklabels=corr.columns, yticklabels=corr.columns)"
   ]
  },
  {
   "cell_type": "markdown",
   "metadata": {},
   "source": [
    "Perhaps the most notable thing about this correlation matrix is that there is a correlation between the slope of an ST segment at the peak of exercisse and the ST depression. This isn't particularly surpring, however, because both involve the ST segment. For more information on the ST segment, click [here](https://en.wikipedia.org/wiki/ST_segment)."
   ]
  },
  {
   "cell_type": "code",
   "execution_count": 44,
   "metadata": {},
   "outputs": [
    {
     "name": "stderr",
     "output_type": "stream",
     "text": [
      "/home/dconnolly/anaconda3/lib/python3.7/site-packages/scipy/stats/stats.py:1713: FutureWarning: Using a non-tuple sequence for multidimensional indexing is deprecated; use `arr[tuple(seq)]` instead of `arr[seq]`. In the future this will be interpreted as an array index, `arr[np.array(seq)]`, which will result either in an error or a different result.\n",
      "  return np.add.reduce(sorted[indexer] * weights, axis=axis) / sumval\n"
     ]
    },
    {
     "data": {
      "image/png": "[encoded data removed]",
      "text/plain": [
       "<Figure size 432x288 with 1 Axes>"
      ]
     },
     "metadata": {
      "needs_background": "light"
     },
     "output_type": "display_data"
    }
   ],
   "source": [
    "data = df_std.dropna(subset=['oldpeak_eq_st_depression_std', 'heart_disease_present'])\n",
    "sns.violinplot(x='heart_disease_present', y='oldpeak_eq_st_depression_std', data=data, whis=10)\n",
    "sns.set(style=\"whitegrid\", palette=\"pastel\", color_codes=True)\n",
    "\n",
    "\n",
    "sns.despine(left=True, bottom=True)\n",
    "plt.xticks(rotation=45)\n",
    "plt.xlabel('Heart Disease Present (1=Yes)')\n",
    "plt.ylabel('ST Depression');"
   ]
  },
  {
   "cell_type": "code",
   "execution_count": 45,
   "metadata": {},
   "outputs": [
    {
     "data": {
      "text/plain": [
       "Text(0.5, 0, 'Heart Disease Present (1=Yes)')"
      ]
     },
     "execution_count": 45,
     "metadata": {},
     "output_type": "execute_result"
    },
    {
     "data": {
      "image/png": "[encoded data removed]",
      "text/plain": [
       "<Figure size 432x288 with 1 Axes>"
      ]
     },
     "metadata": {},
     "output_type": "display_data"
    }
   ],
   "source": [
    "data = df_std.dropna(subset=['num_major_vessels_std', 'heart_disease_present'])\n",
    "sns.violinplot(x='heart_disease_present', y='num_major_vessels_std', data=data, whis=10)\n",
    "sns.set(style=\"whitegrid\", palette=\"pastel\", color_codes=True)\n",
    "\n",
    "\n",
    "sns.despine(left=True, bottom=True)\n",
    "plt.xticks(rotation=45)\n",
    "plt.ylabel('Number of Major Vessels on Fluorosopy')\n",
    "plt.xlabel('Heart Disease Present (1=Yes)')"
   ]
  },
  {
   "cell_type": "markdown",
   "metadata": {},
   "source": [
    "The violin plot above tells us that those without heart disease tend to have fewer blood vessels show up on the fluorosopy involved during data collection."
   ]
  },
  {
   "cell_type": "code",
   "execution_count": 46,
   "metadata": {},
   "outputs": [
    {
     "data": {
      "text/plain": [
       "Text(0.5, 0, 'Heart Disease Present (1=Yes)')"
      ]
     },
     "execution_count": 46,
     "metadata": {},
     "output_type": "execute_result"
    },
    {
     "data": {
      "image/png": "[encoded data removed]",
      "text/plain": [
       "<Figure size 432x288 with 1 Axes>"
      ]
     },
     "metadata": {},
     "output_type": "display_data"
    }
   ],
   "source": [
    "data = df_std.dropna(subset=['age_std', 'heart_disease_present'])\n",
    "sns.violinplot(x='heart_disease_present', y='age_std', data=data, whis=10)\n",
    "sns.set(style=\"whitegrid\", palette=\"pastel\", color_codes=True)\n",
    "\n",
    "\n",
    "sns.despine(left=True, bottom=True)\n",
    "plt.xticks(rotation=45)\n",
    "plt.ylabel('Age Standardized')\n",
    "plt.xlabel('Heart Disease Present (1=Yes)')"
   ]
  },
  {
   "cell_type": "markdown",
   "metadata": {},
   "source": [
    "The plot above shows that heart disease tends to occur in the older population."
   ]
  },
  {
   "cell_type": "code",
   "execution_count": 47,
   "metadata": {},
   "outputs": [
    {
     "data": {
      "text/plain": [
       "Text(0.5, 0, 'Heart Disease Present (1=Yes)')"
      ]
     },
     "execution_count": 47,
     "metadata": {},
     "output_type": "execute_result"
    },
    {
     "data": {
      "image/png": "[encoded data removed]",
      "text/plain": [
       "<Figure size 432x288 with 1 Axes>"
      ]
     },
     "metadata": {},
     "output_type": "display_data"
    }
   ],
   "source": [
    "data = df_std.dropna(subset=['chest_pain_type_std', 'heart_disease_present'])\n",
    "sns.violinplot(x='heart_disease_present', y='chest_pain_type_std', data=data, whis=10)\n",
    "sns.set(style=\"whitegrid\", palette=\"pastel\", color_codes=True)\n",
    "\n",
    "\n",
    "sns.despine(left=True, bottom=True)\n",
    "plt.xticks(rotation=45)\n",
    "plt.ylabel('Chest Pain Type')\n",
    "plt.xlabel('Heart Disease Present (1=Yes)')"
   ]
  },
  {
   "cell_type": "markdown",
   "metadata": {},
   "source": [
    "Chest pain types were coded from 1-4 in the original dataset, with the values as follows:\n",
    "\n",
    "            Value 1: typical angina\n",
    "        \n",
    "            Value 2: atypical angina\n",
    "        \n",
    "            Value 3: non-anginal pain\n",
    "        \n",
    "            Value 4: asymptomatic\n",
    "\n",
    "The plot above indicated that those with heart disease tended to report being asymptomatic at a higher rate. This is very, very counterintuitive. I've checked the dataset several times to make sure this is correct, and it seems to be; it just doesn't make much intuitive sense. "
   ]
  },
  {
   "cell_type": "code",
   "execution_count": 48,
   "metadata": {},
   "outputs": [
    {
     "data": {
      "text/plain": [
       "Text(0.5, 0, 'Heart Disease Present (1=Yes)')"
      ]
     },
     "execution_count": 48,
     "metadata": {},
     "output_type": "execute_result"
    },
    {
     "data": {
      "image/png": "[encoded data removed]",
      "text/plain": [
       "<Figure size 432x288 with 1 Axes>"
      ]
     },
     "metadata": {},
     "output_type": "display_data"
    }
   ],
   "source": [
    "data = df_std.dropna(subset=['max_heart_rate_achieved_std', 'heart_disease_present'])\n",
    "sns.violinplot(x='heart_disease_present', y='max_heart_rate_achieved_std', data=data, whis=10)\n",
    "sns.set(style=\"whitegrid\", palette=\"pastel\", color_codes=True)\n",
    "\n",
    "\n",
    "sns.despine(left=True, bottom=True)\n",
    "plt.xticks(rotation=45)\n",
    "plt.ylabel('Max Heart Rate Achieved')\n",
    "plt.xlabel('Heart Disease Present (1=Yes)')"
   ]
  },
  {
   "cell_type": "markdown",
   "metadata": {},
   "source": [
    "The plot above indicates that those who are able to reach a higher max heart rate are less likely to have heart disease."
   ]
  },
  {
   "cell_type": "markdown",
   "metadata": {},
   "source": [
    "We will run one more logistic regression with the three most important features in the dataset as obtained by the random forest regression I ran earlier."
   ]
  },
  {
   "cell_type": "code",
   "execution_count": 49,
   "metadata": {},
   "outputs": [
    {
     "name": "stdout",
     "output_type": "stream",
     "text": [
      "Optimization terminated successfully.\n",
      "         Current function value: 0.460299\n",
      "         Iterations 6\n"
     ]
    },
    {
     "data": {
      "text/html": [
       "<table class=\"simpletable\">\n",
       "<caption>Logit Regression Results</caption>\n",
       "<tr>\n",
       "  <th>Dep. Variable:</th> <td>heart_disease_present</td> <th>  No. Observations:  </th>  <td>   180</td>  \n",
       "</tr>\n",
       "<tr>\n",
       "  <th>Model:</th>                 <td>Logit</td>         <th>  Df Residuals:      </th>  <td>   176</td>  \n",
       "</tr>\n",
       "<tr>\n",
       "  <th>Method:</th>                 <td>MLE</td>          <th>  Df Model:          </th>  <td>     3</td>  \n",
       "</tr>\n",
       "<tr>\n",
       "  <th>Date:</th>            <td>Mon, 29 Apr 2019</td>    <th>  Pseudo R-squ.:     </th>  <td>0.3299</td>  \n",
       "</tr>\n",
       "<tr>\n",
       "  <th>Time:</th>                <td>23:58:32</td>        <th>  Log-Likelihood:    </th> <td> -82.854</td> \n",
       "</tr>\n",
       "<tr>\n",
       "  <th>converged:</th>             <td>True</td>          <th>  LL-Null:           </th> <td> -123.65</td> \n",
       "</tr>\n",
       "<tr>\n",
       "  <th> </th>                        <td> </td>           <th>  LLR p-value:       </th> <td>1.393e-17</td>\n",
       "</tr>\n",
       "</table>\n",
       "<table class=\"simpletable\">\n",
       "<tr>\n",
       "                <td></td>                  <th>coef</th>     <th>std err</th>      <th>z</th>      <th>P>|z|</th>  <th>[0.025</th>    <th>0.975]</th>  \n",
       "</tr>\n",
       "<tr>\n",
       "  <th>Intercept</th>                    <td>   -0.2066</td> <td>    0.196</td> <td>   -1.052</td> <td> 0.293</td> <td>   -0.592</td> <td>    0.178</td>\n",
       "</tr>\n",
       "<tr>\n",
       "  <th>chest_pain_type_std</th>          <td>    0.9876</td> <td>    0.218</td> <td>    4.520</td> <td> 0.000</td> <td>    0.559</td> <td>    1.416</td>\n",
       "</tr>\n",
       "<tr>\n",
       "  <th>num_major_vessels_std</th>        <td>    0.8962</td> <td>    0.230</td> <td>    3.897</td> <td> 0.000</td> <td>    0.446</td> <td>    1.347</td>\n",
       "</tr>\n",
       "<tr>\n",
       "  <th>oldpeak_eq_st_depression_std</th> <td>    1.0797</td> <td>    0.244</td> <td>    4.425</td> <td> 0.000</td> <td>    0.601</td> <td>    1.558</td>\n",
       "</tr>\n",
       "</table>"
      ],
      "text/plain": [
       "<class 'statsmodels.iolib.summary.Summary'>\n",
       "\"\"\"\n",
       "                             Logit Regression Results                            \n",
       "=================================================================================\n",
       "Dep. Variable:     heart_disease_present   No. Observations:                  180\n",
       "Model:                             Logit   Df Residuals:                      176\n",
       "Method:                              MLE   Df Model:                            3\n",
       "Date:                   Mon, 29 Apr 2019   Pseudo R-squ.:                  0.3299\n",
       "Time:                           23:58:32   Log-Likelihood:                -82.854\n",
       "converged:                          True   LL-Null:                       -123.65\n",
       "                                           LLR p-value:                 1.393e-17\n",
       "================================================================================================\n",
       "                                   coef    std err          z      P>|z|      [0.025      0.975]\n",
       "------------------------------------------------------------------------------------------------\n",
       "Intercept                       -0.2066      0.196     -1.052      0.293      -0.592       0.178\n",
       "chest_pain_type_std              0.9876      0.218      4.520      0.000       0.559       1.416\n",
       "num_major_vessels_std            0.8962      0.230      3.897      0.000       0.446       1.347\n",
       "oldpeak_eq_st_depression_std     1.0797      0.244      4.425      0.000       0.601       1.558\n",
       "================================================================================================\n",
       "\"\"\""
      ]
     },
     "execution_count": 49,
     "metadata": {},
     "output_type": "execute_result"
    }
   ],
   "source": [
    "model = smf.logit('heart_disease_present ~ chest_pain_type_std + num_major_vessels_std + oldpeak_eq_st_depression_std', data=combo)\n",
    "fit = model.fit()\n",
    "fit.summary()"
   ]
  },
  {
   "cell_type": "markdown",
   "metadata": {},
   "source": [
    "With a pseudo r-squared of 0.329, and negligible p-values for all variables included in the model, this seems to be a fairly predictive combination. To confirm that there wasn't an error where every variable was giving me a p value of 0, I ran the logistic model below."
   ]
  },
  {
   "cell_type": "code",
   "execution_count": 50,
   "metadata": {},
   "outputs": [
    {
     "name": "stdout",
     "output_type": "stream",
     "text": [
      "Optimization terminated successfully.\n",
      "         Current function value: 0.459974\n",
      "         Iterations 6\n"
     ]
    },
    {
     "data": {
      "text/html": [
       "<table class=\"simpletable\">\n",
       "<caption>Logit Regression Results</caption>\n",
       "<tr>\n",
       "  <th>Dep. Variable:</th> <td>heart_disease_present</td> <th>  No. Observations:  </th>  <td>   180</td>  \n",
       "</tr>\n",
       "<tr>\n",
       "  <th>Model:</th>                 <td>Logit</td>         <th>  Df Residuals:      </th>  <td>   175</td>  \n",
       "</tr>\n",
       "<tr>\n",
       "  <th>Method:</th>                 <td>MLE</td>          <th>  Df Model:          </th>  <td>     4</td>  \n",
       "</tr>\n",
       "<tr>\n",
       "  <th>Date:</th>            <td>Mon, 29 Apr 2019</td>    <th>  Pseudo R-squ.:     </th>  <td>0.3304</td>  \n",
       "</tr>\n",
       "<tr>\n",
       "  <th>Time:</th>                <td>23:58:32</td>        <th>  Log-Likelihood:    </th> <td> -82.795</td> \n",
       "</tr>\n",
       "<tr>\n",
       "  <th>converged:</th>             <td>True</td>          <th>  LL-Null:           </th> <td> -123.65</td> \n",
       "</tr>\n",
       "<tr>\n",
       "  <th> </th>                        <td> </td>           <th>  LLR p-value:       </th> <td>7.542e-17</td>\n",
       "</tr>\n",
       "</table>\n",
       "<table class=\"simpletable\">\n",
       "<tr>\n",
       "                <td></td>                  <th>coef</th>     <th>std err</th>      <th>z</th>      <th>P>|z|</th>  <th>[0.025</th>    <th>0.975]</th>  \n",
       "</tr>\n",
       "<tr>\n",
       "  <th>Intercept</th>                    <td>   -0.2017</td> <td>    0.197</td> <td>   -1.023</td> <td> 0.306</td> <td>   -0.588</td> <td>    0.185</td>\n",
       "</tr>\n",
       "<tr>\n",
       "  <th>age_std_sex</th>                  <td>   -0.0718</td> <td>    0.210</td> <td>   -0.341</td> <td> 0.733</td> <td>   -0.484</td> <td>    0.340</td>\n",
       "</tr>\n",
       "<tr>\n",
       "  <th>chest_pain_type_std</th>          <td>    0.9886</td> <td>    0.219</td> <td>    4.521</td> <td> 0.000</td> <td>    0.560</td> <td>    1.417</td>\n",
       "</tr>\n",
       "<tr>\n",
       "  <th>num_major_vessels_std</th>        <td>    0.9232</td> <td>    0.245</td> <td>    3.770</td> <td> 0.000</td> <td>    0.443</td> <td>    1.403</td>\n",
       "</tr>\n",
       "<tr>\n",
       "  <th>oldpeak_eq_st_depression_std</th> <td>    1.0939</td> <td>    0.248</td> <td>    4.415</td> <td> 0.000</td> <td>    0.608</td> <td>    1.580</td>\n",
       "</tr>\n",
       "</table>"
      ],
      "text/plain": [
       "<class 'statsmodels.iolib.summary.Summary'>\n",
       "\"\"\"\n",
       "                             Logit Regression Results                            \n",
       "=================================================================================\n",
       "Dep. Variable:     heart_disease_present   No. Observations:                  180\n",
       "Model:                             Logit   Df Residuals:                      175\n",
       "Method:                              MLE   Df Model:                            4\n",
       "Date:                   Mon, 29 Apr 2019   Pseudo R-squ.:                  0.3304\n",
       "Time:                           23:58:32   Log-Likelihood:                -82.795\n",
       "converged:                          True   LL-Null:                       -123.65\n",
       "                                           LLR p-value:                 7.542e-17\n",
       "================================================================================================\n",
       "                                   coef    std err          z      P>|z|      [0.025      0.975]\n",
       "------------------------------------------------------------------------------------------------\n",
       "Intercept                       -0.2017      0.197     -1.023      0.306      -0.588       0.185\n",
       "age_std_sex                     -0.0718      0.210     -0.341      0.733      -0.484       0.340\n",
       "chest_pain_type_std              0.9886      0.219      4.521      0.000       0.560       1.417\n",
       "num_major_vessels_std            0.9232      0.245      3.770      0.000       0.443       1.403\n",
       "oldpeak_eq_st_depression_std     1.0939      0.248      4.415      0.000       0.608       1.580\n",
       "================================================================================================\n",
       "\"\"\""
      ]
     },
     "execution_count": 50,
     "metadata": {},
     "output_type": "execute_result"
    }
   ],
   "source": [
    "model = smf.logit('heart_disease_present ~ age_std_sex + chest_pain_type_std + num_major_vessels_std + oldpeak_eq_st_depression_std', data=combo)\n",
    "fit = model.fit()\n",
    "fit.summary()"
   ]
  },
  {
   "cell_type": "markdown",
   "metadata": {},
   "source": [
    "It appears that the added variable does not have much statistical significance."
   ]
  },
  {
   "cell_type": "markdown",
   "metadata": {},
   "source": [
    "Now, let's see how a neural network stacks up against that competition."
   ]
  },
  {
   "cell_type": "code",
   "execution_count": 51,
   "metadata": {},
   "outputs": [],
   "source": [
    "y = df_std[['patient_id','heart_disease_present']]\n",
    "X = df_std.drop('heart_disease_present', axis=1)\n",
    "X_train, X_test, y_train, y_test = train_test_split(X, y, \n",
    "                                                    test_size=0.2, random_state=42)"
   ]
  },
  {
   "cell_type": "code",
   "execution_count": 52,
   "metadata": {},
   "outputs": [
    {
     "data": {
      "text/plain": [
       "Index(['slope_of_peak_exercise_st_segment_std', 'resting_blood_pressure_std',\n",
       "       'chest_pain_type_std', 'num_major_vessels_std',\n",
       "       'serum_cholesterol_mg_per_dl_std', 'oldpeak_eq_st_depression_std',\n",
       "       'age_std', 'max_heart_rate_achieved_std', 'resting_ekg_results_std',\n",
       "       'resting_ekg_results_std', 'patient_id'],\n",
       "      dtype='object')"
      ]
     },
     "execution_count": 52,
     "metadata": {},
     "output_type": "execute_result"
    }
   ],
   "source": [
    "X_train.columns"
   ]
  },
  {
   "cell_type": "code",
   "execution_count": 53,
   "metadata": {},
   "outputs": [
    {
     "name": "stdout",
     "output_type": "stream",
     "text": [
      "WARNING:tensorflow:From /home/dconnolly/anaconda3/lib/python3.7/site-packages/tensorflow/python/framework/op_def_library.py:263: colocate_with (from tensorflow.python.framework.ops) is deprecated and will be removed in a future version.\n",
      "Instructions for updating:\n",
      "Colocations handled automatically by placer.\n",
      "WARNING:tensorflow:From /home/dconnolly/anaconda3/lib/python3.7/site-packages/tensorflow/python/ops/math_ops.py:3066: to_int32 (from tensorflow.python.ops.math_ops) is deprecated and will be removed in a future version.\n",
      "Instructions for updating:\n",
      "Use tf.cast instead.\n",
      "Train on 125 samples, validate on 55 samples\n",
      "Epoch 1/10\n",
      "125/125 [==============================] - 0s 2ms/step - loss: 6.7053 - acc: 0.5600 - val_loss: 8.2056 - val_acc: 0.3636\n",
      "Epoch 2/10\n",
      "125/125 [==============================] - 0s 54us/step - loss: 6.7051 - acc: 0.4080 - val_loss: 8.2056 - val_acc: 0.2364\n",
      "Epoch 3/10\n",
      "125/125 [==============================] - 0s 66us/step - loss: 6.7051 - acc: 0.1840 - val_loss: 8.2056 - val_acc: 0.1636\n",
      "Epoch 4/10\n",
      "125/125 [==============================] - 0s 58us/step - loss: 6.7051 - acc: 0.1200 - val_loss: 8.2056 - val_acc: 0.0727\n",
      "Epoch 5/10\n",
      "125/125 [==============================] - 0s 80us/step - loss: 6.7051 - acc: 0.0880 - val_loss: 8.2056 - val_acc: 0.0545\n",
      "Epoch 6/10\n",
      "125/125 [==============================] - 0s 73us/step - loss: 6.7051 - acc: 0.0640 - val_loss: 8.2056 - val_acc: 0.0364\n",
      "Epoch 7/10\n",
      "125/125 [==============================] - 0s 75us/step - loss: 6.7051 - acc: 0.0640 - val_loss: 8.2056 - val_acc: 0.0364\n",
      "Epoch 8/10\n",
      "125/125 [==============================] - 0s 66us/step - loss: 6.7051 - acc: 0.0560 - val_loss: 8.2056 - val_acc: 0.0364\n",
      "Epoch 9/10\n",
      "125/125 [==============================] - 0s 59us/step - loss: 6.7051 - acc: 0.0560 - val_loss: 8.2056 - val_acc: 0.0364\n",
      "Epoch 10/10\n",
      "125/125 [==============================] - 0s 59us/step - loss: 6.7051 - acc: 0.0560 - val_loss: 8.2056 - val_acc: 0.0364\n"
     ]
    }
   ],
   "source": [
    "y = df_std['heart_disease_present']\n",
    "X = df_std.drop('heart_disease_present', axis=1)\n",
    "n_cols = X.drop('patient_id', axis=1).shape[1]\n",
    "# n_cols = h.shape[1]\n",
    "# print(X_train['patient_id'].)\n",
    "# print(n_cols)\n",
    "model = Sequential()\n",
    "model.add(Dense(100, activation='relu', input_shape = (n_cols,)))\n",
    "model.add(Dense(100, activation='relu'))\n",
    "model.add(Dense(100, activation='relu'))\n",
    "model.add(Dense(1))\n",
    "model.compile(optimizer='adam', loss='binary_crossentropy',metrics=['accuracy'])\n",
    "mod = model.fit(X.drop('patient_id', axis=1), y, validation_split=0.3, epochs=10,verbose=1)"
   ]
  },
  {
   "cell_type": "markdown",
   "metadata": {},
   "source": [
    "To align with the test statistic of the DrivenData competition, I use the binary cross-entropy flag, which is essentially the same as the log loss function."
   ]
  },
  {
   "cell_type": "code",
   "execution_count": 54,
   "metadata": {},
   "outputs": [
    {
     "data": {
      "image/png": "[encoded data removed]",
      "text/plain": [
       "<Figure size 432x288 with 1 Axes>"
      ]
     },
     "metadata": {},
     "output_type": "display_data"
    },
    {
     "data": {
      "image/png": "[encoded data removed]",
      "text/plain": [
       "<Figure size 432x288 with 1 Axes>"
      ]
     },
     "metadata": {},
     "output_type": "display_data"
    }
   ],
   "source": [
    "# Plot training & validation accuracy values\n",
    "plt.plot(mod.history['acc'])\n",
    "plt.plot(mod.history['val_acc'])\n",
    "plt.title('Model accuracy')\n",
    "plt.ylabel('Accuracy')\n",
    "plt.xlabel('Epoch')\n",
    "plt.legend(['Train', 'Test'], loc='upper left')\n",
    "plt.show()\n",
    "\n",
    "# Plot training & validation loss values\n",
    "plt.plot(mod.history['loss'])\n",
    "plt.plot(mod.history['val_loss'])\n",
    "plt.title('Model loss')\n",
    "plt.ylabel('Loss')\n",
    "plt.xlabel('Epoch')\n",
    "plt.legend(['Train', 'Test'], loc='upper left')\n",
    "plt.show()\n"
   ]
  },
  {
   "cell_type": "markdown",
   "metadata": {},
   "source": [
    "On the whole, it does not seem that this neural network model performs particularly well on this dataset."
   ]
  },
  {
   "cell_type": "code",
   "execution_count": null,
   "metadata": {},
   "outputs": [],
   "source": []
  },
  {
   "cell_type": "code",
   "execution_count": null,
   "metadata": {},
   "outputs": [],
   "source": []
  },
  {
   "cell_type": "code",
   "execution_count": null,
   "metadata": {},
   "outputs": [],
   "source": []
  },
  {
   "cell_type": "code",
   "execution_count": null,
   "metadata": {},
   "outputs": [],
   "source": []
  },
  {
   "cell_type": "code",
   "execution_count": null,
   "metadata": {},
   "outputs": [],
   "source": []
  },
  {
   "cell_type": "code",
   "execution_count": null,
   "metadata": {},
   "outputs": [],
   "source": []
  },
  {
   "cell_type": "code",
   "execution_count": null,
   "metadata": {},
   "outputs": [],
   "source": []
  },
  {
   "cell_type": "code",
   "execution_count": null,
   "metadata": {},
   "outputs": [],
   "source": []
  },
  {
   "cell_type": "code",
   "execution_count": null,
   "metadata": {},
   "outputs": [],
   "source": []
  },
  {
   "cell_type": "code",
   "execution_count": null,
   "metadata": {},
   "outputs": [],
   "source": []
  },
  {
   "cell_type": "code",
   "execution_count": null,
   "metadata": {},
   "outputs": [],
   "source": []
  },
  {
   "cell_type": "code",
   "execution_count": null,
   "metadata": {},
   "outputs": [],
   "source": []
  }
 ],
 "metadata": {
  "kernelspec": {
   "display_name": "Python 3",
   "language": "python",
   "name": "python3"
  },
  "language_info": {
   "codemirror_mode": {
    "name": "ipython",
    "version": 3
   },
   "file_extension": ".py",
   "mimetype": "text/x-python",
   "name": "python",
   "nbconvert_exporter": "python",
   "pygments_lexer": "ipython3",
   "version": "3.7.1"
  }
 },
 "nbformat": 4,
 "nbformat_minor": 2
}
