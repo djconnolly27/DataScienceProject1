{
 "cells": [
  {
   "cell_type": "markdown",
   "metadata": {},
   "source": [
    "# Predicting Critical Temperature of Superconductors"
   ]
  },
  {
   "cell_type": "markdown",
   "metadata": {},
   "source": [
    "### Daniel Connolly"
   ]
  },
  {
   "cell_type": "markdown",
   "metadata": {},
   "source": [
    "Data Science Spring 2019\n",
    "\n",
    "[MIT License](https://en.wikipedia.org/wiki/MIT_License)"
   ]
  },
  {
   "cell_type": "raw",
   "metadata": {},
   "source": []
  },
  {
   "cell_type": "code",
   "execution_count": 1,
   "metadata": {},
   "outputs": [
    {
     "name": "stderr",
     "output_type": "stream",
     "text": [
      "Using TensorFlow backend.\n"
     ]
    }
   ],
   "source": [
    "import pandas as pd\n",
    "import numpy as np\n",
    "from sklearn.model_selection import train_test_split, GridSearchCV\n",
    "from sklearn.linear_model import Lasso\n",
    "import matplotlib.pyplot as plt\n",
    "from sklearn.metrics import classification_report, confusion_matrix\n",
    "from keras.layers import Dense\n",
    "from keras.models import Sequential\n",
    "from sklearn.ensemble import RandomForestRegressor\n",
    "import seaborn as sns"
   ]
  },
  {
   "cell_type": "markdown",
   "metadata": {},
   "source": [
    "I import the data, which was provided in csv format by the UCI Machine Learning repository."
   ]
  },
  {
   "cell_type": "code",
   "execution_count": 2,
   "metadata": {},
   "outputs": [],
   "source": [
    "train = pd.read_csv('train.csv')\n",
    "chems = pd.read_csv('unique_m.csv')"
   ]
  },
  {
   "cell_type": "code",
   "execution_count": 3,
   "metadata": {},
   "outputs": [
    {
     "data": {
      "text/html": [
       "<div>\n",
       "<style scoped>\n",
       "    .dataframe tbody tr th:only-of-type {\n",
       "        vertical-align: middle;\n",
       "    }\n",
       "\n",
       "    .dataframe tbody tr th {\n",
       "        vertical-align: top;\n",
       "    }\n",
       "\n",
       "    .dataframe thead th {\n",
       "        text-align: right;\n",
       "    }\n",
       "</style>\n",
       "<table border=\"1\" class=\"dataframe\">\n",
       "  <thead>\n",
       "    <tr style=\"text-align: right;\">\n",
       "      <th></th>\n",
       "      <th>number_of_elements</th>\n",
       "      <th>mean_atomic_mass</th>\n",
       "      <th>wtd_mean_atomic_mass</th>\n",
       "      <th>gmean_atomic_mass</th>\n",
       "      <th>wtd_gmean_atomic_mass</th>\n",
       "      <th>entropy_atomic_mass</th>\n",
       "      <th>wtd_entropy_atomic_mass</th>\n",
       "      <th>range_atomic_mass</th>\n",
       "      <th>wtd_range_atomic_mass</th>\n",
       "      <th>std_atomic_mass</th>\n",
       "      <th>...</th>\n",
       "      <th>wtd_mean_Valence</th>\n",
       "      <th>gmean_Valence</th>\n",
       "      <th>wtd_gmean_Valence</th>\n",
       "      <th>entropy_Valence</th>\n",
       "      <th>wtd_entropy_Valence</th>\n",
       "      <th>range_Valence</th>\n",
       "      <th>wtd_range_Valence</th>\n",
       "      <th>std_Valence</th>\n",
       "      <th>wtd_std_Valence</th>\n",
       "      <th>critical_temp</th>\n",
       "    </tr>\n",
       "  </thead>\n",
       "  <tbody>\n",
       "    <tr>\n",
       "      <th>0</th>\n",
       "      <td>4</td>\n",
       "      <td>88.944468</td>\n",
       "      <td>57.862692</td>\n",
       "      <td>66.361592</td>\n",
       "      <td>36.116612</td>\n",
       "      <td>1.181795</td>\n",
       "      <td>1.062396</td>\n",
       "      <td>122.90607</td>\n",
       "      <td>31.794921</td>\n",
       "      <td>51.968828</td>\n",
       "      <td>...</td>\n",
       "      <td>2.257143</td>\n",
       "      <td>2.213364</td>\n",
       "      <td>2.219783</td>\n",
       "      <td>1.368922</td>\n",
       "      <td>1.066221</td>\n",
       "      <td>1</td>\n",
       "      <td>1.085714</td>\n",
       "      <td>0.433013</td>\n",
       "      <td>0.437059</td>\n",
       "      <td>29.0</td>\n",
       "    </tr>\n",
       "    <tr>\n",
       "      <th>1</th>\n",
       "      <td>5</td>\n",
       "      <td>92.729214</td>\n",
       "      <td>58.518416</td>\n",
       "      <td>73.132787</td>\n",
       "      <td>36.396602</td>\n",
       "      <td>1.449309</td>\n",
       "      <td>1.057755</td>\n",
       "      <td>122.90607</td>\n",
       "      <td>36.161939</td>\n",
       "      <td>47.094633</td>\n",
       "      <td>...</td>\n",
       "      <td>2.257143</td>\n",
       "      <td>1.888175</td>\n",
       "      <td>2.210679</td>\n",
       "      <td>1.557113</td>\n",
       "      <td>1.047221</td>\n",
       "      <td>2</td>\n",
       "      <td>1.128571</td>\n",
       "      <td>0.632456</td>\n",
       "      <td>0.468606</td>\n",
       "      <td>26.0</td>\n",
       "    </tr>\n",
       "    <tr>\n",
       "      <th>2</th>\n",
       "      <td>4</td>\n",
       "      <td>88.944468</td>\n",
       "      <td>57.885242</td>\n",
       "      <td>66.361592</td>\n",
       "      <td>36.122509</td>\n",
       "      <td>1.181795</td>\n",
       "      <td>0.975980</td>\n",
       "      <td>122.90607</td>\n",
       "      <td>35.741099</td>\n",
       "      <td>51.968828</td>\n",
       "      <td>...</td>\n",
       "      <td>2.271429</td>\n",
       "      <td>2.213364</td>\n",
       "      <td>2.232679</td>\n",
       "      <td>1.368922</td>\n",
       "      <td>1.029175</td>\n",
       "      <td>1</td>\n",
       "      <td>1.114286</td>\n",
       "      <td>0.433013</td>\n",
       "      <td>0.444697</td>\n",
       "      <td>19.0</td>\n",
       "    </tr>\n",
       "    <tr>\n",
       "      <th>3</th>\n",
       "      <td>4</td>\n",
       "      <td>88.944468</td>\n",
       "      <td>57.873967</td>\n",
       "      <td>66.361592</td>\n",
       "      <td>36.119560</td>\n",
       "      <td>1.181795</td>\n",
       "      <td>1.022291</td>\n",
       "      <td>122.90607</td>\n",
       "      <td>33.768010</td>\n",
       "      <td>51.968828</td>\n",
       "      <td>...</td>\n",
       "      <td>2.264286</td>\n",
       "      <td>2.213364</td>\n",
       "      <td>2.226222</td>\n",
       "      <td>1.368922</td>\n",
       "      <td>1.048834</td>\n",
       "      <td>1</td>\n",
       "      <td>1.100000</td>\n",
       "      <td>0.433013</td>\n",
       "      <td>0.440952</td>\n",
       "      <td>22.0</td>\n",
       "    </tr>\n",
       "    <tr>\n",
       "      <th>4</th>\n",
       "      <td>4</td>\n",
       "      <td>88.944468</td>\n",
       "      <td>57.840143</td>\n",
       "      <td>66.361592</td>\n",
       "      <td>36.110716</td>\n",
       "      <td>1.181795</td>\n",
       "      <td>1.129224</td>\n",
       "      <td>122.90607</td>\n",
       "      <td>27.848743</td>\n",
       "      <td>51.968828</td>\n",
       "      <td>...</td>\n",
       "      <td>2.242857</td>\n",
       "      <td>2.213364</td>\n",
       "      <td>2.206963</td>\n",
       "      <td>1.368922</td>\n",
       "      <td>1.096052</td>\n",
       "      <td>1</td>\n",
       "      <td>1.057143</td>\n",
       "      <td>0.433013</td>\n",
       "      <td>0.428809</td>\n",
       "      <td>23.0</td>\n",
       "    </tr>\n",
       "  </tbody>\n",
       "</table>\n",
       "<p>5 rows × 82 columns</p>\n",
       "</div>"
      ],
      "text/plain": [
       "   number_of_elements  mean_atomic_mass  wtd_mean_atomic_mass  \\\n",
       "0                   4         88.944468             57.862692   \n",
       "1                   5         92.729214             58.518416   \n",
       "2                   4         88.944468             57.885242   \n",
       "3                   4         88.944468             57.873967   \n",
       "4                   4         88.944468             57.840143   \n",
       "\n",
       "   gmean_atomic_mass  wtd_gmean_atomic_mass  entropy_atomic_mass  \\\n",
       "0          66.361592              36.116612             1.181795   \n",
       "1          73.132787              36.396602             1.449309   \n",
       "2          66.361592              36.122509             1.181795   \n",
       "3          66.361592              36.119560             1.181795   \n",
       "4          66.361592              36.110716             1.181795   \n",
       "\n",
       "   wtd_entropy_atomic_mass  range_atomic_mass  wtd_range_atomic_mass  \\\n",
       "0                 1.062396          122.90607              31.794921   \n",
       "1                 1.057755          122.90607              36.161939   \n",
       "2                 0.975980          122.90607              35.741099   \n",
       "3                 1.022291          122.90607              33.768010   \n",
       "4                 1.129224          122.90607              27.848743   \n",
       "\n",
       "   std_atomic_mass  ...  wtd_mean_Valence  gmean_Valence  wtd_gmean_Valence  \\\n",
       "0        51.968828  ...          2.257143       2.213364           2.219783   \n",
       "1        47.094633  ...          2.257143       1.888175           2.210679   \n",
       "2        51.968828  ...          2.271429       2.213364           2.232679   \n",
       "3        51.968828  ...          2.264286       2.213364           2.226222   \n",
       "4        51.968828  ...          2.242857       2.213364           2.206963   \n",
       "\n",
       "   entropy_Valence  wtd_entropy_Valence  range_Valence  wtd_range_Valence  \\\n",
       "0         1.368922             1.066221              1           1.085714   \n",
       "1         1.557113             1.047221              2           1.128571   \n",
       "2         1.368922             1.029175              1           1.114286   \n",
       "3         1.368922             1.048834              1           1.100000   \n",
       "4         1.368922             1.096052              1           1.057143   \n",
       "\n",
       "   std_Valence  wtd_std_Valence  critical_temp  \n",
       "0     0.433013         0.437059           29.0  \n",
       "1     0.632456         0.468606           26.0  \n",
       "2     0.433013         0.444697           19.0  \n",
       "3     0.433013         0.440952           22.0  \n",
       "4     0.433013         0.428809           23.0  \n",
       "\n",
       "[5 rows x 82 columns]"
      ]
     },
     "execution_count": 3,
     "metadata": {},
     "output_type": "execute_result"
    }
   ],
   "source": [
    "train.head()"
   ]
  },
  {
   "cell_type": "code",
   "execution_count": 4,
   "metadata": {},
   "outputs": [
    {
     "data": {
      "text/html": [
       "<div>\n",
       "<style scoped>\n",
       "    .dataframe tbody tr th:only-of-type {\n",
       "        vertical-align: middle;\n",
       "    }\n",
       "\n",
       "    .dataframe tbody tr th {\n",
       "        vertical-align: top;\n",
       "    }\n",
       "\n",
       "    .dataframe thead th {\n",
       "        text-align: right;\n",
       "    }\n",
       "</style>\n",
       "<table border=\"1\" class=\"dataframe\">\n",
       "  <thead>\n",
       "    <tr style=\"text-align: right;\">\n",
       "      <th></th>\n",
       "      <th>H</th>\n",
       "      <th>He</th>\n",
       "      <th>Li</th>\n",
       "      <th>Be</th>\n",
       "      <th>B</th>\n",
       "      <th>C</th>\n",
       "      <th>N</th>\n",
       "      <th>O</th>\n",
       "      <th>F</th>\n",
       "      <th>Ne</th>\n",
       "      <th>...</th>\n",
       "      <th>Au</th>\n",
       "      <th>Hg</th>\n",
       "      <th>Tl</th>\n",
       "      <th>Pb</th>\n",
       "      <th>Bi</th>\n",
       "      <th>Po</th>\n",
       "      <th>At</th>\n",
       "      <th>Rn</th>\n",
       "      <th>critical_temp</th>\n",
       "      <th>material</th>\n",
       "    </tr>\n",
       "  </thead>\n",
       "  <tbody>\n",
       "    <tr>\n",
       "      <th>0</th>\n",
       "      <td>0.0</td>\n",
       "      <td>0</td>\n",
       "      <td>0.0</td>\n",
       "      <td>0.0</td>\n",
       "      <td>0.0</td>\n",
       "      <td>0.0</td>\n",
       "      <td>0.0</td>\n",
       "      <td>4.0</td>\n",
       "      <td>0.0</td>\n",
       "      <td>0</td>\n",
       "      <td>...</td>\n",
       "      <td>0.0</td>\n",
       "      <td>0.0</td>\n",
       "      <td>0.0</td>\n",
       "      <td>0.0</td>\n",
       "      <td>0.0</td>\n",
       "      <td>0</td>\n",
       "      <td>0</td>\n",
       "      <td>0</td>\n",
       "      <td>29.0</td>\n",
       "      <td>Ba0.2La1.8Cu1O4</td>\n",
       "    </tr>\n",
       "    <tr>\n",
       "      <th>1</th>\n",
       "      <td>0.0</td>\n",
       "      <td>0</td>\n",
       "      <td>0.0</td>\n",
       "      <td>0.0</td>\n",
       "      <td>0.0</td>\n",
       "      <td>0.0</td>\n",
       "      <td>0.0</td>\n",
       "      <td>4.0</td>\n",
       "      <td>0.0</td>\n",
       "      <td>0</td>\n",
       "      <td>...</td>\n",
       "      <td>0.0</td>\n",
       "      <td>0.0</td>\n",
       "      <td>0.0</td>\n",
       "      <td>0.0</td>\n",
       "      <td>0.0</td>\n",
       "      <td>0</td>\n",
       "      <td>0</td>\n",
       "      <td>0</td>\n",
       "      <td>26.0</td>\n",
       "      <td>Ba0.1La1.9Ag0.1Cu0.9O4</td>\n",
       "    </tr>\n",
       "    <tr>\n",
       "      <th>2</th>\n",
       "      <td>0.0</td>\n",
       "      <td>0</td>\n",
       "      <td>0.0</td>\n",
       "      <td>0.0</td>\n",
       "      <td>0.0</td>\n",
       "      <td>0.0</td>\n",
       "      <td>0.0</td>\n",
       "      <td>4.0</td>\n",
       "      <td>0.0</td>\n",
       "      <td>0</td>\n",
       "      <td>...</td>\n",
       "      <td>0.0</td>\n",
       "      <td>0.0</td>\n",
       "      <td>0.0</td>\n",
       "      <td>0.0</td>\n",
       "      <td>0.0</td>\n",
       "      <td>0</td>\n",
       "      <td>0</td>\n",
       "      <td>0</td>\n",
       "      <td>19.0</td>\n",
       "      <td>Ba0.1La1.9Cu1O4</td>\n",
       "    </tr>\n",
       "    <tr>\n",
       "      <th>3</th>\n",
       "      <td>0.0</td>\n",
       "      <td>0</td>\n",
       "      <td>0.0</td>\n",
       "      <td>0.0</td>\n",
       "      <td>0.0</td>\n",
       "      <td>0.0</td>\n",
       "      <td>0.0</td>\n",
       "      <td>4.0</td>\n",
       "      <td>0.0</td>\n",
       "      <td>0</td>\n",
       "      <td>...</td>\n",
       "      <td>0.0</td>\n",
       "      <td>0.0</td>\n",
       "      <td>0.0</td>\n",
       "      <td>0.0</td>\n",
       "      <td>0.0</td>\n",
       "      <td>0</td>\n",
       "      <td>0</td>\n",
       "      <td>0</td>\n",
       "      <td>22.0</td>\n",
       "      <td>Ba0.15La1.85Cu1O4</td>\n",
       "    </tr>\n",
       "    <tr>\n",
       "      <th>4</th>\n",
       "      <td>0.0</td>\n",
       "      <td>0</td>\n",
       "      <td>0.0</td>\n",
       "      <td>0.0</td>\n",
       "      <td>0.0</td>\n",
       "      <td>0.0</td>\n",
       "      <td>0.0</td>\n",
       "      <td>4.0</td>\n",
       "      <td>0.0</td>\n",
       "      <td>0</td>\n",
       "      <td>...</td>\n",
       "      <td>0.0</td>\n",
       "      <td>0.0</td>\n",
       "      <td>0.0</td>\n",
       "      <td>0.0</td>\n",
       "      <td>0.0</td>\n",
       "      <td>0</td>\n",
       "      <td>0</td>\n",
       "      <td>0</td>\n",
       "      <td>23.0</td>\n",
       "      <td>Ba0.3La1.7Cu1O4</td>\n",
       "    </tr>\n",
       "  </tbody>\n",
       "</table>\n",
       "<p>5 rows × 88 columns</p>\n",
       "</div>"
      ],
      "text/plain": [
       "     H  He   Li   Be    B    C    N    O    F  Ne  ...   Au   Hg   Tl   Pb  \\\n",
       "0  0.0   0  0.0  0.0  0.0  0.0  0.0  4.0  0.0   0  ...  0.0  0.0  0.0  0.0   \n",
       "1  0.0   0  0.0  0.0  0.0  0.0  0.0  4.0  0.0   0  ...  0.0  0.0  0.0  0.0   \n",
       "2  0.0   0  0.0  0.0  0.0  0.0  0.0  4.0  0.0   0  ...  0.0  0.0  0.0  0.0   \n",
       "3  0.0   0  0.0  0.0  0.0  0.0  0.0  4.0  0.0   0  ...  0.0  0.0  0.0  0.0   \n",
       "4  0.0   0  0.0  0.0  0.0  0.0  0.0  4.0  0.0   0  ...  0.0  0.0  0.0  0.0   \n",
       "\n",
       "    Bi  Po  At  Rn  critical_temp                material  \n",
       "0  0.0   0   0   0           29.0         Ba0.2La1.8Cu1O4  \n",
       "1  0.0   0   0   0           26.0  Ba0.1La1.9Ag0.1Cu0.9O4  \n",
       "2  0.0   0   0   0           19.0         Ba0.1La1.9Cu1O4  \n",
       "3  0.0   0   0   0           22.0       Ba0.15La1.85Cu1O4  \n",
       "4  0.0   0   0   0           23.0         Ba0.3La1.7Cu1O4  \n",
       "\n",
       "[5 rows x 88 columns]"
      ]
     },
     "execution_count": 4,
     "metadata": {},
     "output_type": "execute_result"
    }
   ],
   "source": [
    "chems.head()"
   ]
  },
  {
   "cell_type": "code",
   "execution_count": 5,
   "metadata": {},
   "outputs": [],
   "source": [
    "df_std = train.copy()"
   ]
  },
  {
   "cell_type": "markdown",
   "metadata": {},
   "source": [
    "Standardize the columns to avoid placing too much weight on any single feature."
   ]
  },
  {
   "cell_type": "code",
   "execution_count": 6,
   "metadata": {},
   "outputs": [],
   "source": [
    "def std_cols(df):\n",
    "    for col in df.columns:\n",
    "        df[col] = (df[col] - df[col].mean())/df[col].std()\n",
    "    return df"
   ]
  },
  {
   "cell_type": "code",
   "execution_count": 7,
   "metadata": {},
   "outputs": [
    {
     "data": {
      "text/html": [
       "<div>\n",
       "<style scoped>\n",
       "    .dataframe tbody tr th:only-of-type {\n",
       "        vertical-align: middle;\n",
       "    }\n",
       "\n",
       "    .dataframe tbody tr th {\n",
       "        vertical-align: top;\n",
       "    }\n",
       "\n",
       "    .dataframe thead th {\n",
       "        text-align: right;\n",
       "    }\n",
       "</style>\n",
       "<table border=\"1\" class=\"dataframe\">\n",
       "  <thead>\n",
       "    <tr style=\"text-align: right;\">\n",
       "      <th></th>\n",
       "      <th>number_of_elements</th>\n",
       "      <th>mean_atomic_mass</th>\n",
       "      <th>wtd_mean_atomic_mass</th>\n",
       "      <th>gmean_atomic_mass</th>\n",
       "      <th>wtd_gmean_atomic_mass</th>\n",
       "      <th>entropy_atomic_mass</th>\n",
       "      <th>wtd_entropy_atomic_mass</th>\n",
       "      <th>range_atomic_mass</th>\n",
       "      <th>wtd_range_atomic_mass</th>\n",
       "      <th>std_atomic_mass</th>\n",
       "      <th>...</th>\n",
       "      <th>wtd_mean_Valence</th>\n",
       "      <th>gmean_Valence</th>\n",
       "      <th>wtd_gmean_Valence</th>\n",
       "      <th>entropy_Valence</th>\n",
       "      <th>wtd_entropy_Valence</th>\n",
       "      <th>range_Valence</th>\n",
       "      <th>wtd_range_Valence</th>\n",
       "      <th>std_Valence</th>\n",
       "      <th>wtd_std_Valence</th>\n",
       "      <th>critical_temp</th>\n",
       "    </tr>\n",
       "  </thead>\n",
       "  <tbody>\n",
       "    <tr>\n",
       "      <th>0</th>\n",
       "      <td>-0.080056</td>\n",
       "      <td>0.046732</td>\n",
       "      <td>-0.451640</td>\n",
       "      <td>-0.158846</td>\n",
       "      <td>-0.611805</td>\n",
       "      <td>0.044357</td>\n",
       "      <td>-0.003707</td>\n",
       "      <td>0.133722</td>\n",
       "      <td>-0.053037</td>\n",
       "      <td>0.378177</td>\n",
       "      <td>...</td>\n",
       "      <td>-0.752138</td>\n",
       "      <td>-0.805893</td>\n",
       "      <td>-0.711688</td>\n",
       "      <td>0.186288</td>\n",
       "      <td>0.035182</td>\n",
       "      <td>-0.837939</td>\n",
       "      <td>-0.406157</td>\n",
       "      <td>-0.838353</td>\n",
       "      <td>-0.520057</td>\n",
       "      <td>-0.158264</td>\n",
       "    </tr>\n",
       "    <tr>\n",
       "      <th>1</th>\n",
       "      <td>0.614729</td>\n",
       "      <td>0.174265</td>\n",
       "      <td>-0.432061</td>\n",
       "      <td>0.059367</td>\n",
       "      <td>-0.604166</td>\n",
       "      <td>0.777412</td>\n",
       "      <td>-0.015267</td>\n",
       "      <td>0.133722</td>\n",
       "      <td>0.108898</td>\n",
       "      <td>0.134898</td>\n",
       "      <td>...</td>\n",
       "      <td>-0.752138</td>\n",
       "      <td>-1.116705</td>\n",
       "      <td>-0.719437</td>\n",
       "      <td>0.664955</td>\n",
       "      <td>-0.014779</td>\n",
       "      <td>-0.033010</td>\n",
       "      <td>-0.362343</td>\n",
       "      <td>-0.426856</td>\n",
       "      <td>-0.450811</td>\n",
       "      <td>-0.245844</td>\n",
       "    </tr>\n",
       "    <tr>\n",
       "      <th>2</th>\n",
       "      <td>-0.080056</td>\n",
       "      <td>0.046732</td>\n",
       "      <td>-0.450967</td>\n",
       "      <td>-0.158846</td>\n",
       "      <td>-0.611644</td>\n",
       "      <td>0.044357</td>\n",
       "      <td>-0.218978</td>\n",
       "      <td>0.133722</td>\n",
       "      <td>0.093292</td>\n",
       "      <td>0.378177</td>\n",
       "      <td>...</td>\n",
       "      <td>-0.740146</td>\n",
       "      <td>-0.805893</td>\n",
       "      <td>-0.700712</td>\n",
       "      <td>0.186288</td>\n",
       "      <td>-0.062233</td>\n",
       "      <td>-0.837939</td>\n",
       "      <td>-0.376948</td>\n",
       "      <td>-0.838353</td>\n",
       "      <td>-0.503292</td>\n",
       "      <td>-0.450197</td>\n",
       "    </tr>\n",
       "    <tr>\n",
       "      <th>3</th>\n",
       "      <td>-0.080056</td>\n",
       "      <td>0.046732</td>\n",
       "      <td>-0.451304</td>\n",
       "      <td>-0.158846</td>\n",
       "      <td>-0.611724</td>\n",
       "      <td>0.044357</td>\n",
       "      <td>-0.103613</td>\n",
       "      <td>0.133722</td>\n",
       "      <td>0.020127</td>\n",
       "      <td>0.378177</td>\n",
       "      <td>...</td>\n",
       "      <td>-0.746142</td>\n",
       "      <td>-0.805893</td>\n",
       "      <td>-0.706208</td>\n",
       "      <td>0.186288</td>\n",
       "      <td>-0.010537</td>\n",
       "      <td>-0.837939</td>\n",
       "      <td>-0.391552</td>\n",
       "      <td>-0.838353</td>\n",
       "      <td>-0.511512</td>\n",
       "      <td>-0.362617</td>\n",
       "    </tr>\n",
       "    <tr>\n",
       "      <th>4</th>\n",
       "      <td>-0.080056</td>\n",
       "      <td>0.046732</td>\n",
       "      <td>-0.452314</td>\n",
       "      <td>-0.158846</td>\n",
       "      <td>-0.611966</td>\n",
       "      <td>0.044357</td>\n",
       "      <td>0.162771</td>\n",
       "      <td>0.133722</td>\n",
       "      <td>-0.199367</td>\n",
       "      <td>0.378177</td>\n",
       "      <td>...</td>\n",
       "      <td>-0.764131</td>\n",
       "      <td>-0.805893</td>\n",
       "      <td>-0.722601</td>\n",
       "      <td>0.186288</td>\n",
       "      <td>0.113625</td>\n",
       "      <td>-0.837939</td>\n",
       "      <td>-0.435366</td>\n",
       "      <td>-0.838353</td>\n",
       "      <td>-0.538165</td>\n",
       "      <td>-0.333424</td>\n",
       "    </tr>\n",
       "  </tbody>\n",
       "</table>\n",
       "<p>5 rows × 82 columns</p>\n",
       "</div>"
      ],
      "text/plain": [
       "   number_of_elements  mean_atomic_mass  wtd_mean_atomic_mass  \\\n",
       "0           -0.080056          0.046732             -0.451640   \n",
       "1            0.614729          0.174265             -0.432061   \n",
       "2           -0.080056          0.046732             -0.450967   \n",
       "3           -0.080056          0.046732             -0.451304   \n",
       "4           -0.080056          0.046732             -0.452314   \n",
       "\n",
       "   gmean_atomic_mass  wtd_gmean_atomic_mass  entropy_atomic_mass  \\\n",
       "0          -0.158846              -0.611805             0.044357   \n",
       "1           0.059367              -0.604166             0.777412   \n",
       "2          -0.158846              -0.611644             0.044357   \n",
       "3          -0.158846              -0.611724             0.044357   \n",
       "4          -0.158846              -0.611966             0.044357   \n",
       "\n",
       "   wtd_entropy_atomic_mass  range_atomic_mass  wtd_range_atomic_mass  \\\n",
       "0                -0.003707           0.133722              -0.053037   \n",
       "1                -0.015267           0.133722               0.108898   \n",
       "2                -0.218978           0.133722               0.093292   \n",
       "3                -0.103613           0.133722               0.020127   \n",
       "4                 0.162771           0.133722              -0.199367   \n",
       "\n",
       "   std_atomic_mass  ...  wtd_mean_Valence  gmean_Valence  wtd_gmean_Valence  \\\n",
       "0         0.378177  ...         -0.752138      -0.805893          -0.711688   \n",
       "1         0.134898  ...         -0.752138      -1.116705          -0.719437   \n",
       "2         0.378177  ...         -0.740146      -0.805893          -0.700712   \n",
       "3         0.378177  ...         -0.746142      -0.805893          -0.706208   \n",
       "4         0.378177  ...         -0.764131      -0.805893          -0.722601   \n",
       "\n",
       "   entropy_Valence  wtd_entropy_Valence  range_Valence  wtd_range_Valence  \\\n",
       "0         0.186288             0.035182      -0.837939          -0.406157   \n",
       "1         0.664955            -0.014779      -0.033010          -0.362343   \n",
       "2         0.186288            -0.062233      -0.837939          -0.376948   \n",
       "3         0.186288            -0.010537      -0.837939          -0.391552   \n",
       "4         0.186288             0.113625      -0.837939          -0.435366   \n",
       "\n",
       "   std_Valence  wtd_std_Valence  critical_temp  \n",
       "0    -0.838353        -0.520057      -0.158264  \n",
       "1    -0.426856        -0.450811      -0.245844  \n",
       "2    -0.838353        -0.503292      -0.450197  \n",
       "3    -0.838353        -0.511512      -0.362617  \n",
       "4    -0.838353        -0.538165      -0.333424  \n",
       "\n",
       "[5 rows x 82 columns]"
      ]
     },
     "execution_count": 7,
     "metadata": {},
     "output_type": "execute_result"
    }
   ],
   "source": [
    "std_cols(df_std)\n",
    "df_std.head()"
   ]
  },
  {
   "cell_type": "markdown",
   "metadata": {},
   "source": [
    "Break the data up into training and test sets. We are trying to predict the critical temperature, so we have create a separate dataframe containing only that column from the original data as the output of our system."
   ]
  },
  {
   "cell_type": "code",
   "execution_count": 8,
   "metadata": {},
   "outputs": [],
   "source": [
    "y = df_std['critical_temp']\n",
    "X = df_std.drop('critical_temp', axis=1)\n",
    "X_train, X_test, y_train, y_test = train_test_split(X, y, \n",
    "                                                    test_size=0.2, random_state=42)"
   ]
  },
  {
   "cell_type": "markdown",
   "metadata": {},
   "source": [
    "Create a Keras neural network with two hidden layers that will try to find the critical temperature."
   ]
  },
  {
   "cell_type": "code",
   "execution_count": 9,
   "metadata": {},
   "outputs": [
    {
     "name": "stdout",
     "output_type": "stream",
     "text": [
      "WARNING:tensorflow:From /home/dconnolly/anaconda3/lib/python3.7/site-packages/tensorflow/python/framework/op_def_library.py:263: colocate_with (from tensorflow.python.framework.ops) is deprecated and will be removed in a future version.\n",
      "Instructions for updating:\n",
      "Colocations handled automatically by placer.\n",
      "WARNING:tensorflow:From /home/dconnolly/anaconda3/lib/python3.7/site-packages/tensorflow/python/ops/math_ops.py:3066: to_int32 (from tensorflow.python.ops.math_ops) is deprecated and will be removed in a future version.\n",
      "Instructions for updating:\n",
      "Use tf.cast instead.\n",
      "Epoch 1/1\n",
      "17010/17010 [==============================] - 1s 36us/step - loss: 0.2510\n"
     ]
    },
    {
     "data": {
      "text/plain": [
       "<keras.callbacks.History at 0x7f1e14476b70>"
      ]
     },
     "execution_count": 9,
     "metadata": {},
     "output_type": "execute_result"
    }
   ],
   "source": [
    "n_cols = X.shape[1]\n",
    "model = Sequential()\n",
    "model.add(Dense(100, activation='relu', input_shape = (n_cols,)))\n",
    "model.add(Dense(100, activation='relu'))\n",
    "model.add(Dense(1))\n",
    "model.compile(optimizer='adam', loss='mean_squared_error')\n",
    "model.fit(X_train, y_train)"
   ]
  },
  {
   "cell_type": "markdown",
   "metadata": {},
   "source": [
    "With a loss of 0.249, this model does not seem to perform particularly well."
   ]
  },
  {
   "cell_type": "code",
   "execution_count": 10,
   "metadata": {},
   "outputs": [
    {
     "name": "stdout",
     "output_type": "stream",
     "text": [
      "_________________________________________________________________\n",
      "Layer (type)                 Output Shape              Param #   \n",
      "=================================================================\n",
      "dense_1 (Dense)              (None, 100)               8200      \n",
      "_________________________________________________________________\n",
      "dense_2 (Dense)              (None, 100)               10100     \n",
      "_________________________________________________________________\n",
      "dense_3 (Dense)              (None, 1)                 101       \n",
      "=================================================================\n",
      "Total params: 18,401\n",
      "Trainable params: 18,401\n",
      "Non-trainable params: 0\n",
      "_________________________________________________________________\n"
     ]
    }
   ],
   "source": [
    "model.summary()"
   ]
  },
  {
   "cell_type": "code",
   "execution_count": 11,
   "metadata": {},
   "outputs": [],
   "source": [
    "predictions = model.predict(X_test)"
   ]
  },
  {
   "cell_type": "code",
   "execution_count": 12,
   "metadata": {},
   "outputs": [
    {
     "data": {
      "text/plain": [
       "array([[-0.77009016],\n",
       "       [ 1.419061  ],\n",
       "       [ 0.69575197],\n",
       "       ...,\n",
       "       [-0.9497979 ],\n",
       "       [-0.7588753 ],\n",
       "       [-0.6411552 ]], dtype=float32)"
      ]
     },
     "execution_count": 12,
     "metadata": {},
     "output_type": "execute_result"
    }
   ],
   "source": [
    "predictions"
   ]
  },
  {
   "cell_type": "code",
   "execution_count": 13,
   "metadata": {},
   "outputs": [],
   "source": [
    "def mse(pred, true):\n",
    "    mse = np.zeros(len(pred))\n",
    "    for i in range(len(pred)):\n",
    "        mse[i] = (np.mean((true.values[i] - pred[i][0])**2))\n",
    "    mean = mse.mean()\n",
    "    return mse, mean"
   ]
  },
  {
   "cell_type": "code",
   "execution_count": 14,
   "metadata": {},
   "outputs": [
    {
     "data": {
      "text/plain": [
       "(array([2.29857235e-03, 5.68834679e-02, 3.49606504e-01, ...,\n",
       "        2.21874794e-03, 6.37834061e-05, 9.05710206e-02]), 0.18002846784181495)"
      ]
     },
     "execution_count": 14,
     "metadata": {},
     "output_type": "execute_result"
    }
   ],
   "source": [
    "error, mean_error = mse(predictions, y_test)\n",
    "error, mean_error"
   ]
  },
  {
   "cell_type": "markdown",
   "metadata": {},
   "source": [
    "Yup, this model does not seem to work particularly well. Let's try a random forest model."
   ]
  },
  {
   "cell_type": "code",
   "execution_count": 15,
   "metadata": {},
   "outputs": [
    {
     "data": {
      "text/plain": [
       "RandomForestRegressor(bootstrap=True, criterion='mse', max_depth=2,\n",
       "           max_features='auto', max_leaf_nodes=None,\n",
       "           min_impurity_decrease=0.0, min_impurity_split=None,\n",
       "           min_samples_leaf=1, min_samples_split=2,\n",
       "           min_weight_fraction_leaf=0.0, n_estimators=100, n_jobs=None,\n",
       "           oob_score=False, random_state=0, verbose=0, warm_start=False)"
      ]
     },
     "execution_count": 15,
     "metadata": {},
     "output_type": "execute_result"
    }
   ],
   "source": [
    "regr = RandomForestRegressor(max_depth=2,random_state=0,n_estimators=100)\n",
    "regr.fit(X_train,y_train)"
   ]
  },
  {
   "cell_type": "code",
   "execution_count": 16,
   "metadata": {},
   "outputs": [],
   "source": [
    "imp = regr.feature_importances_"
   ]
  },
  {
   "cell_type": "code",
   "execution_count": 17,
   "metadata": {},
   "outputs": [],
   "source": [
    "def get_feats(df, importance):\n",
    "    ll = dict()\n",
    "    for i in range(len(df.columns)-1):\n",
    "        if (importance[i] > 0):\n",
    "            ll[df.columns[i]] = importance[i]\n",
    "    return ll"
   ]
  },
  {
   "cell_type": "code",
   "execution_count": 18,
   "metadata": {},
   "outputs": [
    {
     "data": {
      "text/plain": [
       "{'mean_Density': 0.013091539375679426,\n",
       " 'gmean_Density': 0.000820364280821392,\n",
       " 'wtd_gmean_ThermalConductivity': 0.18320716285975705,\n",
       " 'range_ThermalConductivity': 0.8028809334837423}"
      ]
     },
     "execution_count": 18,
     "metadata": {},
     "output_type": "execute_result"
    }
   ],
   "source": [
    "get_feats(df_std, imp)"
   ]
  },
  {
   "cell_type": "markdown",
   "metadata": {},
   "source": [
    "The random forest model suggests that only four variables actually matter, and those four can be further reduced to two main concepts: Density and Thermal Conductivity. Based on these results, Density and Thermal Conductivity contain nearly all of the predictive power of the variables we were provided. Given that critical temperature is a measure of the temperature at which a material becomes a superconductor, the fact that thermal conductivity has predictive power is not particularly suprising."
   ]
  },
  {
   "cell_type": "markdown",
   "metadata": {},
   "source": [
    "Below, while perhaps poor form, I use the unstandardized data. I do this because I had originally run this test (Lasso Regression) without standardizing the data and found notable features, but found no useful results with the standardized data. As a result, since I am still exploring which features in the dataset really matter, I felt it important to mention the finding that atomic mass and radius may also have some amount of predictive power."
   ]
  },
  {
   "cell_type": "code",
   "execution_count": 19,
   "metadata": {},
   "outputs": [],
   "source": [
    "y = train['critical_temp']\n",
    "X = train.drop('critical_temp', axis=1)"
   ]
  },
  {
   "cell_type": "code",
   "execution_count": 20,
   "metadata": {},
   "outputs": [],
   "source": [
    "X_train, X_test, y_train, y_test = train_test_split(X, y, \n",
    "                                                    test_size=0.2, random_state=42)"
   ]
  },
  {
   "cell_type": "code",
   "execution_count": 21,
   "metadata": {},
   "outputs": [
    {
     "data": {
      "text/plain": [
       "Lasso(alpha=0.1, copy_X=True, fit_intercept=True, max_iter=1000,\n",
       "   normalize=True, positive=False, precompute=False, random_state=None,\n",
       "   selection='cyclic', tol=0.0001, warm_start=False)"
      ]
     },
     "execution_count": 21,
     "metadata": {},
     "output_type": "execute_result"
    }
   ],
   "source": [
    "lasso = Lasso(alpha=0.1, normalize=True)\n",
    "lasso.fit(X_train, y_train)"
   ]
  },
  {
   "cell_type": "code",
   "execution_count": 22,
   "metadata": {},
   "outputs": [
    {
     "data": {
      "text/plain": [
       "0.3932948395099838"
      ]
     },
     "execution_count": 22,
     "metadata": {},
     "output_type": "execute_result"
    }
   ],
   "source": [
    "lasso_pred = lasso.predict(X_test)\n",
    "lasso.score(X_test, y_test)"
   ]
  },
  {
   "cell_type": "code",
   "execution_count": 23,
   "metadata": {},
   "outputs": [],
   "source": [
    "coef = lasso.coef_"
   ]
  },
  {
   "cell_type": "code",
   "execution_count": 24,
   "metadata": {},
   "outputs": [],
   "source": [
    "names = X_train.columns"
   ]
  },
  {
   "cell_type": "code",
   "execution_count": 25,
   "metadata": {},
   "outputs": [
    {
     "data": {
      "image/png": "[encoded data removed]",
      "text/plain": [
       "<Figure size 432x288 with 1 Axes>"
      ]
     },
     "metadata": {
      "needs_background": "light"
     },
     "output_type": "display_data"
    }
   ],
   "source": [
    "plt.plot(range(len(X_train.columns)), coef)\n",
    "count = dict()\n",
    "for i in range(len(coef)):\n",
    "    if coef[i] > 0.02:\n",
    "        count[i] = names[i]\n",
    "    else:\n",
    "        count[i] = ''\n",
    "\n",
    "plt.xticks(range(len(count.keys())), count.values(), rotation=90)\n",
    "plt.ylabel('Coefficients')\n",
    "plt.show()"
   ]
  },
  {
   "cell_type": "markdown",
   "metadata": {},
   "source": [
    "It's immediately apparent that atomic mass, atomic radius, and thermal conductivity contribute the most to the critical temperature. However, our model scored only 39%, so obviously there is more to the story."
   ]
  },
  {
   "cell_type": "code",
   "execution_count": 26,
   "metadata": {},
   "outputs": [],
   "source": [
    "param_grid = {'alpha': np.arange(0.1,1,50)}"
   ]
  },
  {
   "cell_type": "code",
   "execution_count": 27,
   "metadata": {},
   "outputs": [
    {
     "name": "stderr",
     "output_type": "stream",
     "text": [
      "/home/dconnolly/anaconda3/lib/python3.7/site-packages/sklearn/linear_model/coordinate_descent.py:492: ConvergenceWarning: Objective did not converge. You might want to increase the number of iterations. Fitting data with very small alpha may cause precision problems.\n",
      "  ConvergenceWarning)\n",
      "/home/dconnolly/anaconda3/lib/python3.7/site-packages/sklearn/linear_model/coordinate_descent.py:492: ConvergenceWarning: Objective did not converge. You might want to increase the number of iterations. Fitting data with very small alpha may cause precision problems.\n",
      "  ConvergenceWarning)\n",
      "/home/dconnolly/anaconda3/lib/python3.7/site-packages/sklearn/linear_model/coordinate_descent.py:492: ConvergenceWarning: Objective did not converge. You might want to increase the number of iterations. Fitting data with very small alpha may cause precision problems.\n",
      "  ConvergenceWarning)\n",
      "/home/dconnolly/anaconda3/lib/python3.7/site-packages/sklearn/linear_model/coordinate_descent.py:492: ConvergenceWarning: Objective did not converge. You might want to increase the number of iterations. Fitting data with very small alpha may cause precision problems.\n",
      "  ConvergenceWarning)\n",
      "/home/dconnolly/anaconda3/lib/python3.7/site-packages/sklearn/linear_model/coordinate_descent.py:492: ConvergenceWarning: Objective did not converge. You might want to increase the number of iterations. Fitting data with very small alpha may cause precision problems.\n",
      "  ConvergenceWarning)\n",
      "/home/dconnolly/anaconda3/lib/python3.7/site-packages/sklearn/linear_model/coordinate_descent.py:492: ConvergenceWarning: Objective did not converge. You might want to increase the number of iterations. Fitting data with very small alpha may cause precision problems.\n",
      "  ConvergenceWarning)\n"
     ]
    },
    {
     "data": {
      "text/plain": [
       "{'alpha': 0.1}"
      ]
     },
     "execution_count": 27,
     "metadata": {},
     "output_type": "execute_result"
    }
   ],
   "source": [
    "lasso = Lasso()\n",
    "lasso_cv = GridSearchCV(lasso, param_grid, cv=5)\n",
    "lasso_cv.fit(X, y)\n",
    "lasso_cv.best_params_"
   ]
  },
  {
   "cell_type": "code",
   "execution_count": 28,
   "metadata": {},
   "outputs": [
    {
     "data": {
      "text/plain": [
       "0.3163159081822262"
      ]
     },
     "execution_count": 28,
     "metadata": {},
     "output_type": "execute_result"
    }
   ],
   "source": [
    "lasso_cv.best_score_"
   ]
  },
  {
   "cell_type": "markdown",
   "metadata": {},
   "source": [
    "Let's look into how the chemical composition affects the critical temperature now."
   ]
  },
  {
   "cell_type": "code",
   "execution_count": 29,
   "metadata": {},
   "outputs": [
    {
     "data": {
      "text/html": [
       "<div>\n",
       "<style scoped>\n",
       "    .dataframe tbody tr th:only-of-type {\n",
       "        vertical-align: middle;\n",
       "    }\n",
       "\n",
       "    .dataframe tbody tr th {\n",
       "        vertical-align: top;\n",
       "    }\n",
       "\n",
       "    .dataframe thead th {\n",
       "        text-align: right;\n",
       "    }\n",
       "</style>\n",
       "<table border=\"1\" class=\"dataframe\">\n",
       "  <thead>\n",
       "    <tr style=\"text-align: right;\">\n",
       "      <th></th>\n",
       "      <th>H</th>\n",
       "      <th>He</th>\n",
       "      <th>Li</th>\n",
       "      <th>Be</th>\n",
       "      <th>B</th>\n",
       "      <th>C</th>\n",
       "      <th>N</th>\n",
       "      <th>O</th>\n",
       "      <th>F</th>\n",
       "      <th>Ne</th>\n",
       "      <th>...</th>\n",
       "      <th>Au</th>\n",
       "      <th>Hg</th>\n",
       "      <th>Tl</th>\n",
       "      <th>Pb</th>\n",
       "      <th>Bi</th>\n",
       "      <th>Po</th>\n",
       "      <th>At</th>\n",
       "      <th>Rn</th>\n",
       "      <th>critical_temp</th>\n",
       "      <th>material</th>\n",
       "    </tr>\n",
       "  </thead>\n",
       "  <tbody>\n",
       "    <tr>\n",
       "      <th>0</th>\n",
       "      <td>0.0</td>\n",
       "      <td>0</td>\n",
       "      <td>0.0</td>\n",
       "      <td>0.0</td>\n",
       "      <td>0.0</td>\n",
       "      <td>0.0</td>\n",
       "      <td>0.0</td>\n",
       "      <td>4.0</td>\n",
       "      <td>0.0</td>\n",
       "      <td>0</td>\n",
       "      <td>...</td>\n",
       "      <td>0.0</td>\n",
       "      <td>0.0</td>\n",
       "      <td>0.0</td>\n",
       "      <td>0.0</td>\n",
       "      <td>0.0</td>\n",
       "      <td>0</td>\n",
       "      <td>0</td>\n",
       "      <td>0</td>\n",
       "      <td>29.0</td>\n",
       "      <td>Ba0.2La1.8Cu1O4</td>\n",
       "    </tr>\n",
       "    <tr>\n",
       "      <th>1</th>\n",
       "      <td>0.0</td>\n",
       "      <td>0</td>\n",
       "      <td>0.0</td>\n",
       "      <td>0.0</td>\n",
       "      <td>0.0</td>\n",
       "      <td>0.0</td>\n",
       "      <td>0.0</td>\n",
       "      <td>4.0</td>\n",
       "      <td>0.0</td>\n",
       "      <td>0</td>\n",
       "      <td>...</td>\n",
       "      <td>0.0</td>\n",
       "      <td>0.0</td>\n",
       "      <td>0.0</td>\n",
       "      <td>0.0</td>\n",
       "      <td>0.0</td>\n",
       "      <td>0</td>\n",
       "      <td>0</td>\n",
       "      <td>0</td>\n",
       "      <td>26.0</td>\n",
       "      <td>Ba0.1La1.9Ag0.1Cu0.9O4</td>\n",
       "    </tr>\n",
       "    <tr>\n",
       "      <th>2</th>\n",
       "      <td>0.0</td>\n",
       "      <td>0</td>\n",
       "      <td>0.0</td>\n",
       "      <td>0.0</td>\n",
       "      <td>0.0</td>\n",
       "      <td>0.0</td>\n",
       "      <td>0.0</td>\n",
       "      <td>4.0</td>\n",
       "      <td>0.0</td>\n",
       "      <td>0</td>\n",
       "      <td>...</td>\n",
       "      <td>0.0</td>\n",
       "      <td>0.0</td>\n",
       "      <td>0.0</td>\n",
       "      <td>0.0</td>\n",
       "      <td>0.0</td>\n",
       "      <td>0</td>\n",
       "      <td>0</td>\n",
       "      <td>0</td>\n",
       "      <td>19.0</td>\n",
       "      <td>Ba0.1La1.9Cu1O4</td>\n",
       "    </tr>\n",
       "    <tr>\n",
       "      <th>3</th>\n",
       "      <td>0.0</td>\n",
       "      <td>0</td>\n",
       "      <td>0.0</td>\n",
       "      <td>0.0</td>\n",
       "      <td>0.0</td>\n",
       "      <td>0.0</td>\n",
       "      <td>0.0</td>\n",
       "      <td>4.0</td>\n",
       "      <td>0.0</td>\n",
       "      <td>0</td>\n",
       "      <td>...</td>\n",
       "      <td>0.0</td>\n",
       "      <td>0.0</td>\n",
       "      <td>0.0</td>\n",
       "      <td>0.0</td>\n",
       "      <td>0.0</td>\n",
       "      <td>0</td>\n",
       "      <td>0</td>\n",
       "      <td>0</td>\n",
       "      <td>22.0</td>\n",
       "      <td>Ba0.15La1.85Cu1O4</td>\n",
       "    </tr>\n",
       "    <tr>\n",
       "      <th>4</th>\n",
       "      <td>0.0</td>\n",
       "      <td>0</td>\n",
       "      <td>0.0</td>\n",
       "      <td>0.0</td>\n",
       "      <td>0.0</td>\n",
       "      <td>0.0</td>\n",
       "      <td>0.0</td>\n",
       "      <td>4.0</td>\n",
       "      <td>0.0</td>\n",
       "      <td>0</td>\n",
       "      <td>...</td>\n",
       "      <td>0.0</td>\n",
       "      <td>0.0</td>\n",
       "      <td>0.0</td>\n",
       "      <td>0.0</td>\n",
       "      <td>0.0</td>\n",
       "      <td>0</td>\n",
       "      <td>0</td>\n",
       "      <td>0</td>\n",
       "      <td>23.0</td>\n",
       "      <td>Ba0.3La1.7Cu1O4</td>\n",
       "    </tr>\n",
       "  </tbody>\n",
       "</table>\n",
       "<p>5 rows × 88 columns</p>\n",
       "</div>"
      ],
      "text/plain": [
       "     H  He   Li   Be    B    C    N    O    F  Ne  ...   Au   Hg   Tl   Pb  \\\n",
       "0  0.0   0  0.0  0.0  0.0  0.0  0.0  4.0  0.0   0  ...  0.0  0.0  0.0  0.0   \n",
       "1  0.0   0  0.0  0.0  0.0  0.0  0.0  4.0  0.0   0  ...  0.0  0.0  0.0  0.0   \n",
       "2  0.0   0  0.0  0.0  0.0  0.0  0.0  4.0  0.0   0  ...  0.0  0.0  0.0  0.0   \n",
       "3  0.0   0  0.0  0.0  0.0  0.0  0.0  4.0  0.0   0  ...  0.0  0.0  0.0  0.0   \n",
       "4  0.0   0  0.0  0.0  0.0  0.0  0.0  4.0  0.0   0  ...  0.0  0.0  0.0  0.0   \n",
       "\n",
       "    Bi  Po  At  Rn  critical_temp                material  \n",
       "0  0.0   0   0   0           29.0         Ba0.2La1.8Cu1O4  \n",
       "1  0.0   0   0   0           26.0  Ba0.1La1.9Ag0.1Cu0.9O4  \n",
       "2  0.0   0   0   0           19.0         Ba0.1La1.9Cu1O4  \n",
       "3  0.0   0   0   0           22.0       Ba0.15La1.85Cu1O4  \n",
       "4  0.0   0   0   0           23.0         Ba0.3La1.7Cu1O4  \n",
       "\n",
       "[5 rows x 88 columns]"
      ]
     },
     "execution_count": 29,
     "metadata": {},
     "output_type": "execute_result"
    }
   ],
   "source": [
    "chems.head()"
   ]
  },
  {
   "cell_type": "code",
   "execution_count": 30,
   "metadata": {},
   "outputs": [],
   "source": [
    "def std_chem_cols(df):\n",
    "    for col in df.columns:\n",
    "        if (col != 'material'):\n",
    "            df[col] = (df[col] - df[col].mean())/df[col].std()\n",
    "    return df"
   ]
  },
  {
   "cell_type": "code",
   "execution_count": 31,
   "metadata": {},
   "outputs": [
    {
     "data": {
      "text/html": [
       "<div>\n",
       "<style scoped>\n",
       "    .dataframe tbody tr th:only-of-type {\n",
       "        vertical-align: middle;\n",
       "    }\n",
       "\n",
       "    .dataframe tbody tr th {\n",
       "        vertical-align: top;\n",
       "    }\n",
       "\n",
       "    .dataframe thead th {\n",
       "        text-align: right;\n",
       "    }\n",
       "</style>\n",
       "<table border=\"1\" class=\"dataframe\">\n",
       "  <thead>\n",
       "    <tr style=\"text-align: right;\">\n",
       "      <th></th>\n",
       "      <th>H</th>\n",
       "      <th>He</th>\n",
       "      <th>Li</th>\n",
       "      <th>Be</th>\n",
       "      <th>B</th>\n",
       "      <th>C</th>\n",
       "      <th>N</th>\n",
       "      <th>O</th>\n",
       "      <th>F</th>\n",
       "      <th>Ne</th>\n",
       "      <th>...</th>\n",
       "      <th>Au</th>\n",
       "      <th>Hg</th>\n",
       "      <th>Tl</th>\n",
       "      <th>Pb</th>\n",
       "      <th>Bi</th>\n",
       "      <th>Po</th>\n",
       "      <th>At</th>\n",
       "      <th>Rn</th>\n",
       "      <th>critical_temp</th>\n",
       "      <th>material</th>\n",
       "    </tr>\n",
       "  </thead>\n",
       "  <tbody>\n",
       "    <tr>\n",
       "      <th>0</th>\n",
       "      <td>-0.06618</td>\n",
       "      <td>NaN</td>\n",
       "      <td>-0.09359</td>\n",
       "      <td>-0.040821</td>\n",
       "      <td>-0.136521</td>\n",
       "      <td>-0.087333</td>\n",
       "      <td>-0.08831</td>\n",
       "      <td>0.259959</td>\n",
       "      <td>-0.112582</td>\n",
       "      <td>NaN</td>\n",
       "      <td>...</td>\n",
       "      <td>-0.028601</td>\n",
       "      <td>-0.178111</td>\n",
       "      <td>-0.176109</td>\n",
       "      <td>-0.15476</td>\n",
       "      <td>-0.30645</td>\n",
       "      <td>NaN</td>\n",
       "      <td>NaN</td>\n",
       "      <td>NaN</td>\n",
       "      <td>-0.158264</td>\n",
       "      <td>Ba0.2La1.8Cu1O4</td>\n",
       "    </tr>\n",
       "    <tr>\n",
       "      <th>1</th>\n",
       "      <td>-0.06618</td>\n",
       "      <td>NaN</td>\n",
       "      <td>-0.09359</td>\n",
       "      <td>-0.040821</td>\n",
       "      <td>-0.136521</td>\n",
       "      <td>-0.087333</td>\n",
       "      <td>-0.08831</td>\n",
       "      <td>0.259959</td>\n",
       "      <td>-0.112582</td>\n",
       "      <td>NaN</td>\n",
       "      <td>...</td>\n",
       "      <td>-0.028601</td>\n",
       "      <td>-0.178111</td>\n",
       "      <td>-0.176109</td>\n",
       "      <td>-0.15476</td>\n",
       "      <td>-0.30645</td>\n",
       "      <td>NaN</td>\n",
       "      <td>NaN</td>\n",
       "      <td>NaN</td>\n",
       "      <td>-0.245844</td>\n",
       "      <td>Ba0.1La1.9Ag0.1Cu0.9O4</td>\n",
       "    </tr>\n",
       "    <tr>\n",
       "      <th>2</th>\n",
       "      <td>-0.06618</td>\n",
       "      <td>NaN</td>\n",
       "      <td>-0.09359</td>\n",
       "      <td>-0.040821</td>\n",
       "      <td>-0.136521</td>\n",
       "      <td>-0.087333</td>\n",
       "      <td>-0.08831</td>\n",
       "      <td>0.259959</td>\n",
       "      <td>-0.112582</td>\n",
       "      <td>NaN</td>\n",
       "      <td>...</td>\n",
       "      <td>-0.028601</td>\n",
       "      <td>-0.178111</td>\n",
       "      <td>-0.176109</td>\n",
       "      <td>-0.15476</td>\n",
       "      <td>-0.30645</td>\n",
       "      <td>NaN</td>\n",
       "      <td>NaN</td>\n",
       "      <td>NaN</td>\n",
       "      <td>-0.450197</td>\n",
       "      <td>Ba0.1La1.9Cu1O4</td>\n",
       "    </tr>\n",
       "    <tr>\n",
       "      <th>3</th>\n",
       "      <td>-0.06618</td>\n",
       "      <td>NaN</td>\n",
       "      <td>-0.09359</td>\n",
       "      <td>-0.040821</td>\n",
       "      <td>-0.136521</td>\n",
       "      <td>-0.087333</td>\n",
       "      <td>-0.08831</td>\n",
       "      <td>0.259959</td>\n",
       "      <td>-0.112582</td>\n",
       "      <td>NaN</td>\n",
       "      <td>...</td>\n",
       "      <td>-0.028601</td>\n",
       "      <td>-0.178111</td>\n",
       "      <td>-0.176109</td>\n",
       "      <td>-0.15476</td>\n",
       "      <td>-0.30645</td>\n",
       "      <td>NaN</td>\n",
       "      <td>NaN</td>\n",
       "      <td>NaN</td>\n",
       "      <td>-0.362617</td>\n",
       "      <td>Ba0.15La1.85Cu1O4</td>\n",
       "    </tr>\n",
       "    <tr>\n",
       "      <th>4</th>\n",
       "      <td>-0.06618</td>\n",
       "      <td>NaN</td>\n",
       "      <td>-0.09359</td>\n",
       "      <td>-0.040821</td>\n",
       "      <td>-0.136521</td>\n",
       "      <td>-0.087333</td>\n",
       "      <td>-0.08831</td>\n",
       "      <td>0.259959</td>\n",
       "      <td>-0.112582</td>\n",
       "      <td>NaN</td>\n",
       "      <td>...</td>\n",
       "      <td>-0.028601</td>\n",
       "      <td>-0.178111</td>\n",
       "      <td>-0.176109</td>\n",
       "      <td>-0.15476</td>\n",
       "      <td>-0.30645</td>\n",
       "      <td>NaN</td>\n",
       "      <td>NaN</td>\n",
       "      <td>NaN</td>\n",
       "      <td>-0.333424</td>\n",
       "      <td>Ba0.3La1.7Cu1O4</td>\n",
       "    </tr>\n",
       "  </tbody>\n",
       "</table>\n",
       "<p>5 rows × 88 columns</p>\n",
       "</div>"
      ],
      "text/plain": [
       "         H  He       Li        Be         B         C        N         O  \\\n",
       "0 -0.06618 NaN -0.09359 -0.040821 -0.136521 -0.087333 -0.08831  0.259959   \n",
       "1 -0.06618 NaN -0.09359 -0.040821 -0.136521 -0.087333 -0.08831  0.259959   \n",
       "2 -0.06618 NaN -0.09359 -0.040821 -0.136521 -0.087333 -0.08831  0.259959   \n",
       "3 -0.06618 NaN -0.09359 -0.040821 -0.136521 -0.087333 -0.08831  0.259959   \n",
       "4 -0.06618 NaN -0.09359 -0.040821 -0.136521 -0.087333 -0.08831  0.259959   \n",
       "\n",
       "          F  Ne  ...        Au        Hg        Tl       Pb       Bi  Po  At  \\\n",
       "0 -0.112582 NaN  ... -0.028601 -0.178111 -0.176109 -0.15476 -0.30645 NaN NaN   \n",
       "1 -0.112582 NaN  ... -0.028601 -0.178111 -0.176109 -0.15476 -0.30645 NaN NaN   \n",
       "2 -0.112582 NaN  ... -0.028601 -0.178111 -0.176109 -0.15476 -0.30645 NaN NaN   \n",
       "3 -0.112582 NaN  ... -0.028601 -0.178111 -0.176109 -0.15476 -0.30645 NaN NaN   \n",
       "4 -0.112582 NaN  ... -0.028601 -0.178111 -0.176109 -0.15476 -0.30645 NaN NaN   \n",
       "\n",
       "   Rn  critical_temp                material  \n",
       "0 NaN      -0.158264         Ba0.2La1.8Cu1O4  \n",
       "1 NaN      -0.245844  Ba0.1La1.9Ag0.1Cu0.9O4  \n",
       "2 NaN      -0.450197         Ba0.1La1.9Cu1O4  \n",
       "3 NaN      -0.362617       Ba0.15La1.85Cu1O4  \n",
       "4 NaN      -0.333424         Ba0.3La1.7Cu1O4  \n",
       "\n",
       "[5 rows x 88 columns]"
      ]
     },
     "execution_count": 31,
     "metadata": {},
     "output_type": "execute_result"
    }
   ],
   "source": [
    "chems = std_chem_cols(chems)\n",
    "chems.head()"
   ]
  },
  {
   "cell_type": "code",
   "execution_count": 32,
   "metadata": {},
   "outputs": [],
   "source": [
    "def remove_nan(df):\n",
    "    cols = list()\n",
    "    for col in df.columns:\n",
    "        if (df[col].sum() == 0.0):\n",
    "            cols.append(col)\n",
    "    return df.drop(columns=cols, axis=1)"
   ]
  },
  {
   "cell_type": "code",
   "execution_count": 33,
   "metadata": {},
   "outputs": [
    {
     "data": {
      "text/html": [
       "<div>\n",
       "<style scoped>\n",
       "    .dataframe tbody tr th:only-of-type {\n",
       "        vertical-align: middle;\n",
       "    }\n",
       "\n",
       "    .dataframe tbody tr th {\n",
       "        vertical-align: top;\n",
       "    }\n",
       "\n",
       "    .dataframe thead th {\n",
       "        text-align: right;\n",
       "    }\n",
       "</style>\n",
       "<table border=\"1\" class=\"dataframe\">\n",
       "  <thead>\n",
       "    <tr style=\"text-align: right;\">\n",
       "      <th></th>\n",
       "      <th>H</th>\n",
       "      <th>Li</th>\n",
       "      <th>Be</th>\n",
       "      <th>B</th>\n",
       "      <th>C</th>\n",
       "      <th>N</th>\n",
       "      <th>O</th>\n",
       "      <th>F</th>\n",
       "      <th>Na</th>\n",
       "      <th>Mg</th>\n",
       "      <th>...</th>\n",
       "      <th>Re</th>\n",
       "      <th>Os</th>\n",
       "      <th>Ir</th>\n",
       "      <th>Au</th>\n",
       "      <th>Hg</th>\n",
       "      <th>Tl</th>\n",
       "      <th>Pb</th>\n",
       "      <th>Bi</th>\n",
       "      <th>critical_temp</th>\n",
       "      <th>material</th>\n",
       "    </tr>\n",
       "  </thead>\n",
       "  <tbody>\n",
       "    <tr>\n",
       "      <th>0</th>\n",
       "      <td>-0.06618</td>\n",
       "      <td>-0.09359</td>\n",
       "      <td>-0.040821</td>\n",
       "      <td>-0.136521</td>\n",
       "      <td>-0.087333</td>\n",
       "      <td>-0.08831</td>\n",
       "      <td>0.259959</td>\n",
       "      <td>-0.112582</td>\n",
       "      <td>-0.087444</td>\n",
       "      <td>-0.098568</td>\n",
       "      <td>...</td>\n",
       "      <td>-0.032448</td>\n",
       "      <td>-0.079754</td>\n",
       "      <td>-0.071177</td>\n",
       "      <td>-0.028601</td>\n",
       "      <td>-0.178111</td>\n",
       "      <td>-0.176109</td>\n",
       "      <td>-0.15476</td>\n",
       "      <td>-0.30645</td>\n",
       "      <td>-0.158264</td>\n",
       "      <td>Ba0.2La1.8Cu1O4</td>\n",
       "    </tr>\n",
       "    <tr>\n",
       "      <th>1</th>\n",
       "      <td>-0.06618</td>\n",
       "      <td>-0.09359</td>\n",
       "      <td>-0.040821</td>\n",
       "      <td>-0.136521</td>\n",
       "      <td>-0.087333</td>\n",
       "      <td>-0.08831</td>\n",
       "      <td>0.259959</td>\n",
       "      <td>-0.112582</td>\n",
       "      <td>-0.087444</td>\n",
       "      <td>-0.098568</td>\n",
       "      <td>...</td>\n",
       "      <td>-0.032448</td>\n",
       "      <td>-0.079754</td>\n",
       "      <td>-0.071177</td>\n",
       "      <td>-0.028601</td>\n",
       "      <td>-0.178111</td>\n",
       "      <td>-0.176109</td>\n",
       "      <td>-0.15476</td>\n",
       "      <td>-0.30645</td>\n",
       "      <td>-0.245844</td>\n",
       "      <td>Ba0.1La1.9Ag0.1Cu0.9O4</td>\n",
       "    </tr>\n",
       "    <tr>\n",
       "      <th>2</th>\n",
       "      <td>-0.06618</td>\n",
       "      <td>-0.09359</td>\n",
       "      <td>-0.040821</td>\n",
       "      <td>-0.136521</td>\n",
       "      <td>-0.087333</td>\n",
       "      <td>-0.08831</td>\n",
       "      <td>0.259959</td>\n",
       "      <td>-0.112582</td>\n",
       "      <td>-0.087444</td>\n",
       "      <td>-0.098568</td>\n",
       "      <td>...</td>\n",
       "      <td>-0.032448</td>\n",
       "      <td>-0.079754</td>\n",
       "      <td>-0.071177</td>\n",
       "      <td>-0.028601</td>\n",
       "      <td>-0.178111</td>\n",
       "      <td>-0.176109</td>\n",
       "      <td>-0.15476</td>\n",
       "      <td>-0.30645</td>\n",
       "      <td>-0.450197</td>\n",
       "      <td>Ba0.1La1.9Cu1O4</td>\n",
       "    </tr>\n",
       "    <tr>\n",
       "      <th>3</th>\n",
       "      <td>-0.06618</td>\n",
       "      <td>-0.09359</td>\n",
       "      <td>-0.040821</td>\n",
       "      <td>-0.136521</td>\n",
       "      <td>-0.087333</td>\n",
       "      <td>-0.08831</td>\n",
       "      <td>0.259959</td>\n",
       "      <td>-0.112582</td>\n",
       "      <td>-0.087444</td>\n",
       "      <td>-0.098568</td>\n",
       "      <td>...</td>\n",
       "      <td>-0.032448</td>\n",
       "      <td>-0.079754</td>\n",
       "      <td>-0.071177</td>\n",
       "      <td>-0.028601</td>\n",
       "      <td>-0.178111</td>\n",
       "      <td>-0.176109</td>\n",
       "      <td>-0.15476</td>\n",
       "      <td>-0.30645</td>\n",
       "      <td>-0.362617</td>\n",
       "      <td>Ba0.15La1.85Cu1O4</td>\n",
       "    </tr>\n",
       "    <tr>\n",
       "      <th>4</th>\n",
       "      <td>-0.06618</td>\n",
       "      <td>-0.09359</td>\n",
       "      <td>-0.040821</td>\n",
       "      <td>-0.136521</td>\n",
       "      <td>-0.087333</td>\n",
       "      <td>-0.08831</td>\n",
       "      <td>0.259959</td>\n",
       "      <td>-0.112582</td>\n",
       "      <td>-0.087444</td>\n",
       "      <td>-0.098568</td>\n",
       "      <td>...</td>\n",
       "      <td>-0.032448</td>\n",
       "      <td>-0.079754</td>\n",
       "      <td>-0.071177</td>\n",
       "      <td>-0.028601</td>\n",
       "      <td>-0.178111</td>\n",
       "      <td>-0.176109</td>\n",
       "      <td>-0.15476</td>\n",
       "      <td>-0.30645</td>\n",
       "      <td>-0.333424</td>\n",
       "      <td>Ba0.3La1.7Cu1O4</td>\n",
       "    </tr>\n",
       "  </tbody>\n",
       "</table>\n",
       "<p>5 rows × 77 columns</p>\n",
       "</div>"
      ],
      "text/plain": [
       "         H       Li        Be         B         C        N         O  \\\n",
       "0 -0.06618 -0.09359 -0.040821 -0.136521 -0.087333 -0.08831  0.259959   \n",
       "1 -0.06618 -0.09359 -0.040821 -0.136521 -0.087333 -0.08831  0.259959   \n",
       "2 -0.06618 -0.09359 -0.040821 -0.136521 -0.087333 -0.08831  0.259959   \n",
       "3 -0.06618 -0.09359 -0.040821 -0.136521 -0.087333 -0.08831  0.259959   \n",
       "4 -0.06618 -0.09359 -0.040821 -0.136521 -0.087333 -0.08831  0.259959   \n",
       "\n",
       "          F        Na        Mg  ...        Re        Os        Ir        Au  \\\n",
       "0 -0.112582 -0.087444 -0.098568  ... -0.032448 -0.079754 -0.071177 -0.028601   \n",
       "1 -0.112582 -0.087444 -0.098568  ... -0.032448 -0.079754 -0.071177 -0.028601   \n",
       "2 -0.112582 -0.087444 -0.098568  ... -0.032448 -0.079754 -0.071177 -0.028601   \n",
       "3 -0.112582 -0.087444 -0.098568  ... -0.032448 -0.079754 -0.071177 -0.028601   \n",
       "4 -0.112582 -0.087444 -0.098568  ... -0.032448 -0.079754 -0.071177 -0.028601   \n",
       "\n",
       "         Hg        Tl       Pb       Bi  critical_temp                material  \n",
       "0 -0.178111 -0.176109 -0.15476 -0.30645      -0.158264         Ba0.2La1.8Cu1O4  \n",
       "1 -0.178111 -0.176109 -0.15476 -0.30645      -0.245844  Ba0.1La1.9Ag0.1Cu0.9O4  \n",
       "2 -0.178111 -0.176109 -0.15476 -0.30645      -0.450197         Ba0.1La1.9Cu1O4  \n",
       "3 -0.178111 -0.176109 -0.15476 -0.30645      -0.362617       Ba0.15La1.85Cu1O4  \n",
       "4 -0.178111 -0.176109 -0.15476 -0.30645      -0.333424         Ba0.3La1.7Cu1O4  \n",
       "\n",
       "[5 rows x 77 columns]"
      ]
     },
     "execution_count": 33,
     "metadata": {},
     "output_type": "execute_result"
    }
   ],
   "source": [
    "chems = remove_nan(chems)\n",
    "chems.head()"
   ]
  },
  {
   "cell_type": "code",
   "execution_count": 34,
   "metadata": {},
   "outputs": [
    {
     "data": {
      "text/plain": [
       "RandomForestRegressor(bootstrap=True, criterion='mse', max_depth=2,\n",
       "           max_features='auto', max_leaf_nodes=None,\n",
       "           min_impurity_decrease=0.0, min_impurity_split=None,\n",
       "           min_samples_leaf=1, min_samples_split=2,\n",
       "           min_weight_fraction_leaf=0.0, n_estimators=100, n_jobs=None,\n",
       "           oob_score=False, random_state=0, verbose=0, warm_start=False)"
      ]
     },
     "execution_count": 34,
     "metadata": {},
     "output_type": "execute_result"
    }
   ],
   "source": [
    "y,X = chems['critical_temp'], chems.drop(['critical_temp','material'], axis=1)\n",
    "regr = RandomForestRegressor(max_depth=2,random_state=0,n_estimators=100)\n",
    "regr.fit(X,y)"
   ]
  },
  {
   "cell_type": "code",
   "execution_count": 35,
   "metadata": {},
   "outputs": [],
   "source": [
    "def get_chem_feats(df, importance):\n",
    "    ll = dict()\n",
    "    diff = len(df.columns) - len(importance)\n",
    "    for i in range(len(df.columns)-diff):\n",
    "        if (importance[i] > 0):\n",
    "            ll[df.columns[i]] = importance[i]\n",
    "    return ll"
   ]
  },
  {
   "cell_type": "code",
   "execution_count": 36,
   "metadata": {},
   "outputs": [
    {
     "data": {
      "text/plain": [
       "{'O': 0.034349245096133116,\n",
       " 'Ca': 0.061597954245700394,\n",
       " 'Cu': 0.8945941363993106,\n",
       " 'Ba': 0.009458664258855505}"
      ]
     },
     "execution_count": 36,
     "metadata": {},
     "output_type": "execute_result"
    }
   ],
   "source": [
    "imp = regr.feature_importances_\n",
    "get_chem_feats(chems, imp)"
   ]
  },
  {
   "cell_type": "markdown",
   "metadata": {},
   "source": [
    "Copper seems to play a major role in determining the critical temperature of superconductors. I suppose this means copper is in most superconductors?"
   ]
  },
  {
   "cell_type": "code",
   "execution_count": 37,
   "metadata": {},
   "outputs": [
    {
     "data": {
      "text/plain": [
       "[<matplotlib.lines.Line2D at 0x7f1e16888390>]"
      ]
     },
     "execution_count": 37,
     "metadata": {},
     "output_type": "execute_result"
    },
    {
     "data": {
      "image/png": "[encoded data removed]",
      "text/plain": [
       "<Figure size 432x288 with 1 Axes>"
      ]
     },
     "metadata": {
      "needs_background": "light"
     },
     "output_type": "display_data"
    }
   ],
   "source": [
    "plt.plot(df_std['mean_Density'], df_std['critical_temp'], 'o', markersize=1)"
   ]
  },
  {
   "cell_type": "markdown",
   "metadata": {},
   "source": [
    "The above looks like a skewed Gaussian distribution to me."
   ]
  },
  {
   "cell_type": "code",
   "execution_count": 38,
   "metadata": {},
   "outputs": [
    {
     "name": "stderr",
     "output_type": "stream",
     "text": [
      "/home/dconnolly/anaconda3/lib/python3.7/site-packages/scipy/optimize/minpack.py:794: OptimizeWarning: Covariance of the parameters could not be estimated\n",
      "  category=OptimizeWarning)\n"
     ]
    },
    {
     "data": {
      "text/plain": [
       "[<matplotlib.lines.Line2D at 0x7f1e1680ce48>]"
      ]
     },
     "execution_count": 38,
     "metadata": {},
     "output_type": "execute_result"
    },
    {
     "data": {
      "image/png": "[encoded data removed]",
      "text/plain": [
       "<Figure size 432x288 with 1 Axes>"
      ]
     },
     "metadata": {
      "needs_background": "light"
     },
     "output_type": "display_data"
    }
   ],
   "source": [
    "from scipy.optimize import curve_fit\n",
    "mean, var = df_std['mean_Density'].mean(), df_std['mean_Density'].std()**2\n",
    "\n",
    "def gauss(x, *p):\n",
    "    A, mu, sigma = p\n",
    "    return A*np.exp(-(x-mu)**2/(2.*sigma**2))\n",
    "\n",
    "coeff, var_mat = curve_fit(gauss,df_std['mean_Density'],df_std['critical_temp'],p0=[1,mean,var])\n",
    "hist_fit = gauss(df_std['mean_Density'], *coeff)\n",
    "plt.plot(df_std['mean_Density'], hist_fit, label='Fitted data')\n",
    "\n",
    "\n",
    "# x, y = np.random.multivariate_normal(mean, var, size=50).T\n",
    "# ax = sns.kdeplot(x)\n"
   ]
  },
  {
   "cell_type": "markdown",
   "metadata": {},
   "source": [
    "I still need to get the above plot to work."
   ]
  },
  {
   "cell_type": "code",
   "execution_count": null,
   "metadata": {},
   "outputs": [],
   "source": []
  }
 ],
 "metadata": {
  "kernelspec": {
   "display_name": "Python 3",
   "language": "python",
   "name": "python3"
  },
  "language_info": {
   "codemirror_mode": {
    "name": "ipython",
    "version": 3
   },
   "file_extension": ".py",
   "mimetype": "text/x-python",
   "name": "python",
   "nbconvert_exporter": "python",
   "pygments_lexer": "ipython3",
   "version": "3.7.1"
  }
 },
 "nbformat": 4,
 "nbformat_minor": 2
}
